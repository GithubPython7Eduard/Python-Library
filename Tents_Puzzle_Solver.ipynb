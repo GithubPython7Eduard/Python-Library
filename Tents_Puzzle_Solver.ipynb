{
  "nbformat": 4,
  "nbformat_minor": 0,
  "metadata": {
    "colab": {
      "provenance": [],
      "authorship_tag": "ABX9TyPL1AffJ3KYLOPA34hhoLMr",
      "include_colab_link": true
    },
    "kernelspec": {
      "name": "python3",
      "display_name": "Python 3"
    },
    "language_info": {
      "name": "python"
    }
  },
  "cells": [
    {
      "cell_type": "markdown",
      "metadata": {
        "id": "view-in-github",
        "colab_type": "text"
      },
      "source": [
        "<a href=\"https://colab.research.google.com/github/GithubPython7Eduard/Python-Library/blob/main/Tents_Puzzle_Solver.ipynb\" target=\"_parent\"><img src=\"https://colab.research.google.com/assets/colab-badge.svg\" alt=\"Open In Colab\"/></a>"
      ]
    },
    {
      "cell_type": "markdown",
      "source": [
        "\n",
        "\n"
      ],
      "metadata": {
        "id": "XQtZdqH-HK2-"
      }
    },
    {
      "cell_type": "markdown",
      "source": [
        "**# 🏕️ Tents Puzzle Solver using ASP (Answer Set Programming)\n",
        "**\n",
        "This project provides a logic-based solver for the **Tents and Trees Puzzle** using **Answer Set Programming** with `clingo`.  \n",
        "It models the constraints of the puzzle and computes valid tent placements based on given trees and row/column constraints."
      ],
      "metadata": {
        "id": "oMACLkmeGaXI"
      }
    },
    {
      "cell_type": "markdown",
      "source": [
        "**## 📌 Problem Description\n",
        "**\n",
        "The **Tents Puzzle** consists of a rectangular grid with:\n",
        "\n",
        "- **Trees (🌳)** placed at known coordinates\n",
        "- The goal is to place **tents (⛺)** such that:\n",
        "  - Each **tree has exactly one adjacent tent** (up/down/left/right)\n",
        "  - **Tents are not adjacent** to each other, even diagonally\n",
        "  - The number of tents per row and per column is predefined\n"
      ],
      "metadata": {
        "id": "ZlMn5qTSHYaE"
      }
    },
    {
      "cell_type": "markdown",
      "source": [
        "**## 🧠 Approach\n",
        "**\n",
        "This solver uses:\n",
        "\n",
        "- **ASP (Answer Set Programming)** via the `clingo` solver\n",
        "- Logical constraints to express:\n",
        "  - Tent adjacency rules\n",
        "  - Tent-tree matching\n",
        "  - Tent isolation from other tents\n",
        "  - Row and column tent counts\n"
      ],
      "metadata": {
        "id": "RsOO2JHlHij0"
      }
    },
    {
      "cell_type": "code",
      "source": [
        "!sudo add-apt-repository ppa:potassco/stable -y\n",
        "!sudo apt-get update"
      ],
      "metadata": {
        "colab": {
          "base_uri": "https://localhost:8080/"
        },
        "id": "FB4wEao4CA80",
        "outputId": "d825d034-0fa0-4d4c-c437-a41e271efeee"
      },
      "execution_count": null,
      "outputs": [
        {
          "output_type": "stream",
          "name": "stdout",
          "text": [
            "Repository: 'deb https://ppa.launchpadcontent.net/potassco/stable/ubuntu/ jammy main'\n",
            "Description:\n",
            "Contains the stable releases of systems from the https://potassco.org project.\n",
            "More info: https://launchpad.net/~potassco/+archive/ubuntu/stable\n",
            "Adding repository.\n",
            "Found existing deb entry in /etc/apt/sources.list.d/potassco-ubuntu-stable-jammy.list\n",
            "Adding deb entry to /etc/apt/sources.list.d/potassco-ubuntu-stable-jammy.list\n",
            "Found existing deb-src entry in /etc/apt/sources.list.d/potassco-ubuntu-stable-jammy.list\n",
            "Adding disabled deb-src entry to /etc/apt/sources.list.d/potassco-ubuntu-stable-jammy.list\n",
            "Adding key to /etc/apt/trusted.gpg.d/potassco-ubuntu-stable.gpg with fingerprint 7AA3F20F5BDCBF2F78090C08DE1AB6C94EFE9A64\n",
            "Hit:1 https://cloud.r-project.org/bin/linux/ubuntu jammy-cran40/ InRelease\n",
            "Hit:2 https://developer.download.nvidia.com/compute/cuda/repos/ubuntu2204/x86_64  InRelease\n",
            "Hit:3 http://security.ubuntu.com/ubuntu jammy-security InRelease\n",
            "Hit:4 http://archive.ubuntu.com/ubuntu jammy InRelease\n",
            "Hit:5 https://r2u.stat.illinois.edu/ubuntu jammy InRelease\n",
            "Hit:6 http://archive.ubuntu.com/ubuntu jammy-updates InRelease\n",
            "Hit:7 http://archive.ubuntu.com/ubuntu jammy-backports InRelease\n",
            "Hit:8 https://ppa.launchpadcontent.net/deadsnakes/ppa/ubuntu jammy InRelease\n",
            "Hit:9 https://ppa.launchpadcontent.net/graphics-drivers/ppa/ubuntu jammy InRelease\n",
            "Hit:10 https://ppa.launchpadcontent.net/potassco/stable/ubuntu jammy InRelease\n",
            "Hit:11 https://ppa.launchpadcontent.net/ubuntugis/ppa/ubuntu jammy InRelease\n",
            "Reading package lists... Done\n",
            "W: Skipping acquire of configured file 'main/source/Sources' as repository 'https://r2u.stat.illinois.edu/ubuntu jammy InRelease' does not seem to provide it (sources.list entry misspelt?)\n",
            "Hit:1 http://security.ubuntu.com/ubuntu jammy-security InRelease\n",
            "Hit:2 http://archive.ubuntu.com/ubuntu jammy InRelease\n",
            "Hit:3 http://archive.ubuntu.com/ubuntu jammy-updates InRelease\n",
            "Hit:4 http://archive.ubuntu.com/ubuntu jammy-backports InRelease\n",
            "Hit:5 https://cloud.r-project.org/bin/linux/ubuntu jammy-cran40/ InRelease\n",
            "Hit:6 https://r2u.stat.illinois.edu/ubuntu jammy InRelease\n",
            "Hit:7 https://developer.download.nvidia.com/compute/cuda/repos/ubuntu2204/x86_64  InRelease\n",
            "Hit:8 https://ppa.launchpadcontent.net/deadsnakes/ppa/ubuntu jammy InRelease\n",
            "Hit:9 https://ppa.launchpadcontent.net/graphics-drivers/ppa/ubuntu jammy InRelease\n",
            "Hit:10 https://ppa.launchpadcontent.net/potassco/stable/ubuntu jammy InRelease\n",
            "Hit:11 https://ppa.launchpadcontent.net/ubuntugis/ppa/ubuntu jammy InRelease\n",
            "Reading package lists... Done\n",
            "W: Skipping acquire of configured file 'main/source/Sources' as repository 'https://r2u.stat.illinois.edu/ubuntu jammy InRelease' does not seem to provide it (sources.list entry misspelt?)\n"
          ]
        }
      ]
    },
    {
      "cell_type": "markdown",
      "source": [],
      "metadata": {
        "id": "tInC_aTQGxqK"
      }
    },
    {
      "cell_type": "code",
      "source": [
        "!sudo apt-get install clingo -y"
      ],
      "metadata": {
        "colab": {
          "base_uri": "https://localhost:8080/"
        },
        "id": "m98fEtcvCLA3",
        "outputId": "10f58b67-c61f-479a-cae2-66320e951d4a"
      },
      "execution_count": null,
      "outputs": [
        {
          "output_type": "stream",
          "name": "stdout",
          "text": [
            "Reading package lists... Done\n",
            "Building dependency tree... Done\n",
            "Reading state information... Done\n",
            "clingo is already the newest version (5.8.0-jammy1).\n",
            "0 upgraded, 0 newly installed, 0 to remove and 35 not upgraded.\n"
          ]
        }
      ]
    },
    {
      "cell_type": "code",
      "execution_count": null,
      "metadata": {
        "colab": {
          "base_uri": "https://localhost:8080/"
        },
        "id": "6MYuM-4S8qZw",
        "outputId": "fabd0755-4cb2-4bfc-b1f2-93db68e63fd0"
      },
      "outputs": [
        {
          "output_type": "stream",
          "name": "stdout",
          "text": [
            "clingo version 5.8.0 (6d1efb6)\n",
            "Address model: 64-bit\n",
            "\n",
            "libclingo version 5.8.0\n",
            "Configuration: with Python 3.10.12, with Lua 5.3.6\n",
            "\n",
            "libclasp version 3.4.0 (libpotassco version 1.2.0)\n",
            "Configuration: WITH_THREADS=1\n",
            "Copyright (C) Benjamin Kaufmann\n",
            "\n",
            "License: The MIT License <https://opensource.org/licenses/MIT>\n"
          ]
        }
      ],
      "source": [
        "!clingo --version"
      ]
    },
    {
      "cell_type": "code",
      "source": [
        "!sudo apt-get install clingo"
      ],
      "metadata": {
        "colab": {
          "base_uri": "https://localhost:8080/"
        },
        "id": "GJADgcaiC37o",
        "outputId": "c11bb999-d304-4f73-eeab-13b221531905"
      },
      "execution_count": null,
      "outputs": [
        {
          "output_type": "stream",
          "name": "stdout",
          "text": [
            "Reading package lists... Done\n",
            "Building dependency tree... Done\n",
            "Reading state information... Done\n",
            "clingo is already the newest version (5.8.0-jammy1).\n",
            "0 upgraded, 0 newly installed, 0 to remove and 35 not upgraded.\n"
          ]
        }
      ]
    },
    {
      "cell_type": "code",
      "source": [
        "!sudo apt update\n"
      ],
      "metadata": {
        "colab": {
          "base_uri": "https://localhost:8080/"
        },
        "id": "nG7T1F_h8055",
        "outputId": "30a433fd-cc08-46f2-d0c3-44e079ef17be"
      },
      "execution_count": null,
      "outputs": [
        {
          "output_type": "stream",
          "name": "stdout",
          "text": [
            "\u001b[33m\r0% [Working]\u001b[0m\r            \rHit:1 http://archive.ubuntu.com/ubuntu jammy InRelease\n",
            "\u001b[33m\r0% [Connecting to security.ubuntu.com (185.125.190.81)] [Connected to cloud.r-p\u001b[0m\r                                                                               \rHit:2 http://archive.ubuntu.com/ubuntu jammy-updates InRelease\n",
            "\r                                                                               \rHit:3 http://archive.ubuntu.com/ubuntu jammy-backports InRelease\n",
            "\u001b[33m\r0% [Connecting to security.ubuntu.com (185.125.190.81)] [Connected to cloud.r-p\u001b[0m\r                                                                               \rHit:4 https://cloud.r-project.org/bin/linux/ubuntu jammy-cran40/ InRelease\n",
            "\u001b[33m\r0% [Connecting to security.ubuntu.com (185.125.190.81)] [Connected to r2u.stat.\u001b[0m\r                                                                               \rHit:5 https://developer.download.nvidia.com/compute/cuda/repos/ubuntu2204/x86_64  InRelease\n",
            "\u001b[33m\r0% [Waiting for headers] [Waiting for headers] [Connected to ppa.launchpadconte\u001b[0m\r                                                                               \rHit:6 http://security.ubuntu.com/ubuntu jammy-security InRelease\n",
            "Hit:7 https://r2u.stat.illinois.edu/ubuntu jammy InRelease\n",
            "Hit:8 https://ppa.launchpadcontent.net/deadsnakes/ppa/ubuntu jammy InRelease\n",
            "Hit:9 https://ppa.launchpadcontent.net/graphics-drivers/ppa/ubuntu jammy InRelease\n",
            "Hit:10 https://ppa.launchpadcontent.net/potassco/stable/ubuntu jammy InRelease\n",
            "Hit:11 https://ppa.launchpadcontent.net/ubuntugis/ppa/ubuntu jammy InRelease\n",
            "Reading package lists... Done\n",
            "Building dependency tree... Done\n",
            "Reading state information... Done\n",
            "35 packages can be upgraded. Run 'apt list --upgradable' to see them.\n",
            "\u001b[1;33mW: \u001b[0mSkipping acquire of configured file 'main/source/Sources' as repository 'https://r2u.stat.illinois.edu/ubuntu jammy InRelease' does not seem to provide it (sources.list entry misspelt?)\u001b[0m\n"
          ]
        }
      ]
    },
    {
      "cell_type": "code",
      "source": [
        "!sudo apt-get update\n",
        "!sudo apt-get install minisat"
      ],
      "metadata": {
        "colab": {
          "base_uri": "https://localhost:8080/"
        },
        "id": "RAZ7o7bOIX4X",
        "outputId": "7fd98621-8c09-4311-aa45-71f8d239af36"
      },
      "execution_count": null,
      "outputs": [
        {
          "output_type": "stream",
          "name": "stdout",
          "text": [
            "\r0% [Working]\r            \rHit:1 http://archive.ubuntu.com/ubuntu jammy InRelease\n",
            "\r0% [Waiting for headers] [Connecting to security.ubuntu.com] [Connected to clou\r                                                                               \rHit:2 http://archive.ubuntu.com/ubuntu jammy-updates InRelease\n",
            "\r0% [Waiting for headers] [Connecting to security.ubuntu.com] [Connected to clou\r                                                                               \rHit:3 http://archive.ubuntu.com/ubuntu jammy-backports InRelease\n",
            "\r0% [Connecting to security.ubuntu.com] [Connected to cloud.r-project.org (108.1\r                                                                               \rHit:4 https://cloud.r-project.org/bin/linux/ubuntu jammy-cran40/ InRelease\n",
            "\r0% [Connecting to security.ubuntu.com] [Connected to r2u.stat.illinois.edu (192\r                                                                               \rHit:5 https://developer.download.nvidia.com/compute/cuda/repos/ubuntu2204/x86_64  InRelease\n",
            "\r0% [Waiting for headers] [Waiting for headers] [Connected to ppa.launchpadconte\r                                                                               \rHit:6 http://security.ubuntu.com/ubuntu jammy-security InRelease\n",
            "Hit:7 https://r2u.stat.illinois.edu/ubuntu jammy InRelease\n",
            "Hit:8 https://ppa.launchpadcontent.net/deadsnakes/ppa/ubuntu jammy InRelease\n",
            "Hit:9 https://ppa.launchpadcontent.net/graphics-drivers/ppa/ubuntu jammy InRelease\n",
            "Hit:10 https://ppa.launchpadcontent.net/potassco/stable/ubuntu jammy InRelease\n",
            "Hit:11 https://ppa.launchpadcontent.net/ubuntugis/ppa/ubuntu jammy InRelease\n",
            "Reading package lists... Done\n",
            "W: Skipping acquire of configured file 'main/source/Sources' as repository 'https://r2u.stat.illinois.edu/ubuntu jammy InRelease' does not seem to provide it (sources.list entry misspelt?)\n",
            "Reading package lists... Done\n",
            "Building dependency tree... Done\n",
            "Reading state information... Done\n",
            "minisat is already the newest version (1:2.2.1-5build2).\n",
            "0 upgraded, 0 newly installed, 0 to remove and 35 not upgraded.\n"
          ]
        }
      ]
    },
    {
      "cell_type": "code",
      "source": [
        "!sudo apt-get install minisat"
      ],
      "metadata": {
        "colab": {
          "base_uri": "https://localhost:8080/"
        },
        "id": "_H_Ge3UAJpic",
        "outputId": "11483c1d-a3a0-4485-cfbe-39174d3a517b"
      },
      "execution_count": null,
      "outputs": [
        {
          "output_type": "stream",
          "name": "stdout",
          "text": [
            "Reading package lists... Done\n",
            "Building dependency tree... Done\n",
            "Reading state information... Done\n",
            "minisat is already the newest version (1:2.2.1-5build2).\n",
            "0 upgraded, 0 newly installed, 0 to remove and 35 not upgraded.\n"
          ]
        }
      ]
    },
    {
      "cell_type": "code",
      "source": [
        "!minisat my_problem.dimacs solution.txt"
      ],
      "metadata": {
        "colab": {
          "base_uri": "https://localhost:8080/"
        },
        "id": "uxKTv923JtHP",
        "outputId": "ad575297-e4d4-46b8-fc64-63bc5f2cb2d8"
      },
      "execution_count": null,
      "outputs": [
        {
          "output_type": "stream",
          "name": "stdout",
          "text": [
            "WARNING: for repeatability, setting FPU to use double precision\n",
            "============================[ Problem Statistics ]=============================\n",
            "|                                                                             |\n",
            "|  Number of variables:             3                                         |\n",
            "|  Number of clauses:               2                                         |\n",
            "|  Parse time:                   0.00 s                                       |\n",
            "|  Eliminated clauses:           0.00 Mb                                      |\n",
            "|  Simplification time:          0.00 s                                       |\n",
            "|                                                                             |\n",
            "============================[ Search Statistics ]==============================\n",
            "| Conflicts |          ORIGINAL         |          LEARNT          | Progress |\n",
            "|           |    Vars  Clauses Literals |    Limit  Clauses Lit/Cl |          |\n",
            "===============================================================================\n",
            "===============================================================================\n",
            "restarts              : 1\n",
            "conflicts             : 0              (0 /sec)\n",
            "decisions             : 1              (0.00 % random) (925 /sec)\n",
            "propagations          : 0              (0 /sec)\n",
            "conflict literals     : 0              (-nan % deleted)\n",
            "Memory used           : 11.00 MB\n",
            "CPU time              : 0.001081 s\n",
            "\n",
            "SATISFIABLE\n"
          ]
        }
      ]
    },
    {
      "cell_type": "code",
      "source": [
        "!cat solution.txt"
      ],
      "metadata": {
        "colab": {
          "base_uri": "https://localhost:8080/"
        },
        "id": "YNQpNbB-LHDT",
        "outputId": "f9f6f76d-587b-4cc6-a327-780960c9c4c0"
      },
      "execution_count": null,
      "outputs": [
        {
          "output_type": "stream",
          "name": "stdout",
          "text": [
            "SAT\n",
            "-1 2 3 0\n"
          ]
        }
      ]
    },
    {
      "cell_type": "markdown",
      "source": [
        "Creating DIMACS file in Python"
      ],
      "metadata": {
        "id": "iYiSLG0HEoYC"
      }
    },
    {
      "cell_type": "code",
      "source": [
        "%%writefile my_problem.dimacs\n",
        "c is a logical problem. 3 variables, 2 conditions\n",
        "p cnf 3 2\n",
        "1 2 0       c x1 OR x2\n",
        "-1 3 0      c NOT x1 OR x3"
      ],
      "metadata": {
        "colab": {
          "base_uri": "https://localhost:8080/"
        },
        "id": "4N31Gl1wDwrK",
        "outputId": "2f83e838-aa12-4139-b81d-3abb8e9df833"
      },
      "execution_count": null,
      "outputs": [
        {
          "output_type": "stream",
          "name": "stdout",
          "text": [
            "Overwriting my_problem.dimacs\n"
          ]
        }
      ]
    },
    {
      "cell_type": "code",
      "source": [
        "!cat my_problem.dimacs"
      ],
      "metadata": {
        "colab": {
          "base_uri": "https://localhost:8080/"
        },
        "id": "Ck8edvG4D65V",
        "outputId": "abeeba58-2982-4596-d5c2-4245527a7fd3"
      },
      "execution_count": null,
      "outputs": [
        {
          "output_type": "stream",
          "name": "stdout",
          "text": [
            "c is a logical problem. 3 variables, 2 conditions\n",
            "p cnf 3 2\n",
            "1 2 0       c x1 OR x2\n",
            "-1 3 0      c NOT x1 OR x3\n"
          ]
        }
      ]
    },
    {
      "cell_type": "markdown",
      "source": [
        "Define the mapping of variables (for example, A=1, G1=6, Ab_G1=11):"
      ],
      "metadata": {
        "id": "WIWwUXDQ-NpG"
      }
    },
    {
      "cell_type": "code",
      "source": [
        "# creating variables A=1, G1=6, Ab_G1=11\n",
        "variables = {\n",
        "    'A': 1, 'B': 2, 'C': 3, 'D': 4, 'E': 5,\n",
        "    'G1': 6, 'G2': 7, 'G3': 8, 'G4': 9, 'G5': 10,\n",
        "    'Ab_G1': 11, 'Ab_G2': 12, 'Ab_G3': 13, 'Ab_G4': 14, 'Ab_G5': 15\n",
        "}"
      ],
      "metadata": {
        "id": "3db20jMv-NB7"
      },
      "execution_count": null,
      "outputs": []
    },
    {
      "cell_type": "markdown",
      "source": [
        "**Write down the CNF disjunctions for each gateway**"
      ],
      "metadata": {
        "id": "GqG1H7nS-3oW"
      }
    },
    {
      "cell_type": "code",
      "source": [
        "# G1 AND gates (B ¬C → G1)\n",
        "clauses = [\n",
        "    [-variables['Ab_G1'], -variables['G1'], -variables['B']],  # ¬Ab_G1 → (¬G1 ∨ ¬B)\n",
        "    [-variables['Ab_G1'], -variables['G1'], variables['C']],    # ¬Ab_G1 → (¬G1 ∨ C)\n",
        "    [-variables['Ab_G1'], variables['G1'], variables['B'], -variables['C']]  # ¬Ab_G1 → (G1 ∨ B ∨ ¬C)\n",
        "]"
      ],
      "metadata": {
        "id": "jOUTEICr-8UK"
      },
      "execution_count": null,
      "outputs": []
    },
    {
      "cell_type": "markdown",
      "source": [
        "Description\n",
        "\n",
        "**Rule 1** (¬Ab_G1 ∨ ¬G1 ∨ B)\n",
        "\n",
        "If gates normal (Ab_G1 = 0), and G1 = 1, then B-ն must be 1:\n",
        "(AND gateway logic՝ G1 = B ∧ ¬C)\n",
        "\n",
        "\n",
        "**Rule 2** (Ab_G1 ∨ G1 ∨ C):\n",
        "If the valve is normal (Ab_G1 = 0) and G1 = 1, then C must necessarily be 0:\n",
        "(The second entry of the ant in C)\n",
        "\n",
        "**Rule 3** (Ab_G1 ∨ G1 ∨ B ∨ C):\n",
        "If the valve is normal (Ab_G1 = 0) and B = 1, C = 0, then G1 must necessarily be equal to 1:\n",
        "(The FSX output must match the records)"
      ],
      "metadata": {
        "id": "cZ8ynVhDGyXp"
      }
    },
    {
      "cell_type": "code",
      "source": [
        "# to save DIMACS file\n",
        "with open('circuit.dimacs', 'w') as f:\n",
        "    f.write(f\"p cnf {len(variables)} {len(clauses)}\\n\")\n",
        "    for clause in clauses:\n",
        "        f.write(\" \".join(map(str, clause)) + \" 0\\n\")  # DIMACS format each disjunction end in 0"
      ],
      "metadata": {
        "id": "1KcGGtPW_uFI"
      },
      "execution_count": null,
      "outputs": []
    },
    {
      "cell_type": "markdown",
      "source": [
        "**Add Obs1 (circuit-observation1.dimacs)**"
      ],
      "metadata": {
        "id": "pEl9Tpi8_6J4"
      }
    },
    {
      "cell_type": "code",
      "source": [
        "obs1 = [\n",
        "    variables['G5'],\n",
        "    -variables['Ab_G1'], -variables['Ab_G2'], -variables['Ab_G3'], -variables['Ab_G4'], -variables['Ab_G5']\n",
        "]\n",
        "with open('circuit-observation1.dimacs', 'w') as f:\n",
        "    f.write(\"p cnf 15 20\\n\")  # to clarify numbers\n",
        "    for clause in clauses + [[x] for x in obs1]:\n",
        "        f.write(\" \".join(map(str, clause)) + \" 0\\n\")"
      ],
      "metadata": {
        "id": "_VISbWLaADv2"
      },
      "execution_count": null,
      "outputs": []
    },
    {
      "cell_type": "markdown",
      "source": [
        "**Obs 2 (A=true, B/C/D=false, E=true, G5=false)**"
      ],
      "metadata": {
        "id": "FW4giazfZ7sr"
      }
    },
    {
      "cell_type": "code",
      "source": [
        "# to use variables map\n",
        "obs2_hard_clauses = [\n",
        "    [1],    # A = true (A=1)\n",
        "    [-2],   # B = false (¬B)\n",
        "    [-3],   # C = false (¬C)\n",
        "    [-4],   # D = false (¬D)\n",
        "    [5],    # E = true (E=5)\n",
        "    [-10]   # G5 = false (¬G5)\n",
        "]"
      ],
      "metadata": {
        "id": "EEGYxuEbceDk"
      },
      "execution_count": null,
      "outputs": []
    },
    {
      "cell_type": "code",
      "source": [
        "# Adding diagnosis.wdimacs file\n",
        "# SD-ի clauses\n",
        "sd_clauses = clauses  # clauses contains the gateway logic\n",
        "\n",
        "# Soft clauses (each Ab_Gi-ի 1 by weight)\n",
        "soft_clauses = [\n",
        "    [variables['Ab_G1']],\n",
        "    [variables['Ab_G2']],\n",
        "    [variables['Ab_G3']],\n",
        "    [variables['Ab_G4']],\n",
        "    [variables['Ab_G5']]\n",
        "]\n",
        "\n",
        "# To write diagnosis.wdimacs\n",
        "with open('diagnosis.wdimacs', 'w') as f:\n",
        "    # Calculate the total number of clauses\n",
        "    total_clauses = len(sd_clauses) + len(obs2_hard_clauses) + len(soft_clauses)\n",
        "    f.write(f\"p wcnf 15 {total_clauses}\\n\")  # 15 variable\n",
        "\n",
        "    # SD-ի clauses (hard)\n",
        "    for clause in sd_clauses:\n",
        "        f.write(\"100 \" + \" \".join(map(str, clause)) + \" 0\\n\")  # weight 100\n",
        "\n",
        "    # Obs2-ի conditions (hard)\n",
        "    for clause in obs2_hard_clauses:\n",
        "        f.write(\"100 \" + \" \".join(map(str, clause)) + \" 0\\n\")  # weight 100\n",
        "\n",
        "    # Ab_Gi variables (soft)\n",
        "    for clause in soft_clauses:\n",
        "        f.write(\"1 \" + \" \".join(map(str, clause)) + \" 0\\n\")    # weight 1"
      ],
      "metadata": {
        "id": "7Ocsf1SfczM6"
      },
      "execution_count": null,
      "outputs": []
    },
    {
      "cell_type": "markdown",
      "source": [
        "**Part B. Tents Game (Answer Set Programming)**"
      ],
      "metadata": {
        "id": "aCJglQf_A1lW"
      }
    },
    {
      "cell_type": "code",
      "source": [
        "# to create placement.asp file\n",
        "with open('placement.asp', 'w') as f:\n",
        "    f.write(\"\"\"\n",
        "\n",
        "row(1..n).\n",
        "column(1..n).\n",
        "\n",
        "adjacent(X,Y,X+1,Y) :- row(X), column(Y), row(X+1).\n",
        "adjacent(X,Y,X-1,Y) :- row(X), column(Y), row(X-1).\n",
        "adjacent(X,Y,X,Y+1) :- row(X), column(Y), column(Y+1).\n",
        "adjacent(X,Y,X,Y-1) :- row(X), column(Y), column(Y-1).\n",
        "\n",
        "% Choosing anchors\n",
        "{tents(X,Y)} :- row(X), column(Y).\n",
        "\n",
        "% There should be an anchor next to the tree (4-sided neighbor)\n",
        ":- tree(X,Y), 0 { tents(A,B) : adjacent(X,Y,A,B) } 0.\n",
        "\n",
        "\n",
        "% The anchor must be located next to the tree (4-sided neighbor)\n",
        ":- tents(X,Y), 0 { tree(A,B) : adjacent(X,Y,A,B) } 0.\n",
        "\n",
        "\n",
        "% Anchors cannot be connected together (neighbor with 8 sides)\n",
        ":- tents(X,Y), tents(X+1,Y).    % →\n",
        ":- tents(X,Y), tents(X,Y+1).    % ↓\n",
        "\n",
        "% Limiting the number of anchors in rows and columns\n",
        ":- numberOfTentsInRow(R,N), N != #count{Y : tents(R,Y)}.\n",
        ":- numberOfTentsInCol(C,N), N != #count{X : tents(X,C)}.\n",
        "\n",
        "#show tents/2.\n",
        "\"\"\")"
      ],
      "metadata": {
        "id": "Gkm2jB2oA4YB"
      },
      "execution_count": null,
      "outputs": []
    },
    {
      "cell_type": "markdown",
      "source": [
        "Creating file example (`instance.asp`)"
      ],
      "metadata": {
        "id": "e9vHWj8oShYN"
      }
    },
    {
      "cell_type": "code",
      "source": [
        "with open('instance.asp', 'w') as f:\n",
        "    f.write(\"\"\"\n",
        "#const n=3.\n",
        "tree(1,2). tree(2,3). tree(3,2).\n",
        "\n",
        "numberOfTentsInRow(1,1).\n",
        "numberOfTentsInRow(2,1).\n",
        "numberOfTentsInRow(3,0).\n",
        "numberOfTentsInCol(1,1).\n",
        "numberOfTentsInCol(2,1).\n",
        "numberOfTentsInCol(3,0).\n",
        "\"\"\")"
      ],
      "metadata": {
        "id": "1GSsCj3vScA0"
      },
      "execution_count": null,
      "outputs": []
    },
    {
      "cell_type": "code",
      "source": [
        "!clingo instance.asp placement.asp"
      ],
      "metadata": {
        "colab": {
          "base_uri": "https://localhost:8080/"
        },
        "id": "Q2VyiZx_PoFe",
        "outputId": "1796ebe5-443c-4d95-e2fb-0348dacd9fe4"
      },
      "execution_count": null,
      "outputs": [
        {
          "output_type": "stream",
          "name": "stdout",
          "text": [
            "clingo version 5.8.0 (6d1efb6)\n",
            "Reading from instance.asp ...\n",
            "Solving...\n",
            "Answer: 1 (Time: 0.003s)\n",
            "tents(1,1) tents(2,2)\n",
            "SATISFIABLE\n",
            "\n",
            "Models       : 1\n",
            "Calls        : 1\n",
            "Time         : 0.003s (Solving: 0.00s 1st Model: 0.00s Unsat: 0.00s)\n",
            "CPU Time     : 0.003s\n"
          ]
        }
      ]
    },
    {
      "cell_type": "markdown",
      "source": [
        "**Final documentation (exercise2a.pdf)\n",
        "# Part A. Model-based Diagnosis  \n",
        "**SD-ի number of models.**  \n",
        "32 (2^5 entrances if all gates are in order):  \n",
        "\n",
        "**SD ∧ Obs₁-ի number of models.**  \n",
        "1 (Because all the gates are fine, and G5=true):  \n",
        "\n",
        "**Minimum-cardinality diagnoses for Obs₂.**  \n",
        "{Ab_G1, Ab_G4}, {Ab_G2, Ab_G3}\n",
        "**"
      ],
      "metadata": {
        "id": "w7oua9gsBkSf"
      }
    },
    {
      "cell_type": "code",
      "source": [],
      "metadata": {
        "id": "iNlIXILjBnkx"
      },
      "execution_count": null,
      "outputs": []
    }
  ]
}