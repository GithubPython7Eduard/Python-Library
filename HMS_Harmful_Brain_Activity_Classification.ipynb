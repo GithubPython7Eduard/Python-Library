{
  "cells": [
    {
      "cell_type": "markdown",
      "metadata": {
        "id": "view-in-github",
        "colab_type": "text"
      },
      "source": [
        "<a href=\"https://colab.research.google.com/github/GithubPython7Eduard/Python-Library/blob/main/HMS_Harmful_Brain_Activity_Classification.ipynb\" target=\"_parent\"><img src=\"https://colab.research.google.com/assets/colab-badge.svg\" alt=\"Open In Colab\"/></a>"
      ]
    },
    {
      "cell_type": "code",
      "execution_count": null,
      "metadata": {
        "colab": {
          "base_uri": "https://localhost:8080/"
        },
        "id": "yt1EQNngwT2K",
        "outputId": "4609f9f5-1b92-4a39-eb43-a51d010da797"
      },
      "outputs": [
        {
          "output_type": "stream",
          "name": "stdout",
          "text": [
            "Requirement already satisfied: kaggle in /usr/local/lib/python3.10/dist-packages (1.5.16)\n",
            "Requirement already satisfied: six>=1.10 in /usr/local/lib/python3.10/dist-packages (from kaggle) (1.16.0)\n",
            "Requirement already satisfied: certifi in /usr/local/lib/python3.10/dist-packages (from kaggle) (2024.2.2)\n",
            "Requirement already satisfied: python-dateutil in /usr/local/lib/python3.10/dist-packages (from kaggle) (2.8.2)\n",
            "Requirement already satisfied: requests in /usr/local/lib/python3.10/dist-packages (from kaggle) (2.31.0)\n",
            "Requirement already satisfied: tqdm in /usr/local/lib/python3.10/dist-packages (from kaggle) (4.66.2)\n",
            "Requirement already satisfied: python-slugify in /usr/local/lib/python3.10/dist-packages (from kaggle) (8.0.4)\n",
            "Requirement already satisfied: urllib3 in /usr/local/lib/python3.10/dist-packages (from kaggle) (2.0.7)\n",
            "Requirement already satisfied: bleach in /usr/local/lib/python3.10/dist-packages (from kaggle) (6.1.0)\n",
            "Requirement already satisfied: webencodings in /usr/local/lib/python3.10/dist-packages (from bleach->kaggle) (0.5.1)\n",
            "Requirement already satisfied: text-unidecode>=1.3 in /usr/local/lib/python3.10/dist-packages (from python-slugify->kaggle) (1.3)\n",
            "Requirement already satisfied: charset-normalizer<4,>=2 in /usr/local/lib/python3.10/dist-packages (from requests->kaggle) (3.3.2)\n",
            "Requirement already satisfied: idna<4,>=2.5 in /usr/local/lib/python3.10/dist-packages (from requests->kaggle) (3.6)\n"
          ]
        }
      ],
      "source": [
        "!pip install kaggle"
      ]
    },
    {
      "cell_type": "markdown",
      "metadata": {
        "id": "KcZ94c6vzBkY"
      },
      "source": [
        "Upload your Kaggle.json file"
      ]
    },
    {
      "cell_type": "code",
      "execution_count": null,
      "metadata": {
        "id": "fo0Dx9WSzCKT"
      },
      "outputs": [],
      "source": [
        "# configuring the path of Kaggle.json file\n",
        "!mkdir -p ~/.kaggle\n",
        "!cp kaggle.json ~/.kaggle/\n",
        "!chmod 600 ~/.kaggle/kaggle.json"
      ]
    },
    {
      "cell_type": "markdown",
      "metadata": {
        "id": "pBJXKnD-N7mx"
      },
      "source": [
        "Importing the Harmful Brain Activity Classification Dataset"
      ]
    },
    {
      "cell_type": "code",
      "execution_count": null,
      "metadata": {
        "colab": {
          "base_uri": "https://localhost:8080/"
        },
        "id": "znkuPXDtN9Oc",
        "outputId": "797fa149-f5cc-4a43-e66c-8fec7996f7c1"
      },
      "outputs": [
        {
          "output_type": "stream",
          "name": "stdout",
          "text": [
            "Downloading hms-harmful-brain-activity-classification.zip to /content\n",
            "100% 18.4G/18.4G [03:06<00:00, 177MB/s]\n",
            "100% 18.4G/18.4G [03:06<00:00, 106MB/s]\n"
          ]
        }
      ],
      "source": [
        "# API to fetch the dataset from Kaggle\n",
        "!kaggle competitions download -c hms-harmful-brain-activity-classification"
      ]
    },
    {
      "cell_type": "code",
      "execution_count": null,
      "metadata": {
        "colab": {
          "base_uri": "https://localhost:8080/"
        },
        "id": "igdmU0aXQ4hH",
        "outputId": "f42b0216-9271-4045-bd4d-62440583785a"
      },
      "outputs": [
        {
          "output_type": "stream",
          "name": "stdout",
          "text": [
            "The dataset is extracted\n"
          ]
        }
      ],
      "source": [
        "# extracting the compessed Dataset\n",
        "from zipfile import ZipFile\n",
        "dataset = '/content/hms-harmful-brain-activity-classification.zip'\n",
        "\n",
        "with ZipFile(dataset,'r') as zip:\n",
        "  zip.extractall()\n",
        "  print('The dataset is extracted')"
      ]
    },
    {
      "cell_type": "markdown",
      "metadata": {
        "id": "RgmQO4itQe5V"
      },
      "source": [
        "Importing the libraries"
      ]
    },
    {
      "cell_type": "code",
      "execution_count": null,
      "metadata": {
        "id": "nhuaLDUmOsqu"
      },
      "outputs": [],
      "source": [
        "import numpy as np\n",
        "import pandas as pd\n",
        "import matplotlib.pyplot as plt\n",
        "import sklearn.datasets\n",
        "from sklearn.model_selection import train_test_split"
      ]
    },
    {
      "cell_type": "code",
      "execution_count": null,
      "metadata": {
        "id": "kZgXsN8nLOy-"
      },
      "outputs": [],
      "source": [
        "# loading the dataset to a Pandas DataFrame\n",
        "dataset = pd.read_csv('/content/train.csv')"
      ]
    },
    {
      "cell_type": "code",
      "execution_count": null,
      "metadata": {
        "colab": {
          "base_uri": "https://localhost:8080/"
        },
        "id": "nTZoammR9Znv",
        "outputId": "709c2302-3f33-42e4-8894-c098b55a10bc"
      },
      "outputs": [
        {
          "output_type": "stream",
          "name": "stdout",
          "text": [
            "            eeg_id  eeg_sub_id  eeg_label_offset_seconds  spectrogram_id  \\\n",
            "0       1628180742           0                       0.0          353733   \n",
            "1       1628180742           1                       6.0          353733   \n",
            "2       1628180742           2                       8.0          353733   \n",
            "3       1628180742           3                      18.0          353733   \n",
            "4       1628180742           4                      24.0          353733   \n",
            "...            ...         ...                       ...             ...   \n",
            "106795   351917269           6                      12.0      2147388374   \n",
            "106796   351917269           7                      14.0      2147388374   \n",
            "106797   351917269           8                      16.0      2147388374   \n",
            "106798   351917269           9                      18.0      2147388374   \n",
            "106799   351917269          10                      20.0      2147388374   \n",
            "\n",
            "        spectrogram_sub_id  spectrogram_label_offset_seconds    label_id  \\\n",
            "0                        0                               0.0   127492639   \n",
            "1                        1                               6.0  3887563113   \n",
            "2                        2                               8.0  1142670488   \n",
            "3                        3                              18.0  2718991173   \n",
            "4                        4                              24.0  3080632009   \n",
            "...                    ...                               ...         ...   \n",
            "106795                   6                              12.0  4195677307   \n",
            "106796                   7                              14.0   290896675   \n",
            "106797                   8                              16.0   461435451   \n",
            "106798                   9                              18.0  3786213131   \n",
            "106799                  10                              20.0  3642716176   \n",
            "\n",
            "        patient_id expert_consensus  seizure_vote  lpd_vote  gpd_vote  \\\n",
            "0            42516          Seizure             3         0         0   \n",
            "1            42516          Seizure             3         0         0   \n",
            "2            42516          Seizure             3         0         0   \n",
            "3            42516          Seizure             3         0         0   \n",
            "4            42516          Seizure             3         0         0   \n",
            "...            ...              ...           ...       ...       ...   \n",
            "106795       10351             LRDA             0         0         0   \n",
            "106796       10351             LRDA             0         0         0   \n",
            "106797       10351             LRDA             0         0         0   \n",
            "106798       10351             LRDA             0         0         0   \n",
            "106799       10351             LRDA             0         0         0   \n",
            "\n",
            "        lrda_vote  grda_vote  other_vote  \n",
            "0               0          0           0  \n",
            "1               0          0           0  \n",
            "2               0          0           0  \n",
            "3               0          0           0  \n",
            "4               0          0           0  \n",
            "...           ...        ...         ...  \n",
            "106795          3          0           0  \n",
            "106796          3          0           0  \n",
            "106797          3          0           0  \n",
            "106798          3          0           0  \n",
            "106799          3          0           0  \n",
            "\n",
            "[106800 rows x 15 columns]\n"
          ]
        }
      ],
      "source": [
        "print(dataset)"
      ]
    },
    {
      "cell_type": "code",
      "execution_count": null,
      "metadata": {
        "colab": {
          "base_uri": "https://localhost:8080/",
          "height": 226
        },
        "id": "puGyrLeOVQP6",
        "outputId": "61cadab8-fb90-4def-993f-999eaa4ec78c"
      },
      "outputs": [
        {
          "output_type": "execute_result",
          "data": {
            "text/plain": [
              "       eeg_id  eeg_sub_id  eeg_label_offset_seconds  spectrogram_id  \\\n",
              "0  1628180742           0                       0.0          353733   \n",
              "1  1628180742           1                       6.0          353733   \n",
              "2  1628180742           2                       8.0          353733   \n",
              "3  1628180742           3                      18.0          353733   \n",
              "4  1628180742           4                      24.0          353733   \n",
              "\n",
              "   spectrogram_sub_id  spectrogram_label_offset_seconds    label_id  \\\n",
              "0                   0                               0.0   127492639   \n",
              "1                   1                               6.0  3887563113   \n",
              "2                   2                               8.0  1142670488   \n",
              "3                   3                              18.0  2718991173   \n",
              "4                   4                              24.0  3080632009   \n",
              "\n",
              "   patient_id expert_consensus  seizure_vote  lpd_vote  gpd_vote  lrda_vote  \\\n",
              "0       42516          Seizure             3         0         0          0   \n",
              "1       42516          Seizure             3         0         0          0   \n",
              "2       42516          Seizure             3         0         0          0   \n",
              "3       42516          Seizure             3         0         0          0   \n",
              "4       42516          Seizure             3         0         0          0   \n",
              "\n",
              "   grda_vote  other_vote  \n",
              "0          0           0  \n",
              "1          0           0  \n",
              "2          0           0  \n",
              "3          0           0  \n",
              "4          0           0  "
            ],
            "text/html": [
              "\n",
              "  <div id=\"df-415a7f87-30d4-4f5a-8928-1f08eec93017\" class=\"colab-df-container\">\n",
              "    <div>\n",
              "<style scoped>\n",
              "    .dataframe tbody tr th:only-of-type {\n",
              "        vertical-align: middle;\n",
              "    }\n",
              "\n",
              "    .dataframe tbody tr th {\n",
              "        vertical-align: top;\n",
              "    }\n",
              "\n",
              "    .dataframe thead th {\n",
              "        text-align: right;\n",
              "    }\n",
              "</style>\n",
              "<table border=\"1\" class=\"dataframe\">\n",
              "  <thead>\n",
              "    <tr style=\"text-align: right;\">\n",
              "      <th></th>\n",
              "      <th>eeg_id</th>\n",
              "      <th>eeg_sub_id</th>\n",
              "      <th>eeg_label_offset_seconds</th>\n",
              "      <th>spectrogram_id</th>\n",
              "      <th>spectrogram_sub_id</th>\n",
              "      <th>spectrogram_label_offset_seconds</th>\n",
              "      <th>label_id</th>\n",
              "      <th>patient_id</th>\n",
              "      <th>expert_consensus</th>\n",
              "      <th>seizure_vote</th>\n",
              "      <th>lpd_vote</th>\n",
              "      <th>gpd_vote</th>\n",
              "      <th>lrda_vote</th>\n",
              "      <th>grda_vote</th>\n",
              "      <th>other_vote</th>\n",
              "    </tr>\n",
              "  </thead>\n",
              "  <tbody>\n",
              "    <tr>\n",
              "      <th>0</th>\n",
              "      <td>1628180742</td>\n",
              "      <td>0</td>\n",
              "      <td>0.0</td>\n",
              "      <td>353733</td>\n",
              "      <td>0</td>\n",
              "      <td>0.0</td>\n",
              "      <td>127492639</td>\n",
              "      <td>42516</td>\n",
              "      <td>Seizure</td>\n",
              "      <td>3</td>\n",
              "      <td>0</td>\n",
              "      <td>0</td>\n",
              "      <td>0</td>\n",
              "      <td>0</td>\n",
              "      <td>0</td>\n",
              "    </tr>\n",
              "    <tr>\n",
              "      <th>1</th>\n",
              "      <td>1628180742</td>\n",
              "      <td>1</td>\n",
              "      <td>6.0</td>\n",
              "      <td>353733</td>\n",
              "      <td>1</td>\n",
              "      <td>6.0</td>\n",
              "      <td>3887563113</td>\n",
              "      <td>42516</td>\n",
              "      <td>Seizure</td>\n",
              "      <td>3</td>\n",
              "      <td>0</td>\n",
              "      <td>0</td>\n",
              "      <td>0</td>\n",
              "      <td>0</td>\n",
              "      <td>0</td>\n",
              "    </tr>\n",
              "    <tr>\n",
              "      <th>2</th>\n",
              "      <td>1628180742</td>\n",
              "      <td>2</td>\n",
              "      <td>8.0</td>\n",
              "      <td>353733</td>\n",
              "      <td>2</td>\n",
              "      <td>8.0</td>\n",
              "      <td>1142670488</td>\n",
              "      <td>42516</td>\n",
              "      <td>Seizure</td>\n",
              "      <td>3</td>\n",
              "      <td>0</td>\n",
              "      <td>0</td>\n",
              "      <td>0</td>\n",
              "      <td>0</td>\n",
              "      <td>0</td>\n",
              "    </tr>\n",
              "    <tr>\n",
              "      <th>3</th>\n",
              "      <td>1628180742</td>\n",
              "      <td>3</td>\n",
              "      <td>18.0</td>\n",
              "      <td>353733</td>\n",
              "      <td>3</td>\n",
              "      <td>18.0</td>\n",
              "      <td>2718991173</td>\n",
              "      <td>42516</td>\n",
              "      <td>Seizure</td>\n",
              "      <td>3</td>\n",
              "      <td>0</td>\n",
              "      <td>0</td>\n",
              "      <td>0</td>\n",
              "      <td>0</td>\n",
              "      <td>0</td>\n",
              "    </tr>\n",
              "    <tr>\n",
              "      <th>4</th>\n",
              "      <td>1628180742</td>\n",
              "      <td>4</td>\n",
              "      <td>24.0</td>\n",
              "      <td>353733</td>\n",
              "      <td>4</td>\n",
              "      <td>24.0</td>\n",
              "      <td>3080632009</td>\n",
              "      <td>42516</td>\n",
              "      <td>Seizure</td>\n",
              "      <td>3</td>\n",
              "      <td>0</td>\n",
              "      <td>0</td>\n",
              "      <td>0</td>\n",
              "      <td>0</td>\n",
              "      <td>0</td>\n",
              "    </tr>\n",
              "  </tbody>\n",
              "</table>\n",
              "</div>\n",
              "    <div class=\"colab-df-buttons\">\n",
              "\n",
              "  <div class=\"colab-df-container\">\n",
              "    <button class=\"colab-df-convert\" onclick=\"convertToInteractive('df-415a7f87-30d4-4f5a-8928-1f08eec93017')\"\n",
              "            title=\"Convert this dataframe to an interactive table.\"\n",
              "            style=\"display:none;\">\n",
              "\n",
              "  <svg xmlns=\"http://www.w3.org/2000/svg\" height=\"24px\" viewBox=\"0 -960 960 960\">\n",
              "    <path d=\"M120-120v-720h720v720H120Zm60-500h600v-160H180v160Zm220 220h160v-160H400v160Zm0 220h160v-160H400v160ZM180-400h160v-160H180v160Zm440 0h160v-160H620v160ZM180-180h160v-160H180v160Zm440 0h160v-160H620v160Z\"/>\n",
              "  </svg>\n",
              "    </button>\n",
              "\n",
              "  <style>\n",
              "    .colab-df-container {\n",
              "      display:flex;\n",
              "      gap: 12px;\n",
              "    }\n",
              "\n",
              "    .colab-df-convert {\n",
              "      background-color: #E8F0FE;\n",
              "      border: none;\n",
              "      border-radius: 50%;\n",
              "      cursor: pointer;\n",
              "      display: none;\n",
              "      fill: #1967D2;\n",
              "      height: 32px;\n",
              "      padding: 0 0 0 0;\n",
              "      width: 32px;\n",
              "    }\n",
              "\n",
              "    .colab-df-convert:hover {\n",
              "      background-color: #E2EBFA;\n",
              "      box-shadow: 0px 1px 2px rgba(60, 64, 67, 0.3), 0px 1px 3px 1px rgba(60, 64, 67, 0.15);\n",
              "      fill: #174EA6;\n",
              "    }\n",
              "\n",
              "    .colab-df-buttons div {\n",
              "      margin-bottom: 4px;\n",
              "    }\n",
              "\n",
              "    [theme=dark] .colab-df-convert {\n",
              "      background-color: #3B4455;\n",
              "      fill: #D2E3FC;\n",
              "    }\n",
              "\n",
              "    [theme=dark] .colab-df-convert:hover {\n",
              "      background-color: #434B5C;\n",
              "      box-shadow: 0px 1px 3px 1px rgba(0, 0, 0, 0.15);\n",
              "      filter: drop-shadow(0px 1px 2px rgba(0, 0, 0, 0.3));\n",
              "      fill: #FFFFFF;\n",
              "    }\n",
              "  </style>\n",
              "\n",
              "    <script>\n",
              "      const buttonEl =\n",
              "        document.querySelector('#df-415a7f87-30d4-4f5a-8928-1f08eec93017 button.colab-df-convert');\n",
              "      buttonEl.style.display =\n",
              "        google.colab.kernel.accessAllowed ? 'block' : 'none';\n",
              "\n",
              "      async function convertToInteractive(key) {\n",
              "        const element = document.querySelector('#df-415a7f87-30d4-4f5a-8928-1f08eec93017');\n",
              "        const dataTable =\n",
              "          await google.colab.kernel.invokeFunction('convertToInteractive',\n",
              "                                                    [key], {});\n",
              "        if (!dataTable) return;\n",
              "\n",
              "        const docLinkHtml = 'Like what you see? Visit the ' +\n",
              "          '<a target=\"_blank\" href=https://colab.research.google.com/notebooks/data_table.ipynb>data table notebook</a>'\n",
              "          + ' to learn more about interactive tables.';\n",
              "        element.innerHTML = '';\n",
              "        dataTable['output_type'] = 'display_data';\n",
              "        await google.colab.output.renderOutput(dataTable, element);\n",
              "        const docLink = document.createElement('div');\n",
              "        docLink.innerHTML = docLinkHtml;\n",
              "        element.appendChild(docLink);\n",
              "      }\n",
              "    </script>\n",
              "  </div>\n",
              "\n",
              "\n",
              "<div id=\"df-59a2e2da-9812-45b8-b48f-3617a7f2a81b\">\n",
              "  <button class=\"colab-df-quickchart\" onclick=\"quickchart('df-59a2e2da-9812-45b8-b48f-3617a7f2a81b')\"\n",
              "            title=\"Suggest charts\"\n",
              "            style=\"display:none;\">\n",
              "\n",
              "<svg xmlns=\"http://www.w3.org/2000/svg\" height=\"24px\"viewBox=\"0 0 24 24\"\n",
              "     width=\"24px\">\n",
              "    <g>\n",
              "        <path d=\"M19 3H5c-1.1 0-2 .9-2 2v14c0 1.1.9 2 2 2h14c1.1 0 2-.9 2-2V5c0-1.1-.9-2-2-2zM9 17H7v-7h2v7zm4 0h-2V7h2v10zm4 0h-2v-4h2v4z\"/>\n",
              "    </g>\n",
              "</svg>\n",
              "  </button>\n",
              "\n",
              "<style>\n",
              "  .colab-df-quickchart {\n",
              "      --bg-color: #E8F0FE;\n",
              "      --fill-color: #1967D2;\n",
              "      --hover-bg-color: #E2EBFA;\n",
              "      --hover-fill-color: #174EA6;\n",
              "      --disabled-fill-color: #AAA;\n",
              "      --disabled-bg-color: #DDD;\n",
              "  }\n",
              "\n",
              "  [theme=dark] .colab-df-quickchart {\n",
              "      --bg-color: #3B4455;\n",
              "      --fill-color: #D2E3FC;\n",
              "      --hover-bg-color: #434B5C;\n",
              "      --hover-fill-color: #FFFFFF;\n",
              "      --disabled-bg-color: #3B4455;\n",
              "      --disabled-fill-color: #666;\n",
              "  }\n",
              "\n",
              "  .colab-df-quickchart {\n",
              "    background-color: var(--bg-color);\n",
              "    border: none;\n",
              "    border-radius: 50%;\n",
              "    cursor: pointer;\n",
              "    display: none;\n",
              "    fill: var(--fill-color);\n",
              "    height: 32px;\n",
              "    padding: 0;\n",
              "    width: 32px;\n",
              "  }\n",
              "\n",
              "  .colab-df-quickchart:hover {\n",
              "    background-color: var(--hover-bg-color);\n",
              "    box-shadow: 0 1px 2px rgba(60, 64, 67, 0.3), 0 1px 3px 1px rgba(60, 64, 67, 0.15);\n",
              "    fill: var(--button-hover-fill-color);\n",
              "  }\n",
              "\n",
              "  .colab-df-quickchart-complete:disabled,\n",
              "  .colab-df-quickchart-complete:disabled:hover {\n",
              "    background-color: var(--disabled-bg-color);\n",
              "    fill: var(--disabled-fill-color);\n",
              "    box-shadow: none;\n",
              "  }\n",
              "\n",
              "  .colab-df-spinner {\n",
              "    border: 2px solid var(--fill-color);\n",
              "    border-color: transparent;\n",
              "    border-bottom-color: var(--fill-color);\n",
              "    animation:\n",
              "      spin 1s steps(1) infinite;\n",
              "  }\n",
              "\n",
              "  @keyframes spin {\n",
              "    0% {\n",
              "      border-color: transparent;\n",
              "      border-bottom-color: var(--fill-color);\n",
              "      border-left-color: var(--fill-color);\n",
              "    }\n",
              "    20% {\n",
              "      border-color: transparent;\n",
              "      border-left-color: var(--fill-color);\n",
              "      border-top-color: var(--fill-color);\n",
              "    }\n",
              "    30% {\n",
              "      border-color: transparent;\n",
              "      border-left-color: var(--fill-color);\n",
              "      border-top-color: var(--fill-color);\n",
              "      border-right-color: var(--fill-color);\n",
              "    }\n",
              "    40% {\n",
              "      border-color: transparent;\n",
              "      border-right-color: var(--fill-color);\n",
              "      border-top-color: var(--fill-color);\n",
              "    }\n",
              "    60% {\n",
              "      border-color: transparent;\n",
              "      border-right-color: var(--fill-color);\n",
              "    }\n",
              "    80% {\n",
              "      border-color: transparent;\n",
              "      border-right-color: var(--fill-color);\n",
              "      border-bottom-color: var(--fill-color);\n",
              "    }\n",
              "    90% {\n",
              "      border-color: transparent;\n",
              "      border-bottom-color: var(--fill-color);\n",
              "    }\n",
              "  }\n",
              "</style>\n",
              "\n",
              "  <script>\n",
              "    async function quickchart(key) {\n",
              "      const quickchartButtonEl =\n",
              "        document.querySelector('#' + key + ' button');\n",
              "      quickchartButtonEl.disabled = true;  // To prevent multiple clicks.\n",
              "      quickchartButtonEl.classList.add('colab-df-spinner');\n",
              "      try {\n",
              "        const charts = await google.colab.kernel.invokeFunction(\n",
              "            'suggestCharts', [key], {});\n",
              "      } catch (error) {\n",
              "        console.error('Error during call to suggestCharts:', error);\n",
              "      }\n",
              "      quickchartButtonEl.classList.remove('colab-df-spinner');\n",
              "      quickchartButtonEl.classList.add('colab-df-quickchart-complete');\n",
              "    }\n",
              "    (() => {\n",
              "      let quickchartButtonEl =\n",
              "        document.querySelector('#df-59a2e2da-9812-45b8-b48f-3617a7f2a81b button');\n",
              "      quickchartButtonEl.style.display =\n",
              "        google.colab.kernel.accessAllowed ? 'block' : 'none';\n",
              "    })();\n",
              "  </script>\n",
              "</div>\n",
              "\n",
              "    </div>\n",
              "  </div>\n"
            ],
            "application/vnd.google.colaboratory.intrinsic+json": {
              "type": "dataframe",
              "variable_name": "dataset"
            }
          },
          "metadata": {},
          "execution_count": 174
        }
      ],
      "source": [
        "# to see the first 5 rows\n",
        "dataset.head()"
      ]
    },
    {
      "cell_type": "markdown",
      "source": [
        "Label Encoding"
      ],
      "metadata": {
        "id": "H28MhFw117Jb"
      }
    },
    {
      "cell_type": "code",
      "source": [
        "# encoding \"Expert_Consensus  -  Label\" Column\n",
        "dataset.replace({'expert_consensus':{'Seizure':0,'GRDA':1,'Other':2, 'GPD':3, 'LRDA':4, 'LPD':5}},inplace=True)"
      ],
      "metadata": {
        "id": "6b2pO9p-1buv"
      },
      "execution_count": null,
      "outputs": []
    },
    {
      "cell_type": "code",
      "source": [
        "# adding the 'Target' column to the data frame\n",
        "dataset['label'] = dataset.expert_consensus"
      ],
      "metadata": {
        "id": "0LpYknMXvAkU"
      },
      "execution_count": null,
      "outputs": []
    },
    {
      "cell_type": "code",
      "source": [
        "# print last 5 rows of the dataframe\n",
        "dataset.tail()"
      ],
      "metadata": {
        "colab": {
          "base_uri": "https://localhost:8080/",
          "height": 226
        },
        "id": "ZrTsQKIryECY",
        "outputId": "51c371f9-975a-4dec-a2be-c695435fdfb3"
      },
      "execution_count": null,
      "outputs": [
        {
          "output_type": "execute_result",
          "data": {
            "text/plain": [
              "           eeg_id  eeg_sub_id  eeg_label_offset_seconds  spectrogram_id  \\\n",
              "106795  351917269           6                      12.0      2147388374   \n",
              "106796  351917269           7                      14.0      2147388374   \n",
              "106797  351917269           8                      16.0      2147388374   \n",
              "106798  351917269           9                      18.0      2147388374   \n",
              "106799  351917269          10                      20.0      2147388374   \n",
              "\n",
              "        spectrogram_sub_id  spectrogram_label_offset_seconds    label_id  \\\n",
              "106795                   6                              12.0  4195677307   \n",
              "106796                   7                              14.0   290896675   \n",
              "106797                   8                              16.0   461435451   \n",
              "106798                   9                              18.0  3786213131   \n",
              "106799                  10                              20.0  3642716176   \n",
              "\n",
              "        patient_id  expert_consensus  seizure_vote  lpd_vote  gpd_vote  \\\n",
              "106795       10351                 4             0         0         0   \n",
              "106796       10351                 4             0         0         0   \n",
              "106797       10351                 4             0         0         0   \n",
              "106798       10351                 4             0         0         0   \n",
              "106799       10351                 4             0         0         0   \n",
              "\n",
              "        lrda_vote  grda_vote  other_vote  label  \n",
              "106795          3          0           0      4  \n",
              "106796          3          0           0      4  \n",
              "106797          3          0           0      4  \n",
              "106798          3          0           0      4  \n",
              "106799          3          0           0      4  "
            ],
            "text/html": [
              "\n",
              "  <div id=\"df-b271e38f-f9db-4580-b3c6-087894e2cccf\" class=\"colab-df-container\">\n",
              "    <div>\n",
              "<style scoped>\n",
              "    .dataframe tbody tr th:only-of-type {\n",
              "        vertical-align: middle;\n",
              "    }\n",
              "\n",
              "    .dataframe tbody tr th {\n",
              "        vertical-align: top;\n",
              "    }\n",
              "\n",
              "    .dataframe thead th {\n",
              "        text-align: right;\n",
              "    }\n",
              "</style>\n",
              "<table border=\"1\" class=\"dataframe\">\n",
              "  <thead>\n",
              "    <tr style=\"text-align: right;\">\n",
              "      <th></th>\n",
              "      <th>eeg_id</th>\n",
              "      <th>eeg_sub_id</th>\n",
              "      <th>eeg_label_offset_seconds</th>\n",
              "      <th>spectrogram_id</th>\n",
              "      <th>spectrogram_sub_id</th>\n",
              "      <th>spectrogram_label_offset_seconds</th>\n",
              "      <th>label_id</th>\n",
              "      <th>patient_id</th>\n",
              "      <th>expert_consensus</th>\n",
              "      <th>seizure_vote</th>\n",
              "      <th>lpd_vote</th>\n",
              "      <th>gpd_vote</th>\n",
              "      <th>lrda_vote</th>\n",
              "      <th>grda_vote</th>\n",
              "      <th>other_vote</th>\n",
              "      <th>label</th>\n",
              "    </tr>\n",
              "  </thead>\n",
              "  <tbody>\n",
              "    <tr>\n",
              "      <th>106795</th>\n",
              "      <td>351917269</td>\n",
              "      <td>6</td>\n",
              "      <td>12.0</td>\n",
              "      <td>2147388374</td>\n",
              "      <td>6</td>\n",
              "      <td>12.0</td>\n",
              "      <td>4195677307</td>\n",
              "      <td>10351</td>\n",
              "      <td>4</td>\n",
              "      <td>0</td>\n",
              "      <td>0</td>\n",
              "      <td>0</td>\n",
              "      <td>3</td>\n",
              "      <td>0</td>\n",
              "      <td>0</td>\n",
              "      <td>4</td>\n",
              "    </tr>\n",
              "    <tr>\n",
              "      <th>106796</th>\n",
              "      <td>351917269</td>\n",
              "      <td>7</td>\n",
              "      <td>14.0</td>\n",
              "      <td>2147388374</td>\n",
              "      <td>7</td>\n",
              "      <td>14.0</td>\n",
              "      <td>290896675</td>\n",
              "      <td>10351</td>\n",
              "      <td>4</td>\n",
              "      <td>0</td>\n",
              "      <td>0</td>\n",
              "      <td>0</td>\n",
              "      <td>3</td>\n",
              "      <td>0</td>\n",
              "      <td>0</td>\n",
              "      <td>4</td>\n",
              "    </tr>\n",
              "    <tr>\n",
              "      <th>106797</th>\n",
              "      <td>351917269</td>\n",
              "      <td>8</td>\n",
              "      <td>16.0</td>\n",
              "      <td>2147388374</td>\n",
              "      <td>8</td>\n",
              "      <td>16.0</td>\n",
              "      <td>461435451</td>\n",
              "      <td>10351</td>\n",
              "      <td>4</td>\n",
              "      <td>0</td>\n",
              "      <td>0</td>\n",
              "      <td>0</td>\n",
              "      <td>3</td>\n",
              "      <td>0</td>\n",
              "      <td>0</td>\n",
              "      <td>4</td>\n",
              "    </tr>\n",
              "    <tr>\n",
              "      <th>106798</th>\n",
              "      <td>351917269</td>\n",
              "      <td>9</td>\n",
              "      <td>18.0</td>\n",
              "      <td>2147388374</td>\n",
              "      <td>9</td>\n",
              "      <td>18.0</td>\n",
              "      <td>3786213131</td>\n",
              "      <td>10351</td>\n",
              "      <td>4</td>\n",
              "      <td>0</td>\n",
              "      <td>0</td>\n",
              "      <td>0</td>\n",
              "      <td>3</td>\n",
              "      <td>0</td>\n",
              "      <td>0</td>\n",
              "      <td>4</td>\n",
              "    </tr>\n",
              "    <tr>\n",
              "      <th>106799</th>\n",
              "      <td>351917269</td>\n",
              "      <td>10</td>\n",
              "      <td>20.0</td>\n",
              "      <td>2147388374</td>\n",
              "      <td>10</td>\n",
              "      <td>20.0</td>\n",
              "      <td>3642716176</td>\n",
              "      <td>10351</td>\n",
              "      <td>4</td>\n",
              "      <td>0</td>\n",
              "      <td>0</td>\n",
              "      <td>0</td>\n",
              "      <td>3</td>\n",
              "      <td>0</td>\n",
              "      <td>0</td>\n",
              "      <td>4</td>\n",
              "    </tr>\n",
              "  </tbody>\n",
              "</table>\n",
              "</div>\n",
              "    <div class=\"colab-df-buttons\">\n",
              "\n",
              "  <div class=\"colab-df-container\">\n",
              "    <button class=\"colab-df-convert\" onclick=\"convertToInteractive('df-b271e38f-f9db-4580-b3c6-087894e2cccf')\"\n",
              "            title=\"Convert this dataframe to an interactive table.\"\n",
              "            style=\"display:none;\">\n",
              "\n",
              "  <svg xmlns=\"http://www.w3.org/2000/svg\" height=\"24px\" viewBox=\"0 -960 960 960\">\n",
              "    <path d=\"M120-120v-720h720v720H120Zm60-500h600v-160H180v160Zm220 220h160v-160H400v160Zm0 220h160v-160H400v160ZM180-400h160v-160H180v160Zm440 0h160v-160H620v160ZM180-180h160v-160H180v160Zm440 0h160v-160H620v160Z\"/>\n",
              "  </svg>\n",
              "    </button>\n",
              "\n",
              "  <style>\n",
              "    .colab-df-container {\n",
              "      display:flex;\n",
              "      gap: 12px;\n",
              "    }\n",
              "\n",
              "    .colab-df-convert {\n",
              "      background-color: #E8F0FE;\n",
              "      border: none;\n",
              "      border-radius: 50%;\n",
              "      cursor: pointer;\n",
              "      display: none;\n",
              "      fill: #1967D2;\n",
              "      height: 32px;\n",
              "      padding: 0 0 0 0;\n",
              "      width: 32px;\n",
              "    }\n",
              "\n",
              "    .colab-df-convert:hover {\n",
              "      background-color: #E2EBFA;\n",
              "      box-shadow: 0px 1px 2px rgba(60, 64, 67, 0.3), 0px 1px 3px 1px rgba(60, 64, 67, 0.15);\n",
              "      fill: #174EA6;\n",
              "    }\n",
              "\n",
              "    .colab-df-buttons div {\n",
              "      margin-bottom: 4px;\n",
              "    }\n",
              "\n",
              "    [theme=dark] .colab-df-convert {\n",
              "      background-color: #3B4455;\n",
              "      fill: #D2E3FC;\n",
              "    }\n",
              "\n",
              "    [theme=dark] .colab-df-convert:hover {\n",
              "      background-color: #434B5C;\n",
              "      box-shadow: 0px 1px 3px 1px rgba(0, 0, 0, 0.15);\n",
              "      filter: drop-shadow(0px 1px 2px rgba(0, 0, 0, 0.3));\n",
              "      fill: #FFFFFF;\n",
              "    }\n",
              "  </style>\n",
              "\n",
              "    <script>\n",
              "      const buttonEl =\n",
              "        document.querySelector('#df-b271e38f-f9db-4580-b3c6-087894e2cccf button.colab-df-convert');\n",
              "      buttonEl.style.display =\n",
              "        google.colab.kernel.accessAllowed ? 'block' : 'none';\n",
              "\n",
              "      async function convertToInteractive(key) {\n",
              "        const element = document.querySelector('#df-b271e38f-f9db-4580-b3c6-087894e2cccf');\n",
              "        const dataTable =\n",
              "          await google.colab.kernel.invokeFunction('convertToInteractive',\n",
              "                                                    [key], {});\n",
              "        if (!dataTable) return;\n",
              "\n",
              "        const docLinkHtml = 'Like what you see? Visit the ' +\n",
              "          '<a target=\"_blank\" href=https://colab.research.google.com/notebooks/data_table.ipynb>data table notebook</a>'\n",
              "          + ' to learn more about interactive tables.';\n",
              "        element.innerHTML = '';\n",
              "        dataTable['output_type'] = 'display_data';\n",
              "        await google.colab.output.renderOutput(dataTable, element);\n",
              "        const docLink = document.createElement('div');\n",
              "        docLink.innerHTML = docLinkHtml;\n",
              "        element.appendChild(docLink);\n",
              "      }\n",
              "    </script>\n",
              "  </div>\n",
              "\n",
              "\n",
              "<div id=\"df-987bef6c-2e04-442b-8b57-1c7a2d200cfa\">\n",
              "  <button class=\"colab-df-quickchart\" onclick=\"quickchart('df-987bef6c-2e04-442b-8b57-1c7a2d200cfa')\"\n",
              "            title=\"Suggest charts\"\n",
              "            style=\"display:none;\">\n",
              "\n",
              "<svg xmlns=\"http://www.w3.org/2000/svg\" height=\"24px\"viewBox=\"0 0 24 24\"\n",
              "     width=\"24px\">\n",
              "    <g>\n",
              "        <path d=\"M19 3H5c-1.1 0-2 .9-2 2v14c0 1.1.9 2 2 2h14c1.1 0 2-.9 2-2V5c0-1.1-.9-2-2-2zM9 17H7v-7h2v7zm4 0h-2V7h2v10zm4 0h-2v-4h2v4z\"/>\n",
              "    </g>\n",
              "</svg>\n",
              "  </button>\n",
              "\n",
              "<style>\n",
              "  .colab-df-quickchart {\n",
              "      --bg-color: #E8F0FE;\n",
              "      --fill-color: #1967D2;\n",
              "      --hover-bg-color: #E2EBFA;\n",
              "      --hover-fill-color: #174EA6;\n",
              "      --disabled-fill-color: #AAA;\n",
              "      --disabled-bg-color: #DDD;\n",
              "  }\n",
              "\n",
              "  [theme=dark] .colab-df-quickchart {\n",
              "      --bg-color: #3B4455;\n",
              "      --fill-color: #D2E3FC;\n",
              "      --hover-bg-color: #434B5C;\n",
              "      --hover-fill-color: #FFFFFF;\n",
              "      --disabled-bg-color: #3B4455;\n",
              "      --disabled-fill-color: #666;\n",
              "  }\n",
              "\n",
              "  .colab-df-quickchart {\n",
              "    background-color: var(--bg-color);\n",
              "    border: none;\n",
              "    border-radius: 50%;\n",
              "    cursor: pointer;\n",
              "    display: none;\n",
              "    fill: var(--fill-color);\n",
              "    height: 32px;\n",
              "    padding: 0;\n",
              "    width: 32px;\n",
              "  }\n",
              "\n",
              "  .colab-df-quickchart:hover {\n",
              "    background-color: var(--hover-bg-color);\n",
              "    box-shadow: 0 1px 2px rgba(60, 64, 67, 0.3), 0 1px 3px 1px rgba(60, 64, 67, 0.15);\n",
              "    fill: var(--button-hover-fill-color);\n",
              "  }\n",
              "\n",
              "  .colab-df-quickchart-complete:disabled,\n",
              "  .colab-df-quickchart-complete:disabled:hover {\n",
              "    background-color: var(--disabled-bg-color);\n",
              "    fill: var(--disabled-fill-color);\n",
              "    box-shadow: none;\n",
              "  }\n",
              "\n",
              "  .colab-df-spinner {\n",
              "    border: 2px solid var(--fill-color);\n",
              "    border-color: transparent;\n",
              "    border-bottom-color: var(--fill-color);\n",
              "    animation:\n",
              "      spin 1s steps(1) infinite;\n",
              "  }\n",
              "\n",
              "  @keyframes spin {\n",
              "    0% {\n",
              "      border-color: transparent;\n",
              "      border-bottom-color: var(--fill-color);\n",
              "      border-left-color: var(--fill-color);\n",
              "    }\n",
              "    20% {\n",
              "      border-color: transparent;\n",
              "      border-left-color: var(--fill-color);\n",
              "      border-top-color: var(--fill-color);\n",
              "    }\n",
              "    30% {\n",
              "      border-color: transparent;\n",
              "      border-left-color: var(--fill-color);\n",
              "      border-top-color: var(--fill-color);\n",
              "      border-right-color: var(--fill-color);\n",
              "    }\n",
              "    40% {\n",
              "      border-color: transparent;\n",
              "      border-right-color: var(--fill-color);\n",
              "      border-top-color: var(--fill-color);\n",
              "    }\n",
              "    60% {\n",
              "      border-color: transparent;\n",
              "      border-right-color: var(--fill-color);\n",
              "    }\n",
              "    80% {\n",
              "      border-color: transparent;\n",
              "      border-right-color: var(--fill-color);\n",
              "      border-bottom-color: var(--fill-color);\n",
              "    }\n",
              "    90% {\n",
              "      border-color: transparent;\n",
              "      border-bottom-color: var(--fill-color);\n",
              "    }\n",
              "  }\n",
              "</style>\n",
              "\n",
              "  <script>\n",
              "    async function quickchart(key) {\n",
              "      const quickchartButtonEl =\n",
              "        document.querySelector('#' + key + ' button');\n",
              "      quickchartButtonEl.disabled = true;  // To prevent multiple clicks.\n",
              "      quickchartButtonEl.classList.add('colab-df-spinner');\n",
              "      try {\n",
              "        const charts = await google.colab.kernel.invokeFunction(\n",
              "            'suggestCharts', [key], {});\n",
              "      } catch (error) {\n",
              "        console.error('Error during call to suggestCharts:', error);\n",
              "      }\n",
              "      quickchartButtonEl.classList.remove('colab-df-spinner');\n",
              "      quickchartButtonEl.classList.add('colab-df-quickchart-complete');\n",
              "    }\n",
              "    (() => {\n",
              "      let quickchartButtonEl =\n",
              "        document.querySelector('#df-987bef6c-2e04-442b-8b57-1c7a2d200cfa button');\n",
              "      quickchartButtonEl.style.display =\n",
              "        google.colab.kernel.accessAllowed ? 'block' : 'none';\n",
              "    })();\n",
              "  </script>\n",
              "</div>\n",
              "\n",
              "    </div>\n",
              "  </div>\n"
            ],
            "application/vnd.google.colaboratory.intrinsic+json": {
              "type": "dataframe",
              "summary": "{\n  \"name\": \"dataset\",\n  \"rows\": 5,\n  \"fields\": [\n    {\n      \"column\": \"eeg_id\",\n      \"properties\": {\n        \"dtype\": \"number\",\n        \"std\": 0,\n        \"min\": 351917269,\n        \"max\": 351917269,\n        \"num_unique_values\": 1,\n        \"samples\": [\n          351917269\n        ],\n        \"semantic_type\": \"\",\n        \"description\": \"\"\n      }\n    },\n    {\n      \"column\": \"eeg_sub_id\",\n      \"properties\": {\n        \"dtype\": \"number\",\n        \"std\": 1,\n        \"min\": 6,\n        \"max\": 10,\n        \"num_unique_values\": 5,\n        \"samples\": [\n          7\n        ],\n        \"semantic_type\": \"\",\n        \"description\": \"\"\n      }\n    },\n    {\n      \"column\": \"eeg_label_offset_seconds\",\n      \"properties\": {\n        \"dtype\": \"number\",\n        \"std\": 3.1622776601683795,\n        \"min\": 12.0,\n        \"max\": 20.0,\n        \"num_unique_values\": 5,\n        \"samples\": [\n          14.0\n        ],\n        \"semantic_type\": \"\",\n        \"description\": \"\"\n      }\n    },\n    {\n      \"column\": \"spectrogram_id\",\n      \"properties\": {\n        \"dtype\": \"number\",\n        \"std\": 0,\n        \"min\": 2147388374,\n        \"max\": 2147388374,\n        \"num_unique_values\": 1,\n        \"samples\": [\n          2147388374\n        ],\n        \"semantic_type\": \"\",\n        \"description\": \"\"\n      }\n    },\n    {\n      \"column\": \"spectrogram_sub_id\",\n      \"properties\": {\n        \"dtype\": \"number\",\n        \"std\": 1,\n        \"min\": 6,\n        \"max\": 10,\n        \"num_unique_values\": 5,\n        \"samples\": [\n          7\n        ],\n        \"semantic_type\": \"\",\n        \"description\": \"\"\n      }\n    },\n    {\n      \"column\": \"spectrogram_label_offset_seconds\",\n      \"properties\": {\n        \"dtype\": \"number\",\n        \"std\": 3.1622776601683795,\n        \"min\": 12.0,\n        \"max\": 20.0,\n        \"num_unique_values\": 5,\n        \"samples\": [\n          14.0\n        ],\n        \"semantic_type\": \"\",\n        \"description\": \"\"\n      }\n    },\n    {\n      \"column\": \"label_id\",\n      \"properties\": {\n        \"dtype\": \"number\",\n        \"std\": 1927973036,\n        \"min\": 290896675,\n        \"max\": 4195677307,\n        \"num_unique_values\": 5,\n        \"samples\": [\n          290896675\n        ],\n        \"semantic_type\": \"\",\n        \"description\": \"\"\n      }\n    },\n    {\n      \"column\": \"patient_id\",\n      \"properties\": {\n        \"dtype\": \"number\",\n        \"std\": 0,\n        \"min\": 10351,\n        \"max\": 10351,\n        \"num_unique_values\": 1,\n        \"samples\": [\n          10351\n        ],\n        \"semantic_type\": \"\",\n        \"description\": \"\"\n      }\n    },\n    {\n      \"column\": \"expert_consensus\",\n      \"properties\": {\n        \"dtype\": \"number\",\n        \"std\": 0,\n        \"min\": 4,\n        \"max\": 4,\n        \"num_unique_values\": 1,\n        \"samples\": [\n          4\n        ],\n        \"semantic_type\": \"\",\n        \"description\": \"\"\n      }\n    },\n    {\n      \"column\": \"seizure_vote\",\n      \"properties\": {\n        \"dtype\": \"number\",\n        \"std\": 0,\n        \"min\": 0,\n        \"max\": 0,\n        \"num_unique_values\": 1,\n        \"samples\": [\n          0\n        ],\n        \"semantic_type\": \"\",\n        \"description\": \"\"\n      }\n    },\n    {\n      \"column\": \"lpd_vote\",\n      \"properties\": {\n        \"dtype\": \"number\",\n        \"std\": 0,\n        \"min\": 0,\n        \"max\": 0,\n        \"num_unique_values\": 1,\n        \"samples\": [\n          0\n        ],\n        \"semantic_type\": \"\",\n        \"description\": \"\"\n      }\n    },\n    {\n      \"column\": \"gpd_vote\",\n      \"properties\": {\n        \"dtype\": \"number\",\n        \"std\": 0,\n        \"min\": 0,\n        \"max\": 0,\n        \"num_unique_values\": 1,\n        \"samples\": [\n          0\n        ],\n        \"semantic_type\": \"\",\n        \"description\": \"\"\n      }\n    },\n    {\n      \"column\": \"lrda_vote\",\n      \"properties\": {\n        \"dtype\": \"number\",\n        \"std\": 0,\n        \"min\": 3,\n        \"max\": 3,\n        \"num_unique_values\": 1,\n        \"samples\": [\n          3\n        ],\n        \"semantic_type\": \"\",\n        \"description\": \"\"\n      }\n    },\n    {\n      \"column\": \"grda_vote\",\n      \"properties\": {\n        \"dtype\": \"number\",\n        \"std\": 0,\n        \"min\": 0,\n        \"max\": 0,\n        \"num_unique_values\": 1,\n        \"samples\": [\n          0\n        ],\n        \"semantic_type\": \"\",\n        \"description\": \"\"\n      }\n    },\n    {\n      \"column\": \"other_vote\",\n      \"properties\": {\n        \"dtype\": \"number\",\n        \"std\": 0,\n        \"min\": 0,\n        \"max\": 0,\n        \"num_unique_values\": 1,\n        \"samples\": [\n          0\n        ],\n        \"semantic_type\": \"\",\n        \"description\": \"\"\n      }\n    },\n    {\n      \"column\": \"label\",\n      \"properties\": {\n        \"dtype\": \"number\",\n        \"std\": 0,\n        \"min\": 4,\n        \"max\": 4,\n        \"num_unique_values\": 1,\n        \"samples\": [\n          4\n        ],\n        \"semantic_type\": \"\",\n        \"description\": \"\"\n      }\n    }\n  ]\n}"
            }
          },
          "metadata": {},
          "execution_count": 177
        }
      ]
    },
    {
      "cell_type": "code",
      "source": [
        "# number of rows and columns in the dataset\n",
        "dataset.shape"
      ],
      "metadata": {
        "colab": {
          "base_uri": "https://localhost:8080/"
        },
        "id": "tDB7jPANyNGk",
        "outputId": "44519db0-5dea-4158-ac16-e6e5db6911b6"
      },
      "execution_count": null,
      "outputs": [
        {
          "output_type": "execute_result",
          "data": {
            "text/plain": [
              "(106800, 16)"
            ]
          },
          "metadata": {},
          "execution_count": 178
        }
      ]
    },
    {
      "cell_type": "code",
      "source": [
        "# getting some information about the data\n",
        "dataset.info()"
      ],
      "metadata": {
        "colab": {
          "base_uri": "https://localhost:8080/"
        },
        "id": "h80Z88jTyTB9",
        "outputId": "e826d825-bbd0-432a-d319-a697368fd686"
      },
      "execution_count": null,
      "outputs": [
        {
          "output_type": "stream",
          "name": "stdout",
          "text": [
            "<class 'pandas.core.frame.DataFrame'>\n",
            "RangeIndex: 106800 entries, 0 to 106799\n",
            "Data columns (total 16 columns):\n",
            " #   Column                            Non-Null Count   Dtype  \n",
            "---  ------                            --------------   -----  \n",
            " 0   eeg_id                            106800 non-null  int64  \n",
            " 1   eeg_sub_id                        106800 non-null  int64  \n",
            " 2   eeg_label_offset_seconds          106800 non-null  float64\n",
            " 3   spectrogram_id                    106800 non-null  int64  \n",
            " 4   spectrogram_sub_id                106800 non-null  int64  \n",
            " 5   spectrogram_label_offset_seconds  106800 non-null  float64\n",
            " 6   label_id                          106800 non-null  int64  \n",
            " 7   patient_id                        106800 non-null  int64  \n",
            " 8   expert_consensus                  106800 non-null  int64  \n",
            " 9   seizure_vote                      106800 non-null  int64  \n",
            " 10  lpd_vote                          106800 non-null  int64  \n",
            " 11  gpd_vote                          106800 non-null  int64  \n",
            " 12  lrda_vote                         106800 non-null  int64  \n",
            " 13  grda_vote                         106800 non-null  int64  \n",
            " 14  other_vote                        106800 non-null  int64  \n",
            " 15  label                             106800 non-null  int64  \n",
            "dtypes: float64(2), int64(14)\n",
            "memory usage: 13.0 MB\n"
          ]
        }
      ]
    },
    {
      "cell_type": "code",
      "source": [
        "# checking for missing values\n",
        "dataset.isnull().sum()"
      ],
      "metadata": {
        "colab": {
          "base_uri": "https://localhost:8080/"
        },
        "id": "3--WlbI7yr5_",
        "outputId": "c443fb60-23ba-4173-e90a-66ddb59f758b"
      },
      "execution_count": null,
      "outputs": [
        {
          "output_type": "execute_result",
          "data": {
            "text/plain": [
              "eeg_id                              0\n",
              "eeg_sub_id                          0\n",
              "eeg_label_offset_seconds            0\n",
              "spectrogram_id                      0\n",
              "spectrogram_sub_id                  0\n",
              "spectrogram_label_offset_seconds    0\n",
              "label_id                            0\n",
              "patient_id                          0\n",
              "expert_consensus                    0\n",
              "seizure_vote                        0\n",
              "lpd_vote                            0\n",
              "gpd_vote                            0\n",
              "lrda_vote                           0\n",
              "grda_vote                           0\n",
              "other_vote                          0\n",
              "label                               0\n",
              "dtype: int64"
            ]
          },
          "metadata": {},
          "execution_count": 180
        }
      ]
    },
    {
      "cell_type": "code",
      "source": [
        "# statistical measures about the data\n",
        "dataset.describe()"
      ],
      "metadata": {
        "colab": {
          "base_uri": "https://localhost:8080/",
          "height": 320
        },
        "id": "aSOUl-WiyyRw",
        "outputId": "26eb28d7-ea57-4dd9-f582-b52b09f05e65"
      },
      "execution_count": null,
      "outputs": [
        {
          "output_type": "execute_result",
          "data": {
            "text/plain": [
              "             eeg_id     eeg_sub_id  eeg_label_offset_seconds  spectrogram_id  \\\n",
              "count  1.068000e+05  106800.000000             106800.000000    1.068000e+05   \n",
              "mean   2.104387e+09      26.286189                118.817228    1.067262e+09   \n",
              "std    1.233371e+09      69.757658                314.557803    6.291475e+08   \n",
              "min    5.686570e+05       0.000000                  0.000000    3.537330e+05   \n",
              "25%    1.026896e+09       1.000000                  6.000000    5.238626e+08   \n",
              "50%    2.071326e+09       5.000000                 26.000000    1.057904e+09   \n",
              "75%    3.172787e+09      16.000000                 82.000000    1.623195e+09   \n",
              "max    4.294958e+09     742.000000               3372.000000    2.147388e+09   \n",
              "\n",
              "       spectrogram_sub_id  spectrogram_label_offset_seconds      label_id  \\\n",
              "count       106800.000000                     106800.000000  1.068000e+05   \n",
              "mean            43.733596                        520.431404  2.141415e+09   \n",
              "std            104.292116                       1449.759868  1.241670e+09   \n",
              "min              0.000000                          0.000000  3.380000e+02   \n",
              "25%              2.000000                         12.000000  1.067419e+09   \n",
              "50%              8.000000                         62.000000  2.138332e+09   \n",
              "75%             29.000000                        394.000000  3.217816e+09   \n",
              "max           1021.000000                      17632.000000  4.294934e+09   \n",
              "\n",
              "          patient_id  expert_consensus   seizure_vote       lpd_vote  \\\n",
              "count  106800.000000     106800.000000  106800.000000  106800.000000   \n",
              "mean    32304.428493          2.316695       0.878024       1.138783   \n",
              "std     18538.196252          1.700546       1.538873       2.818845   \n",
              "min        56.000000          0.000000       0.000000       0.000000   \n",
              "25%     16707.000000          1.000000       0.000000       0.000000   \n",
              "50%     32068.000000          2.000000       0.000000       0.000000   \n",
              "75%     48036.000000          4.000000       1.000000       1.000000   \n",
              "max     65494.000000          5.000000      19.000000      18.000000   \n",
              "\n",
              "            gpd_vote      lrda_vote      grda_vote     other_vote  \\\n",
              "count  106800.000000  106800.000000  106800.000000  106800.000000   \n",
              "mean        1.264925       0.948296       1.059185       1.966283   \n",
              "std         3.131889       2.136799       2.228492       3.621180   \n",
              "min         0.000000       0.000000       0.000000       0.000000   \n",
              "25%         0.000000       0.000000       0.000000       0.000000   \n",
              "50%         0.000000       0.000000       0.000000       0.000000   \n",
              "75%         0.000000       1.000000       1.000000       2.000000   \n",
              "max        16.000000      15.000000      15.000000      25.000000   \n",
              "\n",
              "               label  \n",
              "count  106800.000000  \n",
              "mean        2.316695  \n",
              "std         1.700546  \n",
              "min         0.000000  \n",
              "25%         1.000000  \n",
              "50%         2.000000  \n",
              "75%         4.000000  \n",
              "max         5.000000  "
            ],
            "text/html": [
              "\n",
              "  <div id=\"df-b7e86628-22c8-441d-ab17-ebcc6c34cf96\" class=\"colab-df-container\">\n",
              "    <div>\n",
              "<style scoped>\n",
              "    .dataframe tbody tr th:only-of-type {\n",
              "        vertical-align: middle;\n",
              "    }\n",
              "\n",
              "    .dataframe tbody tr th {\n",
              "        vertical-align: top;\n",
              "    }\n",
              "\n",
              "    .dataframe thead th {\n",
              "        text-align: right;\n",
              "    }\n",
              "</style>\n",
              "<table border=\"1\" class=\"dataframe\">\n",
              "  <thead>\n",
              "    <tr style=\"text-align: right;\">\n",
              "      <th></th>\n",
              "      <th>eeg_id</th>\n",
              "      <th>eeg_sub_id</th>\n",
              "      <th>eeg_label_offset_seconds</th>\n",
              "      <th>spectrogram_id</th>\n",
              "      <th>spectrogram_sub_id</th>\n",
              "      <th>spectrogram_label_offset_seconds</th>\n",
              "      <th>label_id</th>\n",
              "      <th>patient_id</th>\n",
              "      <th>expert_consensus</th>\n",
              "      <th>seizure_vote</th>\n",
              "      <th>lpd_vote</th>\n",
              "      <th>gpd_vote</th>\n",
              "      <th>lrda_vote</th>\n",
              "      <th>grda_vote</th>\n",
              "      <th>other_vote</th>\n",
              "      <th>label</th>\n",
              "    </tr>\n",
              "  </thead>\n",
              "  <tbody>\n",
              "    <tr>\n",
              "      <th>count</th>\n",
              "      <td>1.068000e+05</td>\n",
              "      <td>106800.000000</td>\n",
              "      <td>106800.000000</td>\n",
              "      <td>1.068000e+05</td>\n",
              "      <td>106800.000000</td>\n",
              "      <td>106800.000000</td>\n",
              "      <td>1.068000e+05</td>\n",
              "      <td>106800.000000</td>\n",
              "      <td>106800.000000</td>\n",
              "      <td>106800.000000</td>\n",
              "      <td>106800.000000</td>\n",
              "      <td>106800.000000</td>\n",
              "      <td>106800.000000</td>\n",
              "      <td>106800.000000</td>\n",
              "      <td>106800.000000</td>\n",
              "      <td>106800.000000</td>\n",
              "    </tr>\n",
              "    <tr>\n",
              "      <th>mean</th>\n",
              "      <td>2.104387e+09</td>\n",
              "      <td>26.286189</td>\n",
              "      <td>118.817228</td>\n",
              "      <td>1.067262e+09</td>\n",
              "      <td>43.733596</td>\n",
              "      <td>520.431404</td>\n",
              "      <td>2.141415e+09</td>\n",
              "      <td>32304.428493</td>\n",
              "      <td>2.316695</td>\n",
              "      <td>0.878024</td>\n",
              "      <td>1.138783</td>\n",
              "      <td>1.264925</td>\n",
              "      <td>0.948296</td>\n",
              "      <td>1.059185</td>\n",
              "      <td>1.966283</td>\n",
              "      <td>2.316695</td>\n",
              "    </tr>\n",
              "    <tr>\n",
              "      <th>std</th>\n",
              "      <td>1.233371e+09</td>\n",
              "      <td>69.757658</td>\n",
              "      <td>314.557803</td>\n",
              "      <td>6.291475e+08</td>\n",
              "      <td>104.292116</td>\n",
              "      <td>1449.759868</td>\n",
              "      <td>1.241670e+09</td>\n",
              "      <td>18538.196252</td>\n",
              "      <td>1.700546</td>\n",
              "      <td>1.538873</td>\n",
              "      <td>2.818845</td>\n",
              "      <td>3.131889</td>\n",
              "      <td>2.136799</td>\n",
              "      <td>2.228492</td>\n",
              "      <td>3.621180</td>\n",
              "      <td>1.700546</td>\n",
              "    </tr>\n",
              "    <tr>\n",
              "      <th>min</th>\n",
              "      <td>5.686570e+05</td>\n",
              "      <td>0.000000</td>\n",
              "      <td>0.000000</td>\n",
              "      <td>3.537330e+05</td>\n",
              "      <td>0.000000</td>\n",
              "      <td>0.000000</td>\n",
              "      <td>3.380000e+02</td>\n",
              "      <td>56.000000</td>\n",
              "      <td>0.000000</td>\n",
              "      <td>0.000000</td>\n",
              "      <td>0.000000</td>\n",
              "      <td>0.000000</td>\n",
              "      <td>0.000000</td>\n",
              "      <td>0.000000</td>\n",
              "      <td>0.000000</td>\n",
              "      <td>0.000000</td>\n",
              "    </tr>\n",
              "    <tr>\n",
              "      <th>25%</th>\n",
              "      <td>1.026896e+09</td>\n",
              "      <td>1.000000</td>\n",
              "      <td>6.000000</td>\n",
              "      <td>5.238626e+08</td>\n",
              "      <td>2.000000</td>\n",
              "      <td>12.000000</td>\n",
              "      <td>1.067419e+09</td>\n",
              "      <td>16707.000000</td>\n",
              "      <td>1.000000</td>\n",
              "      <td>0.000000</td>\n",
              "      <td>0.000000</td>\n",
              "      <td>0.000000</td>\n",
              "      <td>0.000000</td>\n",
              "      <td>0.000000</td>\n",
              "      <td>0.000000</td>\n",
              "      <td>1.000000</td>\n",
              "    </tr>\n",
              "    <tr>\n",
              "      <th>50%</th>\n",
              "      <td>2.071326e+09</td>\n",
              "      <td>5.000000</td>\n",
              "      <td>26.000000</td>\n",
              "      <td>1.057904e+09</td>\n",
              "      <td>8.000000</td>\n",
              "      <td>62.000000</td>\n",
              "      <td>2.138332e+09</td>\n",
              "      <td>32068.000000</td>\n",
              "      <td>2.000000</td>\n",
              "      <td>0.000000</td>\n",
              "      <td>0.000000</td>\n",
              "      <td>0.000000</td>\n",
              "      <td>0.000000</td>\n",
              "      <td>0.000000</td>\n",
              "      <td>0.000000</td>\n",
              "      <td>2.000000</td>\n",
              "    </tr>\n",
              "    <tr>\n",
              "      <th>75%</th>\n",
              "      <td>3.172787e+09</td>\n",
              "      <td>16.000000</td>\n",
              "      <td>82.000000</td>\n",
              "      <td>1.623195e+09</td>\n",
              "      <td>29.000000</td>\n",
              "      <td>394.000000</td>\n",
              "      <td>3.217816e+09</td>\n",
              "      <td>48036.000000</td>\n",
              "      <td>4.000000</td>\n",
              "      <td>1.000000</td>\n",
              "      <td>1.000000</td>\n",
              "      <td>0.000000</td>\n",
              "      <td>1.000000</td>\n",
              "      <td>1.000000</td>\n",
              "      <td>2.000000</td>\n",
              "      <td>4.000000</td>\n",
              "    </tr>\n",
              "    <tr>\n",
              "      <th>max</th>\n",
              "      <td>4.294958e+09</td>\n",
              "      <td>742.000000</td>\n",
              "      <td>3372.000000</td>\n",
              "      <td>2.147388e+09</td>\n",
              "      <td>1021.000000</td>\n",
              "      <td>17632.000000</td>\n",
              "      <td>4.294934e+09</td>\n",
              "      <td>65494.000000</td>\n",
              "      <td>5.000000</td>\n",
              "      <td>19.000000</td>\n",
              "      <td>18.000000</td>\n",
              "      <td>16.000000</td>\n",
              "      <td>15.000000</td>\n",
              "      <td>15.000000</td>\n",
              "      <td>25.000000</td>\n",
              "      <td>5.000000</td>\n",
              "    </tr>\n",
              "  </tbody>\n",
              "</table>\n",
              "</div>\n",
              "    <div class=\"colab-df-buttons\">\n",
              "\n",
              "  <div class=\"colab-df-container\">\n",
              "    <button class=\"colab-df-convert\" onclick=\"convertToInteractive('df-b7e86628-22c8-441d-ab17-ebcc6c34cf96')\"\n",
              "            title=\"Convert this dataframe to an interactive table.\"\n",
              "            style=\"display:none;\">\n",
              "\n",
              "  <svg xmlns=\"http://www.w3.org/2000/svg\" height=\"24px\" viewBox=\"0 -960 960 960\">\n",
              "    <path d=\"M120-120v-720h720v720H120Zm60-500h600v-160H180v160Zm220 220h160v-160H400v160Zm0 220h160v-160H400v160ZM180-400h160v-160H180v160Zm440 0h160v-160H620v160ZM180-180h160v-160H180v160Zm440 0h160v-160H620v160Z\"/>\n",
              "  </svg>\n",
              "    </button>\n",
              "\n",
              "  <style>\n",
              "    .colab-df-container {\n",
              "      display:flex;\n",
              "      gap: 12px;\n",
              "    }\n",
              "\n",
              "    .colab-df-convert {\n",
              "      background-color: #E8F0FE;\n",
              "      border: none;\n",
              "      border-radius: 50%;\n",
              "      cursor: pointer;\n",
              "      display: none;\n",
              "      fill: #1967D2;\n",
              "      height: 32px;\n",
              "      padding: 0 0 0 0;\n",
              "      width: 32px;\n",
              "    }\n",
              "\n",
              "    .colab-df-convert:hover {\n",
              "      background-color: #E2EBFA;\n",
              "      box-shadow: 0px 1px 2px rgba(60, 64, 67, 0.3), 0px 1px 3px 1px rgba(60, 64, 67, 0.15);\n",
              "      fill: #174EA6;\n",
              "    }\n",
              "\n",
              "    .colab-df-buttons div {\n",
              "      margin-bottom: 4px;\n",
              "    }\n",
              "\n",
              "    [theme=dark] .colab-df-convert {\n",
              "      background-color: #3B4455;\n",
              "      fill: #D2E3FC;\n",
              "    }\n",
              "\n",
              "    [theme=dark] .colab-df-convert:hover {\n",
              "      background-color: #434B5C;\n",
              "      box-shadow: 0px 1px 3px 1px rgba(0, 0, 0, 0.15);\n",
              "      filter: drop-shadow(0px 1px 2px rgba(0, 0, 0, 0.3));\n",
              "      fill: #FFFFFF;\n",
              "    }\n",
              "  </style>\n",
              "\n",
              "    <script>\n",
              "      const buttonEl =\n",
              "        document.querySelector('#df-b7e86628-22c8-441d-ab17-ebcc6c34cf96 button.colab-df-convert');\n",
              "      buttonEl.style.display =\n",
              "        google.colab.kernel.accessAllowed ? 'block' : 'none';\n",
              "\n",
              "      async function convertToInteractive(key) {\n",
              "        const element = document.querySelector('#df-b7e86628-22c8-441d-ab17-ebcc6c34cf96');\n",
              "        const dataTable =\n",
              "          await google.colab.kernel.invokeFunction('convertToInteractive',\n",
              "                                                    [key], {});\n",
              "        if (!dataTable) return;\n",
              "\n",
              "        const docLinkHtml = 'Like what you see? Visit the ' +\n",
              "          '<a target=\"_blank\" href=https://colab.research.google.com/notebooks/data_table.ipynb>data table notebook</a>'\n",
              "          + ' to learn more about interactive tables.';\n",
              "        element.innerHTML = '';\n",
              "        dataTable['output_type'] = 'display_data';\n",
              "        await google.colab.output.renderOutput(dataTable, element);\n",
              "        const docLink = document.createElement('div');\n",
              "        docLink.innerHTML = docLinkHtml;\n",
              "        element.appendChild(docLink);\n",
              "      }\n",
              "    </script>\n",
              "  </div>\n",
              "\n",
              "\n",
              "<div id=\"df-236064c5-06d2-4cc4-9944-af7ba793e473\">\n",
              "  <button class=\"colab-df-quickchart\" onclick=\"quickchart('df-236064c5-06d2-4cc4-9944-af7ba793e473')\"\n",
              "            title=\"Suggest charts\"\n",
              "            style=\"display:none;\">\n",
              "\n",
              "<svg xmlns=\"http://www.w3.org/2000/svg\" height=\"24px\"viewBox=\"0 0 24 24\"\n",
              "     width=\"24px\">\n",
              "    <g>\n",
              "        <path d=\"M19 3H5c-1.1 0-2 .9-2 2v14c0 1.1.9 2 2 2h14c1.1 0 2-.9 2-2V5c0-1.1-.9-2-2-2zM9 17H7v-7h2v7zm4 0h-2V7h2v10zm4 0h-2v-4h2v4z\"/>\n",
              "    </g>\n",
              "</svg>\n",
              "  </button>\n",
              "\n",
              "<style>\n",
              "  .colab-df-quickchart {\n",
              "      --bg-color: #E8F0FE;\n",
              "      --fill-color: #1967D2;\n",
              "      --hover-bg-color: #E2EBFA;\n",
              "      --hover-fill-color: #174EA6;\n",
              "      --disabled-fill-color: #AAA;\n",
              "      --disabled-bg-color: #DDD;\n",
              "  }\n",
              "\n",
              "  [theme=dark] .colab-df-quickchart {\n",
              "      --bg-color: #3B4455;\n",
              "      --fill-color: #D2E3FC;\n",
              "      --hover-bg-color: #434B5C;\n",
              "      --hover-fill-color: #FFFFFF;\n",
              "      --disabled-bg-color: #3B4455;\n",
              "      --disabled-fill-color: #666;\n",
              "  }\n",
              "\n",
              "  .colab-df-quickchart {\n",
              "    background-color: var(--bg-color);\n",
              "    border: none;\n",
              "    border-radius: 50%;\n",
              "    cursor: pointer;\n",
              "    display: none;\n",
              "    fill: var(--fill-color);\n",
              "    height: 32px;\n",
              "    padding: 0;\n",
              "    width: 32px;\n",
              "  }\n",
              "\n",
              "  .colab-df-quickchart:hover {\n",
              "    background-color: var(--hover-bg-color);\n",
              "    box-shadow: 0 1px 2px rgba(60, 64, 67, 0.3), 0 1px 3px 1px rgba(60, 64, 67, 0.15);\n",
              "    fill: var(--button-hover-fill-color);\n",
              "  }\n",
              "\n",
              "  .colab-df-quickchart-complete:disabled,\n",
              "  .colab-df-quickchart-complete:disabled:hover {\n",
              "    background-color: var(--disabled-bg-color);\n",
              "    fill: var(--disabled-fill-color);\n",
              "    box-shadow: none;\n",
              "  }\n",
              "\n",
              "  .colab-df-spinner {\n",
              "    border: 2px solid var(--fill-color);\n",
              "    border-color: transparent;\n",
              "    border-bottom-color: var(--fill-color);\n",
              "    animation:\n",
              "      spin 1s steps(1) infinite;\n",
              "  }\n",
              "\n",
              "  @keyframes spin {\n",
              "    0% {\n",
              "      border-color: transparent;\n",
              "      border-bottom-color: var(--fill-color);\n",
              "      border-left-color: var(--fill-color);\n",
              "    }\n",
              "    20% {\n",
              "      border-color: transparent;\n",
              "      border-left-color: var(--fill-color);\n",
              "      border-top-color: var(--fill-color);\n",
              "    }\n",
              "    30% {\n",
              "      border-color: transparent;\n",
              "      border-left-color: var(--fill-color);\n",
              "      border-top-color: var(--fill-color);\n",
              "      border-right-color: var(--fill-color);\n",
              "    }\n",
              "    40% {\n",
              "      border-color: transparent;\n",
              "      border-right-color: var(--fill-color);\n",
              "      border-top-color: var(--fill-color);\n",
              "    }\n",
              "    60% {\n",
              "      border-color: transparent;\n",
              "      border-right-color: var(--fill-color);\n",
              "    }\n",
              "    80% {\n",
              "      border-color: transparent;\n",
              "      border-right-color: var(--fill-color);\n",
              "      border-bottom-color: var(--fill-color);\n",
              "    }\n",
              "    90% {\n",
              "      border-color: transparent;\n",
              "      border-bottom-color: var(--fill-color);\n",
              "    }\n",
              "  }\n",
              "</style>\n",
              "\n",
              "  <script>\n",
              "    async function quickchart(key) {\n",
              "      const quickchartButtonEl =\n",
              "        document.querySelector('#' + key + ' button');\n",
              "      quickchartButtonEl.disabled = true;  // To prevent multiple clicks.\n",
              "      quickchartButtonEl.classList.add('colab-df-spinner');\n",
              "      try {\n",
              "        const charts = await google.colab.kernel.invokeFunction(\n",
              "            'suggestCharts', [key], {});\n",
              "      } catch (error) {\n",
              "        console.error('Error during call to suggestCharts:', error);\n",
              "      }\n",
              "      quickchartButtonEl.classList.remove('colab-df-spinner');\n",
              "      quickchartButtonEl.classList.add('colab-df-quickchart-complete');\n",
              "    }\n",
              "    (() => {\n",
              "      let quickchartButtonEl =\n",
              "        document.querySelector('#df-236064c5-06d2-4cc4-9944-af7ba793e473 button');\n",
              "      quickchartButtonEl.style.display =\n",
              "        google.colab.kernel.accessAllowed ? 'block' : 'none';\n",
              "    })();\n",
              "  </script>\n",
              "</div>\n",
              "\n",
              "    </div>\n",
              "  </div>\n"
            ],
            "application/vnd.google.colaboratory.intrinsic+json": {
              "type": "dataframe",
              "summary": "{\n  \"name\": \"dataset\",\n  \"rows\": 8,\n  \"fields\": [\n    {\n      \"column\": \"eeg_id\",\n      \"properties\": {\n        \"dtype\": \"number\",\n        \"std\": 1494812750.4762566,\n        \"min\": 106800.0,\n        \"max\": 4294958358.0,\n        \"num_unique_values\": 8,\n        \"samples\": [\n          2104387418.1855898,\n          2071325747.0,\n          106800.0\n        ],\n        \"semantic_type\": \"\",\n        \"description\": \"\"\n      }\n    },\n    {\n      \"column\": \"eeg_sub_id\",\n      \"properties\": {\n        \"dtype\": \"number\",\n        \"std\": 37716.916956562396,\n        \"min\": 0.0,\n        \"max\": 106800.0,\n        \"num_unique_values\": 8,\n        \"samples\": [\n          26.28618913857678,\n          5.0,\n          106800.0\n        ],\n        \"semantic_type\": \"\",\n        \"description\": \"\"\n      }\n    },\n    {\n      \"column\": \"eeg_label_offset_seconds\",\n      \"properties\": {\n        \"dtype\": \"number\",\n        \"std\": 37579.218009089775,\n        \"min\": 0.0,\n        \"max\": 106800.0,\n        \"num_unique_values\": 8,\n        \"samples\": [\n          118.81722846441947,\n          26.0,\n          106800.0\n        ],\n        \"semantic_type\": \"\",\n        \"description\": \"\"\n      }\n    },\n    {\n      \"column\": \"spectrogram_id\",\n      \"properties\": {\n        \"dtype\": \"number\",\n        \"std\": 752431268.1724318,\n        \"min\": 106800.0,\n        \"max\": 2147388374.0,\n        \"num_unique_values\": 8,\n        \"samples\": [\n          1067262422.410206,\n          1057904259.0,\n          106800.0\n        ],\n        \"semantic_type\": \"\",\n        \"description\": \"\"\n      }\n    },\n    {\n      \"column\": \"spectrogram_sub_id\",\n      \"properties\": {\n        \"dtype\": \"number\",\n        \"std\": 37700.09366642143,\n        \"min\": 0.0,\n        \"max\": 106800.0,\n        \"num_unique_values\": 8,\n        \"samples\": [\n          43.73359550561798,\n          8.0,\n          106800.0\n        ],\n        \"semantic_type\": \"\",\n        \"description\": \"\"\n      }\n    },\n    {\n      \"column\": \"spectrogram_label_offset_seconds\",\n      \"properties\": {\n        \"dtype\": \"number\",\n        \"std\": 37239.86654369613,\n        \"min\": 0.0,\n        \"max\": 106800.0,\n        \"num_unique_values\": 8,\n        \"samples\": [\n          520.431404494382,\n          62.0,\n          106800.0\n        ],\n        \"semantic_type\": \"\",\n        \"description\": \"\"\n      }\n    },\n    {\n      \"column\": \"label_id\",\n      \"properties\": {\n        \"dtype\": \"number\",\n        \"std\": 1501562302.9417229,\n        \"min\": 338.0,\n        \"max\": 4294933502.0,\n        \"num_unique_values\": 8,\n        \"samples\": [\n          2141414769.275365,\n          2138331961.0,\n          106800.0\n        ],\n        \"semantic_type\": \"\",\n        \"description\": \"\"\n      }\n    },\n    {\n      \"column\": \"patient_id\",\n      \"properties\": {\n        \"dtype\": \"number\",\n        \"std\": 33589.10490938994,\n        \"min\": 56.0,\n        \"max\": 106800.0,\n        \"num_unique_values\": 8,\n        \"samples\": [\n          32304.428492509363,\n          32068.0,\n          106800.0\n        ],\n        \"semantic_type\": \"\",\n        \"description\": \"\"\n      }\n    },\n    {\n      \"column\": \"expert_consensus\",\n      \"properties\": {\n        \"dtype\": \"number\",\n        \"std\": 37758.693155842644,\n        \"min\": 0.0,\n        \"max\": 106800.0,\n        \"num_unique_values\": 8,\n        \"samples\": [\n          2.3166947565543072,\n          2.0,\n          106800.0\n        ],\n        \"semantic_type\": \"\",\n        \"description\": \"\"\n      }\n    },\n    {\n      \"column\": \"seizure_vote\",\n      \"properties\": {\n        \"dtype\": \"number\",\n        \"std\": 37758.37044599239,\n        \"min\": 0.0,\n        \"max\": 106800.0,\n        \"num_unique_values\": 6,\n        \"samples\": [\n          106800.0,\n          0.8780243445692884,\n          19.0\n        ],\n        \"semantic_type\": \"\",\n        \"description\": \"\"\n      }\n    },\n    {\n      \"column\": \"lpd_vote\",\n      \"properties\": {\n        \"dtype\": \"number\",\n        \"std\": 37758.34306990491,\n        \"min\": 0.0,\n        \"max\": 106800.0,\n        \"num_unique_values\": 6,\n        \"samples\": [\n          106800.0,\n          1.1387827715355805,\n          18.0\n        ],\n        \"semantic_type\": \"\",\n        \"description\": \"\"\n      }\n    },\n    {\n      \"column\": \"gpd_vote\",\n      \"properties\": {\n        \"dtype\": \"number\",\n        \"std\": 37758.47231412727,\n        \"min\": 0.0,\n        \"max\": 106800.0,\n        \"num_unique_values\": 5,\n        \"samples\": [\n          1.2649250936329588,\n          16.0,\n          3.1318886891927598\n        ],\n        \"semantic_type\": \"\",\n        \"description\": \"\"\n      }\n    },\n    {\n      \"column\": \"lrda_vote\",\n      \"properties\": {\n        \"dtype\": \"number\",\n        \"std\": 37758.53851195079,\n        \"min\": 0.0,\n        \"max\": 106800.0,\n        \"num_unique_values\": 6,\n        \"samples\": [\n          106800.0,\n          0.9482958801498127,\n          15.0\n        ],\n        \"semantic_type\": \"\",\n        \"description\": \"\"\n      }\n    },\n    {\n      \"column\": \"grda_vote\",\n      \"properties\": {\n        \"dtype\": \"number\",\n        \"std\": 37758.528279031394,\n        \"min\": 0.0,\n        \"max\": 106800.0,\n        \"num_unique_values\": 6,\n        \"samples\": [\n          106800.0,\n          1.059185393258427,\n          15.0\n        ],\n        \"semantic_type\": \"\",\n        \"description\": \"\"\n      }\n    },\n    {\n      \"column\": \"other_vote\",\n      \"properties\": {\n        \"dtype\": \"number\",\n        \"std\": 37757.85713496872,\n        \"min\": 0.0,\n        \"max\": 106800.0,\n        \"num_unique_values\": 6,\n        \"samples\": [\n          106800.0,\n          1.9662827715355806,\n          25.0\n        ],\n        \"semantic_type\": \"\",\n        \"description\": \"\"\n      }\n    },\n    {\n      \"column\": \"label\",\n      \"properties\": {\n        \"dtype\": \"number\",\n        \"std\": 37758.693155842644,\n        \"min\": 0.0,\n        \"max\": 106800.0,\n        \"num_unique_values\": 8,\n        \"samples\": [\n          2.3166947565543072,\n          2.0,\n          106800.0\n        ],\n        \"semantic_type\": \"\",\n        \"description\": \"\"\n      }\n    }\n  ]\n}"
            }
          },
          "metadata": {},
          "execution_count": 181
        }
      ]
    },
    {
      "cell_type": "code",
      "source": [
        "# checking the distribution of Target Varibale\n",
        "dataset['label'].value_counts()"
      ],
      "metadata": {
        "colab": {
          "base_uri": "https://localhost:8080/"
        },
        "id": "1bAsw0VzuhD6",
        "outputId": "c7204882-c99e-42b1-c070-c6fe4ce1fc4c"
      },
      "execution_count": null,
      "outputs": [
        {
          "output_type": "execute_result",
          "data": {
            "text/plain": [
              "0    20933\n",
              "1    18861\n",
              "2    18808\n",
              "3    16702\n",
              "4    16640\n",
              "5    14856\n",
              "Name: label, dtype: int64"
            ]
          },
          "metadata": {},
          "execution_count": 182
        }
      ]
    },
    {
      "cell_type": "markdown",
      "source": [
        "**Label explanation of alignment**\n",
        "\n",
        "Seizure  -->  20933\n",
        "\n",
        "GRDA     -->  18861\n",
        "\n",
        "Other    -->  18808\n",
        "\n",
        "GPD      -->  16702\n",
        "\n",
        "LRDA     -->  16640\n",
        "\n",
        "LPD      -->  14856"
      ],
      "metadata": {
        "id": "OhG6xlAZ2wZf"
      }
    },
    {
      "cell_type": "code",
      "execution_count": null,
      "metadata": {
        "colab": {
          "base_uri": "https://localhost:8080/",
          "height": 289
        },
        "id": "WtHCV8xP1tIW",
        "outputId": "0355c75b-3c8b-45b1-ae05-65c0dcdac84d"
      },
      "outputs": [
        {
          "output_type": "execute_result",
          "data": {
            "text/plain": [
              "             eeg_id  eeg_sub_id  eeg_label_offset_seconds  spectrogram_id  \\\n",
              "label                                                                       \n",
              "0      2.144307e+09    7.715951                 55.406105    1.067833e+09   \n",
              "1      2.122264e+09   34.889295                164.003181    1.115632e+09   \n",
              "2      2.148688e+09    3.607295                 25.629307    1.073661e+09   \n",
              "3      2.112607e+09   60.594001                271.789007    1.012988e+09   \n",
              "4      2.060360e+09   41.686238                111.167668    1.046095e+09   \n",
              "5      2.009430e+09   14.422052                105.365778    1.081675e+09   \n",
              "\n",
              "       spectrogram_sub_id  spectrogram_label_offset_seconds      label_id  \\\n",
              "label                                                                       \n",
              "0               14.002436                        229.519753  2.147165e+09   \n",
              "1               44.237951                        303.706590  2.139416e+09   \n",
              "2               13.892333                        346.593258  2.143698e+09   \n",
              "3               75.243384                        681.736199  2.137788e+09   \n",
              "4               61.317127                        516.924760  2.142999e+09   \n",
              "5               67.645665                       1248.156637  2.135262e+09   \n",
              "\n",
              "         patient_id  expert_consensus  seizure_vote  lpd_vote  gpd_vote  \\\n",
              "label                                                                     \n",
              "0      31499.771652               0.0      3.149620  0.076482  0.064587   \n",
              "1      31341.035947               1.0      0.030751  0.101161  0.196119   \n",
              "2      33263.351287               2.0      0.155997  0.471874  0.291631   \n",
              "3      30894.480362               3.0      1.073823  0.465932  7.136630   \n",
              "4      33981.688041               4.0      0.141286  0.469712  0.076082   \n",
              "5      33153.806745               5.0      0.272079  6.303177  0.275714   \n",
              "\n",
              "       lrda_vote  grda_vote  other_vote  \n",
              "label                                    \n",
              "0       0.041848   0.015860    0.128649  \n",
              "1       0.252214   4.516569    0.974286  \n",
              "2       0.507337   0.702573    7.204275  \n",
              "3       0.056161   0.327685    0.977967  \n",
              "4       4.535697   0.437500    1.351863  \n",
              "5       0.652329   0.110057    0.982970  "
            ],
            "text/html": [
              "\n",
              "  <div id=\"df-ef5d7b10-a802-419c-bb78-9f7fef32a091\" class=\"colab-df-container\">\n",
              "    <div>\n",
              "<style scoped>\n",
              "    .dataframe tbody tr th:only-of-type {\n",
              "        vertical-align: middle;\n",
              "    }\n",
              "\n",
              "    .dataframe tbody tr th {\n",
              "        vertical-align: top;\n",
              "    }\n",
              "\n",
              "    .dataframe thead th {\n",
              "        text-align: right;\n",
              "    }\n",
              "</style>\n",
              "<table border=\"1\" class=\"dataframe\">\n",
              "  <thead>\n",
              "    <tr style=\"text-align: right;\">\n",
              "      <th></th>\n",
              "      <th>eeg_id</th>\n",
              "      <th>eeg_sub_id</th>\n",
              "      <th>eeg_label_offset_seconds</th>\n",
              "      <th>spectrogram_id</th>\n",
              "      <th>spectrogram_sub_id</th>\n",
              "      <th>spectrogram_label_offset_seconds</th>\n",
              "      <th>label_id</th>\n",
              "      <th>patient_id</th>\n",
              "      <th>expert_consensus</th>\n",
              "      <th>seizure_vote</th>\n",
              "      <th>lpd_vote</th>\n",
              "      <th>gpd_vote</th>\n",
              "      <th>lrda_vote</th>\n",
              "      <th>grda_vote</th>\n",
              "      <th>other_vote</th>\n",
              "    </tr>\n",
              "    <tr>\n",
              "      <th>label</th>\n",
              "      <th></th>\n",
              "      <th></th>\n",
              "      <th></th>\n",
              "      <th></th>\n",
              "      <th></th>\n",
              "      <th></th>\n",
              "      <th></th>\n",
              "      <th></th>\n",
              "      <th></th>\n",
              "      <th></th>\n",
              "      <th></th>\n",
              "      <th></th>\n",
              "      <th></th>\n",
              "      <th></th>\n",
              "      <th></th>\n",
              "    </tr>\n",
              "  </thead>\n",
              "  <tbody>\n",
              "    <tr>\n",
              "      <th>0</th>\n",
              "      <td>2.144307e+09</td>\n",
              "      <td>7.715951</td>\n",
              "      <td>55.406105</td>\n",
              "      <td>1.067833e+09</td>\n",
              "      <td>14.002436</td>\n",
              "      <td>229.519753</td>\n",
              "      <td>2.147165e+09</td>\n",
              "      <td>31499.771652</td>\n",
              "      <td>0.0</td>\n",
              "      <td>3.149620</td>\n",
              "      <td>0.076482</td>\n",
              "      <td>0.064587</td>\n",
              "      <td>0.041848</td>\n",
              "      <td>0.015860</td>\n",
              "      <td>0.128649</td>\n",
              "    </tr>\n",
              "    <tr>\n",
              "      <th>1</th>\n",
              "      <td>2.122264e+09</td>\n",
              "      <td>34.889295</td>\n",
              "      <td>164.003181</td>\n",
              "      <td>1.115632e+09</td>\n",
              "      <td>44.237951</td>\n",
              "      <td>303.706590</td>\n",
              "      <td>2.139416e+09</td>\n",
              "      <td>31341.035947</td>\n",
              "      <td>1.0</td>\n",
              "      <td>0.030751</td>\n",
              "      <td>0.101161</td>\n",
              "      <td>0.196119</td>\n",
              "      <td>0.252214</td>\n",
              "      <td>4.516569</td>\n",
              "      <td>0.974286</td>\n",
              "    </tr>\n",
              "    <tr>\n",
              "      <th>2</th>\n",
              "      <td>2.148688e+09</td>\n",
              "      <td>3.607295</td>\n",
              "      <td>25.629307</td>\n",
              "      <td>1.073661e+09</td>\n",
              "      <td>13.892333</td>\n",
              "      <td>346.593258</td>\n",
              "      <td>2.143698e+09</td>\n",
              "      <td>33263.351287</td>\n",
              "      <td>2.0</td>\n",
              "      <td>0.155997</td>\n",
              "      <td>0.471874</td>\n",
              "      <td>0.291631</td>\n",
              "      <td>0.507337</td>\n",
              "      <td>0.702573</td>\n",
              "      <td>7.204275</td>\n",
              "    </tr>\n",
              "    <tr>\n",
              "      <th>3</th>\n",
              "      <td>2.112607e+09</td>\n",
              "      <td>60.594001</td>\n",
              "      <td>271.789007</td>\n",
              "      <td>1.012988e+09</td>\n",
              "      <td>75.243384</td>\n",
              "      <td>681.736199</td>\n",
              "      <td>2.137788e+09</td>\n",
              "      <td>30894.480362</td>\n",
              "      <td>3.0</td>\n",
              "      <td>1.073823</td>\n",
              "      <td>0.465932</td>\n",
              "      <td>7.136630</td>\n",
              "      <td>0.056161</td>\n",
              "      <td>0.327685</td>\n",
              "      <td>0.977967</td>\n",
              "    </tr>\n",
              "    <tr>\n",
              "      <th>4</th>\n",
              "      <td>2.060360e+09</td>\n",
              "      <td>41.686238</td>\n",
              "      <td>111.167668</td>\n",
              "      <td>1.046095e+09</td>\n",
              "      <td>61.317127</td>\n",
              "      <td>516.924760</td>\n",
              "      <td>2.142999e+09</td>\n",
              "      <td>33981.688041</td>\n",
              "      <td>4.0</td>\n",
              "      <td>0.141286</td>\n",
              "      <td>0.469712</td>\n",
              "      <td>0.076082</td>\n",
              "      <td>4.535697</td>\n",
              "      <td>0.437500</td>\n",
              "      <td>1.351863</td>\n",
              "    </tr>\n",
              "    <tr>\n",
              "      <th>5</th>\n",
              "      <td>2.009430e+09</td>\n",
              "      <td>14.422052</td>\n",
              "      <td>105.365778</td>\n",
              "      <td>1.081675e+09</td>\n",
              "      <td>67.645665</td>\n",
              "      <td>1248.156637</td>\n",
              "      <td>2.135262e+09</td>\n",
              "      <td>33153.806745</td>\n",
              "      <td>5.0</td>\n",
              "      <td>0.272079</td>\n",
              "      <td>6.303177</td>\n",
              "      <td>0.275714</td>\n",
              "      <td>0.652329</td>\n",
              "      <td>0.110057</td>\n",
              "      <td>0.982970</td>\n",
              "    </tr>\n",
              "  </tbody>\n",
              "</table>\n",
              "</div>\n",
              "    <div class=\"colab-df-buttons\">\n",
              "\n",
              "  <div class=\"colab-df-container\">\n",
              "    <button class=\"colab-df-convert\" onclick=\"convertToInteractive('df-ef5d7b10-a802-419c-bb78-9f7fef32a091')\"\n",
              "            title=\"Convert this dataframe to an interactive table.\"\n",
              "            style=\"display:none;\">\n",
              "\n",
              "  <svg xmlns=\"http://www.w3.org/2000/svg\" height=\"24px\" viewBox=\"0 -960 960 960\">\n",
              "    <path d=\"M120-120v-720h720v720H120Zm60-500h600v-160H180v160Zm220 220h160v-160H400v160Zm0 220h160v-160H400v160ZM180-400h160v-160H180v160Zm440 0h160v-160H620v160ZM180-180h160v-160H180v160Zm440 0h160v-160H620v160Z\"/>\n",
              "  </svg>\n",
              "    </button>\n",
              "\n",
              "  <style>\n",
              "    .colab-df-container {\n",
              "      display:flex;\n",
              "      gap: 12px;\n",
              "    }\n",
              "\n",
              "    .colab-df-convert {\n",
              "      background-color: #E8F0FE;\n",
              "      border: none;\n",
              "      border-radius: 50%;\n",
              "      cursor: pointer;\n",
              "      display: none;\n",
              "      fill: #1967D2;\n",
              "      height: 32px;\n",
              "      padding: 0 0 0 0;\n",
              "      width: 32px;\n",
              "    }\n",
              "\n",
              "    .colab-df-convert:hover {\n",
              "      background-color: #E2EBFA;\n",
              "      box-shadow: 0px 1px 2px rgba(60, 64, 67, 0.3), 0px 1px 3px 1px rgba(60, 64, 67, 0.15);\n",
              "      fill: #174EA6;\n",
              "    }\n",
              "\n",
              "    .colab-df-buttons div {\n",
              "      margin-bottom: 4px;\n",
              "    }\n",
              "\n",
              "    [theme=dark] .colab-df-convert {\n",
              "      background-color: #3B4455;\n",
              "      fill: #D2E3FC;\n",
              "    }\n",
              "\n",
              "    [theme=dark] .colab-df-convert:hover {\n",
              "      background-color: #434B5C;\n",
              "      box-shadow: 0px 1px 3px 1px rgba(0, 0, 0, 0.15);\n",
              "      filter: drop-shadow(0px 1px 2px rgba(0, 0, 0, 0.3));\n",
              "      fill: #FFFFFF;\n",
              "    }\n",
              "  </style>\n",
              "\n",
              "    <script>\n",
              "      const buttonEl =\n",
              "        document.querySelector('#df-ef5d7b10-a802-419c-bb78-9f7fef32a091 button.colab-df-convert');\n",
              "      buttonEl.style.display =\n",
              "        google.colab.kernel.accessAllowed ? 'block' : 'none';\n",
              "\n",
              "      async function convertToInteractive(key) {\n",
              "        const element = document.querySelector('#df-ef5d7b10-a802-419c-bb78-9f7fef32a091');\n",
              "        const dataTable =\n",
              "          await google.colab.kernel.invokeFunction('convertToInteractive',\n",
              "                                                    [key], {});\n",
              "        if (!dataTable) return;\n",
              "\n",
              "        const docLinkHtml = 'Like what you see? Visit the ' +\n",
              "          '<a target=\"_blank\" href=https://colab.research.google.com/notebooks/data_table.ipynb>data table notebook</a>'\n",
              "          + ' to learn more about interactive tables.';\n",
              "        element.innerHTML = '';\n",
              "        dataTable['output_type'] = 'display_data';\n",
              "        await google.colab.output.renderOutput(dataTable, element);\n",
              "        const docLink = document.createElement('div');\n",
              "        docLink.innerHTML = docLinkHtml;\n",
              "        element.appendChild(docLink);\n",
              "      }\n",
              "    </script>\n",
              "  </div>\n",
              "\n",
              "\n",
              "<div id=\"df-b80973a7-68ed-4800-8ba0-032b936b2d0e\">\n",
              "  <button class=\"colab-df-quickchart\" onclick=\"quickchart('df-b80973a7-68ed-4800-8ba0-032b936b2d0e')\"\n",
              "            title=\"Suggest charts\"\n",
              "            style=\"display:none;\">\n",
              "\n",
              "<svg xmlns=\"http://www.w3.org/2000/svg\" height=\"24px\"viewBox=\"0 0 24 24\"\n",
              "     width=\"24px\">\n",
              "    <g>\n",
              "        <path d=\"M19 3H5c-1.1 0-2 .9-2 2v14c0 1.1.9 2 2 2h14c1.1 0 2-.9 2-2V5c0-1.1-.9-2-2-2zM9 17H7v-7h2v7zm4 0h-2V7h2v10zm4 0h-2v-4h2v4z\"/>\n",
              "    </g>\n",
              "</svg>\n",
              "  </button>\n",
              "\n",
              "<style>\n",
              "  .colab-df-quickchart {\n",
              "      --bg-color: #E8F0FE;\n",
              "      --fill-color: #1967D2;\n",
              "      --hover-bg-color: #E2EBFA;\n",
              "      --hover-fill-color: #174EA6;\n",
              "      --disabled-fill-color: #AAA;\n",
              "      --disabled-bg-color: #DDD;\n",
              "  }\n",
              "\n",
              "  [theme=dark] .colab-df-quickchart {\n",
              "      --bg-color: #3B4455;\n",
              "      --fill-color: #D2E3FC;\n",
              "      --hover-bg-color: #434B5C;\n",
              "      --hover-fill-color: #FFFFFF;\n",
              "      --disabled-bg-color: #3B4455;\n",
              "      --disabled-fill-color: #666;\n",
              "  }\n",
              "\n",
              "  .colab-df-quickchart {\n",
              "    background-color: var(--bg-color);\n",
              "    border: none;\n",
              "    border-radius: 50%;\n",
              "    cursor: pointer;\n",
              "    display: none;\n",
              "    fill: var(--fill-color);\n",
              "    height: 32px;\n",
              "    padding: 0;\n",
              "    width: 32px;\n",
              "  }\n",
              "\n",
              "  .colab-df-quickchart:hover {\n",
              "    background-color: var(--hover-bg-color);\n",
              "    box-shadow: 0 1px 2px rgba(60, 64, 67, 0.3), 0 1px 3px 1px rgba(60, 64, 67, 0.15);\n",
              "    fill: var(--button-hover-fill-color);\n",
              "  }\n",
              "\n",
              "  .colab-df-quickchart-complete:disabled,\n",
              "  .colab-df-quickchart-complete:disabled:hover {\n",
              "    background-color: var(--disabled-bg-color);\n",
              "    fill: var(--disabled-fill-color);\n",
              "    box-shadow: none;\n",
              "  }\n",
              "\n",
              "  .colab-df-spinner {\n",
              "    border: 2px solid var(--fill-color);\n",
              "    border-color: transparent;\n",
              "    border-bottom-color: var(--fill-color);\n",
              "    animation:\n",
              "      spin 1s steps(1) infinite;\n",
              "  }\n",
              "\n",
              "  @keyframes spin {\n",
              "    0% {\n",
              "      border-color: transparent;\n",
              "      border-bottom-color: var(--fill-color);\n",
              "      border-left-color: var(--fill-color);\n",
              "    }\n",
              "    20% {\n",
              "      border-color: transparent;\n",
              "      border-left-color: var(--fill-color);\n",
              "      border-top-color: var(--fill-color);\n",
              "    }\n",
              "    30% {\n",
              "      border-color: transparent;\n",
              "      border-left-color: var(--fill-color);\n",
              "      border-top-color: var(--fill-color);\n",
              "      border-right-color: var(--fill-color);\n",
              "    }\n",
              "    40% {\n",
              "      border-color: transparent;\n",
              "      border-right-color: var(--fill-color);\n",
              "      border-top-color: var(--fill-color);\n",
              "    }\n",
              "    60% {\n",
              "      border-color: transparent;\n",
              "      border-right-color: var(--fill-color);\n",
              "    }\n",
              "    80% {\n",
              "      border-color: transparent;\n",
              "      border-right-color: var(--fill-color);\n",
              "      border-bottom-color: var(--fill-color);\n",
              "    }\n",
              "    90% {\n",
              "      border-color: transparent;\n",
              "      border-bottom-color: var(--fill-color);\n",
              "    }\n",
              "  }\n",
              "</style>\n",
              "\n",
              "  <script>\n",
              "    async function quickchart(key) {\n",
              "      const quickchartButtonEl =\n",
              "        document.querySelector('#' + key + ' button');\n",
              "      quickchartButtonEl.disabled = true;  // To prevent multiple clicks.\n",
              "      quickchartButtonEl.classList.add('colab-df-spinner');\n",
              "      try {\n",
              "        const charts = await google.colab.kernel.invokeFunction(\n",
              "            'suggestCharts', [key], {});\n",
              "      } catch (error) {\n",
              "        console.error('Error during call to suggestCharts:', error);\n",
              "      }\n",
              "      quickchartButtonEl.classList.remove('colab-df-spinner');\n",
              "      quickchartButtonEl.classList.add('colab-df-quickchart-complete');\n",
              "    }\n",
              "    (() => {\n",
              "      let quickchartButtonEl =\n",
              "        document.querySelector('#df-b80973a7-68ed-4800-8ba0-032b936b2d0e button');\n",
              "      quickchartButtonEl.style.display =\n",
              "        google.colab.kernel.accessAllowed ? 'block' : 'none';\n",
              "    })();\n",
              "  </script>\n",
              "</div>\n",
              "\n",
              "    </div>\n",
              "  </div>\n"
            ],
            "application/vnd.google.colaboratory.intrinsic+json": {
              "type": "dataframe",
              "summary": "{\n  \"name\": \"dataset\",\n  \"rows\": 6,\n  \"fields\": [\n    {\n      \"column\": \"label\",\n      \"properties\": {\n        \"dtype\": \"number\",\n        \"std\": 1,\n        \"min\": 0,\n        \"max\": 5,\n        \"num_unique_values\": 6,\n        \"samples\": [\n          0,\n          1,\n          5\n        ],\n        \"semantic_type\": \"\",\n        \"description\": \"\"\n      }\n    },\n    {\n      \"column\": \"eeg_id\",\n      \"properties\": {\n        \"dtype\": \"number\",\n        \"std\": 54335124.91773269,\n        \"min\": 2009430484.977652,\n        \"max\": 2148688340.240483,\n        \"num_unique_values\": 6,\n        \"samples\": [\n          2144306991.8971958,\n          2122263845.7744021,\n          2009430484.977652\n        ],\n        \"semantic_type\": \"\",\n        \"description\": \"\"\n      }\n    },\n    {\n      \"column\": \"eeg_sub_id\",\n      \"properties\": {\n        \"dtype\": \"number\",\n        \"std\": 22.287404323081923,\n        \"min\": 3.6072947681837517,\n        \"max\": 60.59400071847683,\n        \"num_unique_values\": 6,\n        \"samples\": [\n          7.715950890937754,\n          34.8892953714013,\n          14.42205169628433\n        ],\n        \"semantic_type\": \"\",\n        \"description\": \"\"\n      }\n    },\n    {\n      \"column\": \"eeg_label_offset_seconds\",\n      \"properties\": {\n        \"dtype\": \"number\",\n        \"std\": 87.54061834458882,\n        \"min\": 25.629306678009357,\n        \"max\": 271.7890073045144,\n        \"num_unique_values\": 6,\n        \"samples\": [\n          55.40610519275785,\n          164.00318116748846,\n          105.36577813677975\n        ],\n        \"semantic_type\": \"\",\n        \"description\": \"\"\n      }\n    },\n    {\n      \"column\": \"spectrogram_id\",\n      \"properties\": {\n        \"dtype\": \"number\",\n        \"std\": 34574653.5983696,\n        \"min\": 1012987780.917435,\n        \"max\": 1115632307.7802343,\n        \"num_unique_values\": 6,\n        \"samples\": [\n          1067832755.6988009,\n          1115632307.7802343,\n          1081675402.8756058\n        ],\n        \"semantic_type\": \"\",\n        \"description\": \"\"\n      }\n    },\n    {\n      \"column\": \"spectrogram_sub_id\",\n      \"properties\": {\n        \"dtype\": \"number\",\n        \"std\": 26.892960964558046,\n        \"min\": 13.892333049766057,\n        \"max\": 75.24338402586517,\n        \"num_unique_values\": 6,\n        \"samples\": [\n          14.00243634452778,\n          44.23795132813743,\n          67.64566505115778\n        ],\n        \"semantic_type\": \"\",\n        \"description\": \"\"\n      }\n    },\n    {\n      \"column\": \"spectrogram_label_offset_seconds\",\n      \"properties\": {\n        \"dtype\": \"number\",\n        \"std\": 376.96025401153673,\n        \"min\": 229.51975349925954,\n        \"max\": 1248.1566370490038,\n        \"num_unique_values\": 6,\n        \"samples\": [\n          229.51975349925954,\n          303.70659031864693,\n          1248.1566370490038\n        ],\n        \"semantic_type\": \"\",\n        \"description\": \"\"\n      }\n    },\n    {\n      \"column\": \"label_id\",\n      \"properties\": {\n        \"dtype\": \"number\",\n        \"std\": 4359245.617220261,\n        \"min\": 2135261746.7244885,\n        \"max\": 2147164846.2170734,\n        \"num_unique_values\": 6,\n        \"samples\": [\n          2147164846.2170734,\n          2139416088.4127035,\n          2135261746.7244885\n        ],\n        \"semantic_type\": \"\",\n        \"description\": \"\"\n      }\n    },\n    {\n      \"column\": \"patient_id\",\n      \"properties\": {\n        \"dtype\": \"number\",\n        \"std\": 1265.0661366393622,\n        \"min\": 30894.480361633337,\n        \"max\": 33981.68804086538,\n        \"num_unique_values\": 6,\n        \"samples\": [\n          31499.77165241485,\n          31341.03594719262,\n          33153.8067447496\n        ],\n        \"semantic_type\": \"\",\n        \"description\": \"\"\n      }\n    },\n    {\n      \"column\": \"expert_consensus\",\n      \"properties\": {\n        \"dtype\": \"number\",\n        \"std\": 1.8708286933869707,\n        \"min\": 0.0,\n        \"max\": 5.0,\n        \"num_unique_values\": 6,\n        \"samples\": [\n          0.0,\n          1.0,\n          5.0\n        ],\n        \"semantic_type\": \"\",\n        \"description\": \"\"\n      }\n    },\n    {\n      \"column\": \"seizure_vote\",\n      \"properties\": {\n        \"dtype\": \"number\",\n        \"std\": 1.2095197304012963,\n        \"min\": 0.030751285721859922,\n        \"max\": 3.1496202168824343,\n        \"num_unique_values\": 6,\n        \"samples\": [\n          3.1496202168824343,\n          0.030751285721859922,\n          0.2720786214324179\n        ],\n        \"semantic_type\": \"\",\n        \"description\": \"\"\n      }\n    },\n    {\n      \"column\": \"lpd_vote\",\n      \"properties\": {\n        \"dtype\": \"number\",\n        \"std\": 2.4509399441537334,\n        \"min\": 0.07648210958773229,\n        \"max\": 6.303177167474421,\n        \"num_unique_values\": 6,\n        \"samples\": [\n          0.07648210958773229,\n          0.10116112613329092,\n          6.303177167474421\n        ],\n        \"semantic_type\": \"\",\n        \"description\": \"\"\n      }\n    },\n    {\n      \"column\": \"gpd_vote\",\n      \"properties\": {\n        \"dtype\": \"number\",\n        \"std\": 2.8413143976060256,\n        \"min\": 0.06458701571681078,\n        \"max\": 7.136630343671417,\n        \"num_unique_values\": 6,\n        \"samples\": [\n          0.06458701571681078,\n          0.19611897566406872,\n          0.27571351642434033\n        ],\n        \"semantic_type\": \"\",\n        \"description\": \"\"\n      }\n    },\n    {\n      \"column\": \"lrda_vote\",\n      \"properties\": {\n        \"dtype\": \"number\",\n        \"std\": 1.7454209667361584,\n        \"min\": 0.0418478001242058,\n        \"max\": 4.5356971153846155,\n        \"num_unique_values\": 6,\n        \"samples\": [\n          0.0418478001242058,\n          0.2522135623773925,\n          0.6523290253096392\n        ],\n        \"semantic_type\": \"\",\n        \"description\": \"\"\n      }\n    },\n    {\n      \"column\": \"grda_vote\",\n      \"properties\": {\n        \"dtype\": \"number\",\n        \"std\": 1.7309902083375632,\n        \"min\": 0.015860125161228682,\n        \"max\": 4.516568580669105,\n        \"num_unique_values\": 6,\n        \"samples\": [\n          0.015860125161228682,\n          4.516568580669105,\n          0.11005654281098547\n        ],\n        \"semantic_type\": \"\",\n        \"description\": \"\"\n      }\n    },\n    {\n      \"column\": \"other_vote\",\n      \"properties\": {\n        \"dtype\": \"number\",\n        \"std\": 2.612027591874419,\n        \"min\": 0.12864854535900253,\n        \"max\": 7.20427477669077,\n        \"num_unique_values\": 6,\n        \"samples\": [\n          0.12864854535900253,\n          0.9742855628015482,\n          0.9829698438341411\n        ],\n        \"semantic_type\": \"\",\n        \"description\": \"\"\n      }\n    }\n  ]\n}"
            }
          },
          "metadata": {},
          "execution_count": 183
        }
      ],
      "source": [
        "dataset.groupby('label').mean()"
      ]
    },
    {
      "cell_type": "markdown",
      "metadata": {
        "id": "kRa7hwP0srPo"
      },
      "source": [
        "Separating the Features & Target"
      ]
    },
    {
      "cell_type": "code",
      "execution_count": null,
      "metadata": {
        "id": "X41JW-et8P3O"
      },
      "outputs": [],
      "source": [
        "X = dataset.drop(columns=['label'], axis=1)\n",
        "Y = dataset['label']"
      ]
    },
    {
      "cell_type": "code",
      "execution_count": null,
      "metadata": {
        "colab": {
          "base_uri": "https://localhost:8080/"
        },
        "id": "dpDAI5V68Tx-",
        "outputId": "41017e08-caa4-4e0e-bbe7-def1709b6dbe"
      },
      "outputs": [
        {
          "output_type": "stream",
          "name": "stdout",
          "text": [
            "            eeg_id  eeg_sub_id  eeg_label_offset_seconds  spectrogram_id  \\\n",
            "0       1628180742           0                       0.0          353733   \n",
            "1       1628180742           1                       6.0          353733   \n",
            "2       1628180742           2                       8.0          353733   \n",
            "3       1628180742           3                      18.0          353733   \n",
            "4       1628180742           4                      24.0          353733   \n",
            "...            ...         ...                       ...             ...   \n",
            "106795   351917269           6                      12.0      2147388374   \n",
            "106796   351917269           7                      14.0      2147388374   \n",
            "106797   351917269           8                      16.0      2147388374   \n",
            "106798   351917269           9                      18.0      2147388374   \n",
            "106799   351917269          10                      20.0      2147388374   \n",
            "\n",
            "        spectrogram_sub_id  spectrogram_label_offset_seconds    label_id  \\\n",
            "0                        0                               0.0   127492639   \n",
            "1                        1                               6.0  3887563113   \n",
            "2                        2                               8.0  1142670488   \n",
            "3                        3                              18.0  2718991173   \n",
            "4                        4                              24.0  3080632009   \n",
            "...                    ...                               ...         ...   \n",
            "106795                   6                              12.0  4195677307   \n",
            "106796                   7                              14.0   290896675   \n",
            "106797                   8                              16.0   461435451   \n",
            "106798                   9                              18.0  3786213131   \n",
            "106799                  10                              20.0  3642716176   \n",
            "\n",
            "        patient_id  expert_consensus  seizure_vote  lpd_vote  gpd_vote  \\\n",
            "0            42516                 0             3         0         0   \n",
            "1            42516                 0             3         0         0   \n",
            "2            42516                 0             3         0         0   \n",
            "3            42516                 0             3         0         0   \n",
            "4            42516                 0             3         0         0   \n",
            "...            ...               ...           ...       ...       ...   \n",
            "106795       10351                 4             0         0         0   \n",
            "106796       10351                 4             0         0         0   \n",
            "106797       10351                 4             0         0         0   \n",
            "106798       10351                 4             0         0         0   \n",
            "106799       10351                 4             0         0         0   \n",
            "\n",
            "        lrda_vote  grda_vote  other_vote  \n",
            "0               0          0           0  \n",
            "1               0          0           0  \n",
            "2               0          0           0  \n",
            "3               0          0           0  \n",
            "4               0          0           0  \n",
            "...           ...        ...         ...  \n",
            "106795          3          0           0  \n",
            "106796          3          0           0  \n",
            "106797          3          0           0  \n",
            "106798          3          0           0  \n",
            "106799          3          0           0  \n",
            "\n",
            "[106800 rows x 15 columns]\n"
          ]
        }
      ],
      "source": [
        "print(X)"
      ]
    },
    {
      "cell_type": "code",
      "execution_count": null,
      "metadata": {
        "colab": {
          "base_uri": "https://localhost:8080/"
        },
        "id": "al-BNFEP8Wtc",
        "outputId": "5ed20b55-7acd-4b59-e0cd-4b77871d75a6"
      },
      "outputs": [
        {
          "output_type": "stream",
          "name": "stdout",
          "text": [
            "0         0\n",
            "1         0\n",
            "2         0\n",
            "3         0\n",
            "4         0\n",
            "         ..\n",
            "106795    4\n",
            "106796    4\n",
            "106797    4\n",
            "106798    4\n",
            "106799    4\n",
            "Name: label, Length: 106800, dtype: int64\n"
          ]
        }
      ],
      "source": [
        "print(Y)"
      ]
    },
    {
      "cell_type": "markdown",
      "metadata": {
        "id": "4PcFks9Xemch"
      },
      "source": [
        "Splitting the data into training data & Testing data"
      ]
    },
    {
      "cell_type": "code",
      "execution_count": null,
      "metadata": {
        "id": "EYpXTVHcerin"
      },
      "outputs": [],
      "source": [
        "X_train, X_test, Y_train, Y_test = train_test_split(X, Y, test_size=0.2, random_state=2)"
      ]
    },
    {
      "cell_type": "code",
      "execution_count": null,
      "metadata": {
        "colab": {
          "base_uri": "https://localhost:8080/"
        },
        "id": "7bwgr_SLevUo",
        "outputId": "e56a1262-1774-4bcb-883b-9a5425c5de90"
      },
      "outputs": [
        {
          "output_type": "stream",
          "name": "stdout",
          "text": [
            "(106800, 15) (85440, 15) (21360, 15)\n"
          ]
        }
      ],
      "source": [
        "print(X.shape, X_train.shape, X_test.shape)"
      ]
    },
    {
      "cell_type": "markdown",
      "source": [
        "Standardized the Data"
      ],
      "metadata": {
        "id": "JgEeFbgo4Gvs"
      }
    },
    {
      "cell_type": "code",
      "source": [
        "from sklearn.preprocessing import StandardScaler"
      ],
      "metadata": {
        "id": "i3VDesPx4L6N"
      },
      "execution_count": null,
      "outputs": []
    },
    {
      "cell_type": "code",
      "source": [
        "scaler = StandardScaler()\n",
        "\n",
        "X_train_std = scaler.fit_transform(X_train)\n",
        "\n",
        "X_test_std = scaler.transform(X_test)"
      ],
      "metadata": {
        "id": "CLHAlVGk4PgE"
      },
      "execution_count": null,
      "outputs": []
    },
    {
      "cell_type": "markdown",
      "metadata": {
        "id": "iL4MubAD9OHQ"
      },
      "source": [
        "Building the Neural Network"
      ]
    },
    {
      "cell_type": "code",
      "execution_count": null,
      "metadata": {
        "id": "kRGz1vkl9Svd"
      },
      "outputs": [],
      "source": [
        "# importing tensorflow and Keras\n",
        "import tensorflow as tf\n",
        "tf.random.set_seed(3)\n",
        "from tensorflow import keras"
      ]
    },
    {
      "cell_type": "code",
      "execution_count": null,
      "metadata": {
        "id": "QOAwgG7ecy5T"
      },
      "outputs": [],
      "source": [
        "# setting up the layers of Neural Network\n",
        "\n",
        "model = keras.Sequential([\n",
        "    keras.layers.Flatten(input_shape=(15, )),\n",
        "    keras.layers.Dense(8, activation='relu'),\n",
        "    keras.layers.Dense(6, activation='sigmoid')\n",
        "])"
      ]
    },
    {
      "cell_type": "code",
      "execution_count": null,
      "metadata": {
        "id": "6PKhH-8sgDVL"
      },
      "outputs": [],
      "source": [
        "# compiling the Neural Network\n",
        "\n",
        "model.compile(optimizer='adam',\n",
        "              loss='sparse_categorical_crossentropy',\n",
        "              metrics=['accuracy'])\n"
      ]
    },
    {
      "cell_type": "code",
      "execution_count": null,
      "metadata": {
        "colab": {
          "base_uri": "https://localhost:8080/"
        },
        "id": "8WveYnMK9iF3",
        "outputId": "a865f563-b5ec-4fbf-89cf-860baeec617e"
      },
      "outputs": [
        {
          "output_type": "stream",
          "name": "stdout",
          "text": [
            "Epoch 1/10\n",
            "2403/2403 [==============================] - 7s 2ms/step - loss: 0.3891 - accuracy: 0.8876 - val_loss: 0.0357 - val_accuracy: 0.9970\n",
            "Epoch 2/10\n",
            "2403/2403 [==============================] - 5s 2ms/step - loss: 0.0182 - accuracy: 0.9989 - val_loss: 0.0087 - val_accuracy: 0.9995\n",
            "Epoch 3/10\n",
            "2403/2403 [==============================] - 8s 3ms/step - loss: 0.0058 - accuracy: 0.9996 - val_loss: 0.0038 - val_accuracy: 0.9996\n",
            "Epoch 4/10\n",
            "2403/2403 [==============================] - 8s 3ms/step - loss: 0.0025 - accuracy: 0.9999 - val_loss: 0.0019 - val_accuracy: 0.9998\n",
            "Epoch 5/10\n",
            "2403/2403 [==============================] - 8s 3ms/step - loss: 0.0012 - accuracy: 1.0000 - val_loss: 0.0011 - val_accuracy: 0.9998\n",
            "Epoch 6/10\n",
            "2403/2403 [==============================] - 5s 2ms/step - loss: 6.1265e-04 - accuracy: 1.0000 - val_loss: 6.3325e-04 - val_accuracy: 0.9998\n",
            "Epoch 7/10\n",
            "2403/2403 [==============================] - 5s 2ms/step - loss: 3.2673e-04 - accuracy: 1.0000 - val_loss: 3.2310e-04 - val_accuracy: 1.0000\n",
            "Epoch 8/10\n",
            "2403/2403 [==============================] - 9s 4ms/step - loss: 1.8750e-04 - accuracy: 1.0000 - val_loss: 2.1855e-04 - val_accuracy: 1.0000\n",
            "Epoch 9/10\n",
            "2403/2403 [==============================] - 9s 4ms/step - loss: 1.1072e-04 - accuracy: 1.0000 - val_loss: 1.5108e-04 - val_accuracy: 1.0000\n",
            "Epoch 10/10\n",
            "2403/2403 [==============================] - 6s 2ms/step - loss: 6.8179e-05 - accuracy: 1.0000 - val_loss: 7.9752e-05 - val_accuracy: 1.0000\n"
          ]
        }
      ],
      "source": [
        "# training the Meural Network\n",
        "\n",
        "history = model.fit(X_train_std, Y_train, validation_split=0.1, epochs=10)"
      ]
    },
    {
      "cell_type": "markdown",
      "source": [
        "Visualizing accuracy and loss"
      ],
      "metadata": {
        "id": "Pn7kSdjx74Da"
      }
    },
    {
      "cell_type": "code",
      "source": [
        "plt.plot(history.history['accuracy'])\n",
        "plt.plot(history.history['val_accuracy'])\n",
        "\n",
        "plt.title('model accuracy')\n",
        "plt.ylabel('accuracy')\n",
        "plt.xlabel('epoch')\n",
        "\n",
        "plt.legend(['training data', 'validation data'], loc = 'lower right')"
      ],
      "metadata": {
        "colab": {
          "base_uri": "https://localhost:8080/",
          "height": 489
        },
        "id": "Kb-BCDxj74mw",
        "outputId": "19ddbb97-20ba-4f59-ee0d-a2a102844ad2"
      },
      "execution_count": null,
      "outputs": [
        {
          "output_type": "execute_result",
          "data": {
            "text/plain": [
              "<matplotlib.legend.Legend at 0x7d8a75f39cf0>"
            ]
          },
          "metadata": {},
          "execution_count": 195
        },
        {
          "output_type": "display_data",
          "data": {
            "text/plain": [
              "<Figure size 640x480 with 1 Axes>"
            ],
            "image/png": "[encoded data removed]"
          },
          "metadata": {}
        }
      ]
    },
    {
      "cell_type": "code",
      "source": [
        "plt.plot(history.history['loss'])\n",
        "plt.plot(history.history['val_loss'])\n",
        "\n",
        "plt.title('model loss')\n",
        "plt.ylabel('loss')\n",
        "plt.xlabel('epoch')\n",
        "\n",
        "plt.legend(['training data', 'validation data'], loc = 'upper right')"
      ],
      "metadata": {
        "colab": {
          "base_uri": "https://localhost:8080/",
          "height": 489
        },
        "id": "1fq9vkRq8CIb",
        "outputId": "019f1e71-6137-491d-cb3b-ca1e2fb17305"
      },
      "execution_count": null,
      "outputs": [
        {
          "output_type": "execute_result",
          "data": {
            "text/plain": [
              "<matplotlib.legend.Legend at 0x7d8a727d67d0>"
            ]
          },
          "metadata": {},
          "execution_count": 196
        },
        {
          "output_type": "display_data",
          "data": {
            "text/plain": [
              "<Figure size 640x480 with 1 Axes>"
            ],
            "image/png": "[encoded data removed]"
          },
          "metadata": {}
        }
      ]
    },
    {
      "cell_type": "markdown",
      "source": [
        "Accuracy of the model on test data"
      ],
      "metadata": {
        "id": "m4HU44iT8HJw"
      }
    },
    {
      "cell_type": "code",
      "source": [
        "loss, accuracy = model.evaluate(X_test_std, Y_test)\n",
        "print(accuracy)"
      ],
      "metadata": {
        "colab": {
          "base_uri": "https://localhost:8080/"
        },
        "id": "MkUkpok68Hpn",
        "outputId": "928bc90d-f2f8-4ad6-e691-9793892e369f"
      },
      "execution_count": null,
      "outputs": [
        {
          "output_type": "stream",
          "name": "stdout",
          "text": [
            "668/668 [==============================] - 2s 3ms/step - loss: 3.4725e-04 - accuracy: 1.0000\n",
            "0.9999532103538513\n"
          ]
        }
      ]
    },
    {
      "cell_type": "code",
      "source": [
        "print(X_test_std.shape)\n",
        "print(X_test_std[0])"
      ],
      "metadata": {
        "colab": {
          "base_uri": "https://localhost:8080/"
        },
        "id": "pWswzvw78SwE",
        "outputId": "96f22dda-5db3-469e-c6a5-4af545447036"
      },
      "execution_count": null,
      "outputs": [
        {
          "output_type": "stream",
          "name": "stdout",
          "text": [
            "(21360, 15)\n",
            "[ 1.44379336 -0.27561927 -0.28838694 -0.68355388 -0.27483507  0.12304673\n",
            "  0.76820528  0.22800577 -0.77595694 -0.5691144  -0.40495261 -0.40418027\n",
            " -0.44425997  2.67069089  0.83584429]\n"
          ]
        }
      ]
    },
    {
      "cell_type": "code",
      "source": [
        "Y_pred = model.predict(X_test_std)"
      ],
      "metadata": {
        "colab": {
          "base_uri": "https://localhost:8080/"
        },
        "id": "Yzs_p1QP8TU8",
        "outputId": "ee0b767b-780e-4e33-d06c-bf5e969f7b70"
      },
      "execution_count": null,
      "outputs": [
        {
          "output_type": "stream",
          "name": "stdout",
          "text": [
            "668/668 [==============================] - 3s 4ms/step\n"
          ]
        }
      ]
    },
    {
      "cell_type": "code",
      "source": [
        "print(Y_pred.shape)\n",
        "print(Y_pred[0])"
      ],
      "metadata": {
        "colab": {
          "base_uri": "https://localhost:8080/"
        },
        "id": "Wozbxtbw8aNp",
        "outputId": "1795f6a1-d882-4bac-ca99-a9fbbb2af709"
      },
      "execution_count": null,
      "outputs": [
        {
          "output_type": "stream",
          "name": "stdout",
          "text": [
            "(21360, 6)\n",
            "[8.5517910e-05 1.0000000e+00 9.0753514e-01 9.6609725e-09 6.3271914e-06\n",
            " 4.3219655e-16]\n"
          ]
        }
      ]
    },
    {
      "cell_type": "code",
      "source": [
        "print(X_test_std)"
      ],
      "metadata": {
        "colab": {
          "base_uri": "https://localhost:8080/"
        },
        "id": "Dt4c2CWm8qIg",
        "outputId": "2e644b16-fec2-4301-c477-2a3facb26b3a"
      },
      "execution_count": null,
      "outputs": [
        {
          "output_type": "stream",
          "name": "stdout",
          "text": [
            "[[ 1.44379336 -0.27561927 -0.28838694 ... -0.44425997  2.67069089\n",
            "   0.83584429]\n",
            " [ 1.72841712 -0.36176809 -0.37145124 ... -0.44425997 -0.47599644\n",
            "  -0.54361895]\n",
            " [-1.32455629  1.37556652  0.66365778 ...  0.49396016 -0.47599644\n",
            "  -0.2677263 ]\n",
            " ...\n",
            " [ 1.67780094 -0.37612623 -0.3778408  ... -0.44425997 -0.47599644\n",
            "  -0.54361895]\n",
            " [ 1.4499938  -0.37612623 -0.3778408  ... -0.44425997 -0.47599644\n",
            "   0.00816634]\n",
            " [-1.23564039 -0.23254486 -0.31394519 ...  1.90129035 -0.47599644\n",
            "   0.00816634]]\n"
          ]
        }
      ]
    },
    {
      "cell_type": "code",
      "source": [
        "print(Y_pred)"
      ],
      "metadata": {
        "colab": {
          "base_uri": "https://localhost:8080/"
        },
        "id": "JgQq6EqU8xsv",
        "outputId": "007eb30d-5b57-421b-ddf5-9a5dcf621408"
      },
      "execution_count": null,
      "outputs": [
        {
          "output_type": "stream",
          "name": "stdout",
          "text": [
            "[[8.55179096e-05 1.00000000e+00 9.07535136e-01 9.66097247e-09\n",
            "  6.32719139e-06 4.32196550e-16]\n",
            " [1.00000000e+00 1.99939893e-03 2.00057286e-08 5.60712365e-10\n",
            "  7.41130027e-15 6.16026652e-13]\n",
            " [1.46343951e-10 3.23860383e-11 2.40170484e-04 9.82804373e-02\n",
            "  9.99996185e-01 8.66900012e-03]\n",
            " ...\n",
            " [5.59999401e-14 3.25893428e-15 1.13843726e-10 6.02382600e-01\n",
            "  9.63772118e-01 1.00000000e+00]\n",
            " [2.34942101e-02 1.19628794e-01 9.99998093e-01 3.50106955e-02\n",
            "  3.59247701e-06 6.52531085e-11]\n",
            " [7.30199575e-15 1.34951724e-16 9.25826740e-08 3.02104023e-03\n",
            "  9.99999881e-01 9.97578561e-01]]\n"
          ]
        }
      ]
    },
    {
      "cell_type": "markdown",
      "source": [
        "model.predict() gives the prediction probability of each class for that data point"
      ],
      "metadata": {
        "id": "o-smUynG87p9"
      }
    },
    {
      "cell_type": "code",
      "source": [
        "#  argmax function explanation\n",
        "\n",
        "my_list = [0.25, 0.56]\n",
        "\n",
        "index_of_max_value = np.argmax(my_list)\n",
        "print(my_list)\n",
        "print(index_of_max_value)"
      ],
      "metadata": {
        "colab": {
          "base_uri": "https://localhost:8080/"
        },
        "id": "K1qFxjs888RG",
        "outputId": "b545c4a7-7b66-4f04-97e3-fb81ee7a6b76"
      },
      "execution_count": null,
      "outputs": [
        {
          "output_type": "stream",
          "name": "stdout",
          "text": [
            "[0.25, 0.56]\n",
            "1\n"
          ]
        }
      ]
    },
    {
      "cell_type": "code",
      "source": [
        "# converting the prediction probability to class labels\n",
        "\n",
        "Y_pred_labels = [np.argmax(i) for i in Y_pred]\n",
        "print(Y_pred_labels)"
      ],
      "metadata": {
        "colab": {
          "base_uri": "https://localhost:8080/"
        },
        "id": "hYUqTbSR8-ps",
        "outputId": "e6bd3c9a-919d-4e2c-f612-3b41755ba697"
      },
      "execution_count": null,
      "outputs": [
        {
          "output_type": "stream",
          "name": "stdout",
          "text": [
            "[1, 0, 4, 3, 3, 5, 1, 3, 2, 0, 3, 2, 3, 2, 5, 1, 1, 5, 1, 4, 1, 1, 0, 4, 1, 3, 5, 2, 3, 1, 0, 0, 1, 5, 0, 1, 2, 1, 3, 0, 5, 5, 1, 1, 5, 5, 3, 0, 5, 3, 4, 4, 2, 3, 4, 1, 0, 2, 5, 3, 5, 2, 2, 2, 2, 0, 1, 3, 4, 2, 0, 5, 3, 3, 1, 1, 5, 4, 3, 3, 4, 3, 4, 1, 1, 1, 4, 4, 0, 1, 2, 2, 5, 5, 4, 3, 1, 2, 0, 2, 5, 3, 1, 0, 4, 3, 0, 2, 4, 1, 3, 0, 2, 2, 2, 3, 5, 2, 0, 5, 1, 1, 5, 5, 3, 3, 0, 5, 0, 3, 4, 1, 3, 4, 2, 2, 1, 1, 0, 1, 4, 4, 4, 2, 4, 0, 2, 3, 0, 1, 4, 1, 0, 0, 5, 4, 4, 3, 1, 1, 5, 1, 5, 1, 3, 3, 0, 3, 3, 4, 4, 3, 3, 0, 5, 5, 2, 4, 5, 3, 4, 0, 0, 3, 0, 5, 3, 1, 4, 0, 0, 2, 0, 3, 3, 1, 4, 4, 4, 2, 3, 5, 0, 2, 3, 0, 3, 0, 0, 3, 5, 3, 5, 1, 4, 5, 3, 0, 2, 0, 1, 4, 1, 0, 2, 2, 1, 2, 5, 0, 4, 3, 0, 0, 4, 4, 0, 3, 1, 0, 0, 2, 2, 0, 4, 4, 5, 4, 0, 1, 4, 0, 0, 5, 5, 1, 4, 1, 4, 2, 0, 3, 5, 1, 5, 3, 4, 2, 2, 1, 1, 3, 3, 0, 2, 0, 3, 0, 0, 2, 5, 2, 4, 0, 1, 5, 0, 1, 3, 0, 2, 2, 5, 4, 5, 4, 0, 5, 3, 0, 3, 4, 4, 3, 3, 5, 4, 0, 0, 3, 5, 4, 5, 5, 5, 3, 0, 0, 0, 1, 1, 0, 4, 2, 3, 4, 2, 0, 5, 2, 5, 1, 4, 0, 5, 3, 3, 2, 1, 5, 4, 4, 0, 1, 1, 0, 4, 0, 4, 2, 0, 5, 5, 0, 2, 2, 2, 5, 0, 5, 2, 2, 4, 2, 1, 1, 1, 3, 0, 3, 1, 1, 0, 2, 1, 2, 0, 0, 0, 5, 1, 4, 4, 5, 0, 0, 4, 0, 5, 3, 1, 0, 4, 4, 1, 5, 1, 0, 4, 5, 1, 5, 5, 1, 3, 3, 0, 1, 2, 0, 1, 5, 0, 3, 1, 0, 0, 5, 0, 2, 4, 3, 3, 4, 0, 0, 5, 2, 0, 1, 1, 3, 0, 2, 5, 4, 3, 3, 0, 3, 0, 0, 2, 2, 3, 0, 2, 5, 1, 1, 3, 3, 0, 4, 2, 5, 4, 4, 1, 2, 3, 5, 5, 5, 5, 1, 5, 4, 5, 2, 0, 0, 0, 0, 0, 0, 2, 0, 0, 0, 0, 1, 5, 1, 2, 1, 5, 4, 1, 4, 2, 0, 1, 4, 0, 1, 1, 0, 0, 0, 5, 3, 4, 4, 4, 0, 0, 3, 4, 3, 0, 3, 5, 3, 4, 2, 4, 0, 0, 2, 4, 5, 0, 2, 0, 3, 3, 1, 5, 1, 4, 2, 2, 1, 2, 1, 0, 2, 5, 5, 1, 1, 5, 4, 2, 1, 3, 1, 3, 5, 1, 5, 1, 3, 2, 1, 1, 3, 1, 0, 1, 3, 4, 5, 4, 3, 4, 3, 1, 1, 0, 2, 4, 0, 4, 5, 4, 4, 1, 1, 0, 3, 4, 4, 0, 1, 5, 3, 1, 0, 1, 2, 5, 0, 1, 4, 2, 0, 4, 5, 4, 1, 2, 0, 1, 2, 4, 4, 3, 2, 2, 2, 0, 4, 5, 0, 5, 5, 2, 4, 0, 4, 0, 5, 0, 5, 2, 4, 3, 4, 1, 0, 5, 2, 1, 2, 4, 5, 1, 0, 0, 0, 4, 5, 0, 1, 2, 3, 5, 5, 2, 2, 5, 4, 2, 2, 4, 5, 3, 0, 0, 5, 1, 4, 0, 5, 3, 3, 5, 5, 3, 3, 2, 2, 1, 5, 2, 5, 1, 1, 0, 2, 1, 1, 0, 1, 0, 2, 3, 2, 1, 0, 4, 3, 4, 2, 0, 2, 1, 3, 2, 0, 2, 3, 0, 5, 1, 1, 1, 5, 1, 3, 3, 5, 0, 1, 3, 5, 2, 2, 1, 0, 2, 4, 5, 3, 5, 2, 2, 0, 0, 2, 4, 2, 4, 5, 4, 5, 4, 0, 0, 2, 3, 0, 1, 0, 1, 1, 4, 0, 2, 5, 4, 3, 3, 0, 5, 1, 0, 2, 4, 0, 5, 2, 1, 3, 3, 0, 4, 4, 0, 3, 5, 5, 0, 3, 2, 1, 0, 0, 1, 2, 2, 0, 0, 1, 4, 5, 1, 2, 5, 3, 0, 4, 0, 2, 4, 1, 4, 4, 4, 3, 4, 3, 3, 1, 3, 2, 0, 5, 1, 5, 0, 3, 4, 1, 1, 5, 1, 3, 2, 1, 2, 4, 1, 0, 4, 4, 0, 3, 0, 0, 3, 3, 4, 4, 0, 2, 5, 2, 5, 2, 1, 4, 0, 5, 5, 0, 4, 4, 4, 0, 5, 5, 1, 3, 4, 0, 2, 3, 2, 0, 4, 0, 4, 3, 1, 2, 5, 1, 5, 5, 0, 1, 5, 1, 0, 2, 2, 2, 2, 0, 4, 4, 1, 4, 0, 1, 4, 5, 0, 2, 5, 1, 1, 0, 2, 1, 3, 1, 2, 3, 3, 1, 5, 2, 2, 1, 4, 5, 2, 5, 5, 2, 4, 0, 4, 4, 0, 3, 1, 3, 1, 2, 0, 0, 4, 3, 3, 2, 5, 1, 0, 3, 4, 4, 3, 0, 0, 2, 0, 0, 0, 1, 2, 5, 4, 3, 4, 1, 2, 1, 1, 5, 0, 2, 0, 4, 0, 1, 4, 3, 1, 5, 3, 4, 3, 5, 0, 2, 0, 4, 4, 2, 1, 4, 4, 4, 4, 1, 4, 0, 3, 0, 3, 5, 0, 0, 3, 3, 5, 3, 4, 0, 5, 1, 2, 0, 2, 4, 5, 4, 3, 2, 1, 4, 1, 1, 1, 3, 3, 1, 0, 2, 5, 2, 2, 4, 0, 0, 5, 0, 3, 4, 0, 0, 4, 3, 5, 1, 5, 5, 5, 0, 4, 3, 4, 2, 4, 0, 0, 3, 5, 5, 3, 0, 2, 5, 4, 1, 1, 2, 2, 2, 0, 2, 4, 0, 0, 5, 2, 2, 0, 0, 0, 1, 5, 3, 4, 2, 4, 4, 2, 0, 4, 2, 4, 3, 4, 0, 1, 0, 4, 0, 2, 3, 5, 5, 4, 5, 5, 4, 1, 3, 4, 5, 3, 1, 1, 1, 0, 3, 0, 0, 1, 3, 4, 2, 4, 4, 3, 1, 0, 3, 5, 5, 0, 1, 1, 0, 3, 2, 2, 3, 1, 4, 2, 1, 1, 1, 3, 2, 2, 4, 3, 4, 1, 2, 5, 0, 3, 2, 1, 4, 4, 3, 3, 3, 0, 1, 0, 0, 3, 2, 4, 0, 3, 5, 5, 0, 4, 2, 5, 2, 2, 0, 5, 4, 5, 3, 4, 4, 4, 0, 1, 0, 4, 4, 3, 2, 0, 5, 3, 5, 3, 4, 5, 1, 3, 5, 2, 1, 1, 5, 3, 0, 1, 5, 4, 0, 5, 5, 3, 3, 0, 5, 1, 4, 4, 3, 2, 2, 2, 5, 0, 0, 0, 3, 4, 1, 0, 4, 4, 5, 1, 0, 3, 1, 4, 5, 4, 0, 3, 4, 2, 2, 3, 2, 4, 3, 1, 2, 4, 5, 0, 2, 5, 0, 1, 0, 4, 1, 1, 0, 4, 3, 2, 3, 0, 2, 3, 0, 1, 4, 0, 0, 2, 2, 1, 2, 0, 1, 4, 1, 4, 2, 0, 4, 1, 2, 4, 2, 1, 5, 0, 3, 0, 2, 5, 1, 1, 4, 2, 4, 0, 3, 0, 1, 0, 0, 4, 0, 0, 1, 4, 5, 1, 5, 5, 3, 0, 0, 0, 0, 1, 0, 4, 0, 4, 3, 1, 2, 0, 4, 3, 2, 4, 1, 4, 1, 1, 2, 2, 0, 0, 3, 0, 3, 3, 1, 5, 0, 4, 3, 3, 0, 3, 4, 0, 4, 0, 2, 2, 1, 3, 1, 1, 3, 3, 2, 5, 1, 5, 1, 0, 4, 5, 3, 1, 4, 3, 2, 3, 2, 4, 2, 4, 1, 2, 2, 5, 1, 4, 3, 3, 2, 5, 1, 2, 2, 3, 2, 2, 4, 0, 5, 2, 5, 0, 0, 5, 4, 0, 1, 0, 4, 1, 0, 0, 2, 4, 2, 2, 3, 1, 2, 3, 4, 4, 4, 0, 4, 3, 2, 0, 0, 2, 2, 0, 5, 1, 3, 1, 3, 1, 1, 5, 5, 3, 1, 0, 2, 1, 0, 2, 2, 3, 1, 1, 3, 2, 0, 1, 0, 1, 0, 2, 0, 1, 0, 3, 5, 5, 0, 4, 3, 2, 3, 1, 2, 4, 4, 2, 5, 2, 4, 1, 1, 1, 5, 4, 1, 0, 0, 1, 5, 2, 5, 1, 2, 1, 1, 4, 1, 3, 4, 0, 2, 0, 2, 4, 0, 5, 2, 4, 0, 3, 2, 5, 2, 3, 2, 4, 5, 3, 3, 1, 5, 0, 2, 2, 0, 2, 4, 2, 1, 1, 2, 1, 5, 4, 2, 2, 5, 0, 4, 1, 5, 4, 1, 0, 5, 4, 4, 4, 3, 1, 1, 2, 3, 0, 0, 1, 4, 3, 5, 0, 2, 3, 1, 2, 0, 0, 1, 0, 0, 0, 4, 4, 1, 1, 2, 4, 4, 4, 0, 4, 1, 2, 1, 2, 4, 2, 2, 2, 1, 0, 4, 3, 3, 3, 1, 4, 5, 1, 3, 4, 3, 2, 2, 2, 4, 3, 0, 0, 3, 2, 3, 4, 0, 0, 3, 3, 5, 0, 2, 5, 1, 2, 2, 5, 3, 2, 4, 2, 4, 4, 0, 5, 3, 1, 0, 2, 0, 3, 4, 3, 1, 0, 4, 2, 3, 0, 1, 4, 5, 3, 2, 5, 4, 2, 0, 0, 2, 5, 5, 4, 1, 3, 3, 4, 2, 3, 0, 0, 3, 3, 4, 1, 0, 2, 2, 1, 1, 1, 2, 5, 2, 2, 4, 3, 0, 2, 2, 3, 1, 5, 3, 5, 1, 3, 4, 4, 5, 1, 0, 5, 4, 0, 3, 5, 0, 5, 3, 4, 1, 1, 0, 1, 2, 0, 0, 2, 5, 1, 2, 3, 1, 4, 0, 1, 1, 3, 1, 5, 0, 5, 4, 3, 0, 4, 4, 2, 0, 0, 0, 5, 3, 0, 4, 1, 2, 2, 5, 3, 2, 0, 1, 1, 5, 1, 5, 4, 2, 1, 0, 1, 0, 2, 2, 3, 0, 5, 2, 0, 3, 3, 3, 2, 1, 5, 5, 0, 4, 3, 0, 3, 4, 2, 4, 0, 0, 5, 4, 0, 5, 3, 0, 1, 3, 0, 3, 1, 1, 5, 2, 1, 3, 5, 5, 2, 2, 3, 0, 4, 3, 4, 4, 2, 2, 3, 2, 3, 1, 3, 0, 1, 1, 0, 0, 1, 1, 3, 1, 0, 5, 5, 5, 0, 4, 2, 2, 3, 0, 5, 3, 1, 1, 1, 4, 4, 2, 2, 0, 2, 3, 5, 1, 0, 5, 4, 5, 1, 5, 4, 1, 0, 5, 4, 1, 0, 0, 5, 5, 0, 5, 3, 1, 2, 2, 2, 3, 4, 3, 0, 0, 0, 2, 5, 0, 0, 3, 3, 1, 5, 2, 3, 0, 1, 1, 3, 2, 4, 2, 1, 4, 2, 5, 0, 4, 0, 5, 1, 3, 2, 1, 1, 0, 4, 4, 0, 3, 0, 1, 0, 5, 1, 0, 4, 4, 3, 1, 2, 1, 5, 5, 2, 3, 2, 3, 2, 5, 4, 4, 5, 2, 2, 5, 0, 3, 4, 2, 2, 4, 2, 0, 5, 3, 0, 1, 2, 2, 5, 5, 0, 3, 2, 3, 4, 4, 2, 2, 1, 2, 1, 5, 3, 3, 3, 4, 0, 1, 5, 4, 2, 4, 5, 4, 1, 2, 1, 1, 0, 0, 5, 1, 2, 0, 3, 4, 0, 4, 1, 2, 5, 1, 3, 5, 1, 4, 2, 2, 3, 4, 4, 2, 2, 0, 0, 0, 3, 1, 2, 0, 3, 4, 1, 0, 4, 4, 3, 1, 4, 5, 5, 0, 1, 3, 5, 4, 0, 4, 5, 1, 5, 2, 4, 1, 5, 5, 3, 3, 0, 5, 0, 2, 3, 4, 3, 1, 4, 0, 2, 5, 0, 0, 5, 4, 1, 1, 3, 0, 2, 4, 2, 4, 3, 0, 5, 5, 0, 3, 1, 5, 5, 0, 2, 5, 2, 3, 1, 1, 3, 4, 5, 2, 2, 5, 2, 3, 5, 1, 4, 2, 2, 0, 4, 2, 4, 1, 4, 0, 1, 0, 4, 5, 4, 3, 3, 2, 3, 1, 3, 2, 1, 0, 1, 4, 0, 0, 5, 0, 2, 2, 2, 5, 5, 2, 5, 4, 0, 3, 5, 0, 0, 2, 1, 2, 0, 2, 1, 0, 2, 3, 2, 2, 1, 2, 3, 4, 4, 2, 3, 2, 1, 0, 5, 4, 5, 0, 3, 0, 1, 4, 1, 2, 2, 1, 0, 1, 2, 1, 3, 0, 1, 4, 4, 0, 1, 0, 5, 4, 4, 3, 0, 4, 5, 0, 3, 0, 1, 4, 1, 3, 1, 5, 0, 2, 4, 4, 4, 3, 4, 5, 5, 4, 4, 3, 2, 4, 5, 4, 5, 5, 0, 3, 5, 0, 4, 1, 3, 2, 4, 1, 5, 1, 1, 3, 4, 0, 0, 1, 1, 4, 1, 1, 3, 5, 3, 5, 5, 5, 1, 2, 1, 1, 1, 2, 1, 0, 1, 1, 0, 0, 3, 1, 3, 0, 0, 0, 2, 2, 5, 4, 0, 4, 0, 1, 2, 3, 5, 0, 3, 0, 1, 5, 0, 4, 5, 5, 5, 3, 2, 0, 2, 0, 4, 5, 0, 4, 4, 1, 3, 2, 4, 3, 3, 1, 4, 5, 4, 0, 0, 5, 3, 4, 5, 0, 5, 0, 5, 3, 1, 0, 2, 2, 2, 0, 3, 2, 1, 4, 2, 2, 2, 0, 4, 1, 4, 3, 3, 1, 3, 1, 1, 0, 1, 4, 5, 1, 3, 3, 2, 1, 3, 0, 3, 5, 4, 4, 2, 0, 3, 2, 0, 0, 0, 5, 3, 0, 0, 4, 4, 2, 3, 4, 1, 0, 2, 0, 0, 2, 1, 4, 0, 4, 0, 2, 5, 4, 0, 2, 2, 2, 3, 0, 3, 4, 3, 1, 3, 4, 2, 3, 0, 3, 0, 3, 1, 4, 0, 0, 0, 5, 5, 0, 3, 4, 5, 4, 5, 1, 0, 4, 0, 0, 2, 1, 2, 0, 0, 5, 3, 3, 4, 3, 3, 1, 2, 0, 1, 2, 2, 4, 0, 0, 4, 2, 3, 3, 0, 4, 5, 1, 3, 1, 0, 3, 3, 5, 1, 0, 4, 0, 1, 5, 1, 1, 2, 3, 3, 4, 2, 0, 2, 0, 1, 1, 2, 1, 4, 1, 1, 4, 4, 1, 4, 1, 4, 5, 3, 4, 1, 5, 2, 4, 2, 5, 0, 1, 1, 2, 5, 3, 2, 4, 4, 3, 1, 4, 3, 3, 4, 1, 5, 2, 4, 2, 3, 3, 4, 2, 0, 0, 1, 0, 3, 3, 1, 5, 3, 0, 0, 3, 3, 2, 0, 3, 3, 3, 5, 1, 0, 2, 5, 0, 2, 4, 5, 0, 5, 0, 0, 5, 4, 1, 2, 0, 5, 0, 2, 5, 4, 3, 4, 5, 1, 1, 3, 3, 4, 4, 4, 1, 4, 0, 3, 3, 5, 5, 3, 2, 0, 4, 4, 3, 2, 2, 4, 5, 0, 5, 4, 4, 1, 4, 2, 4, 3, 2, 0, 1, 0, 2, 2, 1, 3, 3, 1, 3, 0, 4, 2, 0, 4, 2, 3, 0, 4, 0, 1, 0, 1, 3, 3, 2, 4, 1, 4, 4, 3, 1, 4, 2, 1, 4, 1, 3, 2, 2, 1, 2, 0, 2, 3, 4, 3, 2, 5, 5, 0, 1, 5, 0, 2, 5, 1, 1, 0, 0, 4, 5, 3, 3, 5, 4, 5, 5, 0, 4, 4, 2, 0, 3, 4, 2, 0, 4, 3, 1, 3, 1, 0, 5, 1, 5, 1, 1, 5, 2, 0, 2, 4, 0, 1, 5, 2, 3, 5, 5, 4, 2, 3, 2, 3, 4, 4, 2, 2, 5, 4, 1, 0, 3, 4, 2, 2, 0, 2, 5, 4, 3, 1, 5, 3, 4, 4, 5, 2, 1, 4, 4, 3, 4, 3, 0, 1, 4, 2, 2, 3, 0, 5, 5, 5, 4, 3, 5, 0, 1, 3, 5, 2, 0, 5, 0, 4, 4, 5, 5, 1, 4, 3, 4, 5, 4, 2, 1, 1, 1, 3, 2, 5, 1, 2, 2, 3, 0, 1, 0, 3, 1, 2, 4, 4, 4, 2, 1, 3, 3, 3, 1, 5, 1, 4, 2, 2, 5, 5, 0, 3, 4, 3, 5, 1, 1, 5, 0, 3, 5, 1, 4, 1, 1, 3, 0, 4, 0, 3, 0, 4, 1, 4, 1, 3, 5, 4, 2, 3, 1, 0, 0, 3, 2, 0, 2, 3, 3, 5, 3, 5, 4, 2, 2, 1, 4, 1, 5, 0, 2, 1, 1, 3, 1, 0, 2, 0, 1, 5, 5, 5, 2, 0, 2, 0, 2, 1, 0, 1, 1, 0, 0, 1, 5, 3, 2, 0, 4, 5, 5, 2, 4, 0, 0, 2, 3, 1, 0, 4, 4, 5, 4, 5, 4, 3, 4, 4, 3, 0, 2, 4, 2, 4, 1, 0, 1, 2, 5, 4, 2, 4, 2, 1, 5, 5, 2, 5, 3, 0, 0, 4, 0, 0, 2, 3, 0, 2, 4, 1, 2, 1, 4, 0, 1, 0, 1, 4, 2, 0, 4, 0, 3, 3, 0, 2, 5, 0, 3, 2, 5, 2, 5, 1, 0, 1, 0, 2, 4, 0, 1, 1, 0, 1, 0, 4, 3, 1, 0, 3, 4, 3, 2, 1, 1, 5, 0, 2, 1, 3, 1, 1, 4, 1, 5, 2, 2, 0, 1, 0, 2, 5, 1, 0, 4, 0, 1, 0, 1, 2, 1, 5, 2, 2, 5, 4, 4, 4, 3, 4, 0, 2, 3, 1, 3, 3, 1, 5, 4, 3, 5, 4, 0, 4, 1, 4, 0, 4, 1, 5, 3, 1, 4, 3, 5, 3, 4, 3, 5, 0, 5, 5, 3, 0, 5, 3, 1, 3, 0, 4, 0, 3, 4, 5, 3, 1, 2, 5, 0, 5, 5, 1, 3, 0, 3, 3, 0, 3, 4, 0, 1, 2, 0, 3, 1, 0, 2, 0, 2, 1, 2, 1, 1, 2, 2, 4, 2, 0, 0, 2, 3, 4, 4, 2, 3, 1, 5, 0, 4, 3, 5, 2, 1, 2, 2, 2, 4, 3, 1, 1, 1, 2, 1, 5, 1, 2, 1, 4, 4, 2, 4, 0, 4, 0, 5, 2, 4, 1, 4, 1, 1, 0, 0, 2, 2, 2, 2, 5, 5, 4, 4, 2, 0, 4, 1, 2, 1, 1, 2, 5, 3, 0, 0, 0, 0, 2, 0, 2, 5, 0, 1, 4, 0, 3, 3, 4, 3, 3, 2, 1, 3, 2, 4, 4, 2, 3, 0, 1, 3, 3, 2, 1, 1, 1, 5, 4, 4, 2, 1, 0, 3, 0, 4, 0, 3, 0, 3, 0, 0, 1, 5, 0, 3, 4, 1, 2, 2, 5, 2, 0, 0, 2, 1, 1, 1, 5, 1, 2, 1, 1, 0, 1, 0, 0, 1, 2, 4, 2, 3, 3, 0, 2, 5, 3, 0, 5, 4, 2, 5, 2, 1, 0, 1, 2, 0, 0, 2, 1, 2, 2, 3, 1, 2, 0, 5, 0, 0, 1, 3, 4, 5, 3, 0, 1, 0, 1, 0, 4, 2, 2, 2, 4, 1, 2, 1, 0, 0, 4, 0, 2, 5, 3, 4, 0, 2, 0, 3, 3, 2, 5, 3, 4, 3, 5, 2, 1, 5, 1, 0, 4, 2, 0, 2, 3, 5, 4, 5, 4, 4, 4, 1, 1, 5, 1, 3, 4, 3, 1, 5, 3, 0, 5, 0, 5, 2, 3, 3, 3, 1, 2, 4, 0, 0, 2, 3, 5, 3, 2, 3, 0, 4, 1, 0, 5, 1, 4, 1, 0, 1, 0, 0, 0, 1, 5, 1, 5, 2, 1, 4, 5, 4, 1, 1, 1, 2, 4, 4, 1, 5, 1, 2, 5, 2, 0, 3, 2, 2, 0, 3, 0, 3, 5, 4, 2, 2, 3, 4, 5, 3, 5, 2, 4, 1, 3, 1, 5, 5, 3, 2, 4, 0, 2, 3, 1, 5, 3, 3, 0, 2, 0, 3, 1, 5, 4, 0, 1, 2, 3, 0, 3, 0, 5, 5, 3, 0, 2, 3, 1, 2, 5, 2, 4, 4, 0, 4, 4, 3, 1, 4, 4, 3, 0, 1, 4, 5, 3, 1, 4, 3, 3, 1, 4, 1, 1, 5, 3, 0, 4, 0, 0, 3, 5, 0, 4, 0, 1, 1, 1, 1, 2, 1, 2, 5, 1, 2, 5, 3, 3, 1, 2, 5, 2, 0, 5, 0, 0, 2, 1, 2, 3, 1, 1, 1, 1, 5, 1, 2, 5, 2, 5, 1, 4, 3, 4, 3, 1, 2, 0, 2, 0, 3, 1, 3, 1, 5, 1, 5, 3, 4, 3, 5, 2, 5, 4, 1, 0, 4, 3, 5, 0, 3, 1, 3, 3, 3, 1, 4, 0, 2, 0, 5, 2, 2, 1, 4, 0, 2, 5, 0, 1, 2, 3, 2, 3, 1, 2, 0, 3, 2, 3, 2, 2, 2, 0, 0, 4, 1, 3, 5, 2, 0, 3, 2, 0, 3, 5, 1, 1, 5, 0, 5, 2, 5, 3, 4, 5, 2, 0, 3, 1, 4, 5, 4, 1, 0, 5, 1, 1, 0, 4, 3, 3, 2, 3, 4, 0, 0, 2, 3, 4, 1, 1, 1, 3, 1, 4, 5, 5, 1, 3, 1, 4, 4, 5, 3, 3, 0, 4, 5, 0, 5, 5, 0, 5, 4, 2, 1, 2, 1, 0, 0, 1, 0, 3, 0, 3, 3, 4, 5, 2, 5, 4, 3, 0, 3, 0, 2, 5, 1, 3, 1, 1, 4, 4, 4, 1, 2, 0, 2, 3, 3, 1, 1, 0, 1, 5, 1, 5, 3, 1, 1, 3, 1, 0, 5, 3, 1, 5, 0, 1, 3, 2, 3, 4, 3, 1, 0, 2, 3, 2, 1, 5, 0, 2, 2, 0, 1, 5, 4, 2, 0, 0, 0, 4, 2, 2, 1, 1, 0, 4, 2, 1, 2, 5, 5, 4, 0, 5, 4, 3, 0, 2, 4, 3, 1, 4, 4, 4, 2, 0, 4, 4, 4, 0, 1, 5, 2, 5, 3, 5, 5, 3, 3, 1, 1, 0, 1, 1, 2, 5, 0, 3, 5, 5, 0, 0, 5, 4, 4, 4, 0, 2, 0, 1, 3, 1, 5, 3, 4, 1, 2, 5, 1, 4, 4, 0, 1, 5, 0, 3, 0, 0, 1, 0, 0, 0, 2, 1, 2, 0, 1, 3, 1, 2, 1, 0, 3, 0, 1, 0, 4, 3, 0, 0, 0, 3, 4, 1, 3, 5, 1, 5, 0, 5, 3, 4, 5, 1, 5, 1, 4, 3, 4, 2, 5, 1, 1, 0, 4, 5, 3, 0, 1, 2, 4, 4, 2, 3, 2, 4, 2, 2, 4, 0, 1, 3, 1, 4, 5, 3, 4, 5, 2, 0, 4, 5, 4, 1, 3, 0, 1, 0, 5, 1, 1, 3, 1, 0, 3, 1, 3, 4, 3, 0, 3, 4, 0, 2, 2, 0, 2, 1, 2, 5, 3, 3, 0, 1, 0, 4, 5, 4, 1, 1, 4, 0, 4, 0, 1, 4, 5, 4, 1, 4, 3, 0, 2, 2, 1, 0, 4, 3, 3, 1, 2, 1, 2, 0, 2, 3, 1, 1, 2, 0, 5, 5, 3, 0, 0, 4, 1, 4, 0, 0, 0, 0, 2, 0, 0, 1, 5, 1, 5, 3, 0, 2, 5, 0, 2, 0, 5, 2, 2, 3, 5, 0, 5, 3, 0, 0, 1, 0, 1, 4, 2, 2, 2, 3, 5, 0, 4, 0, 1, 2, 4, 3, 4, 5, 1, 5, 3, 1, 0, 1, 3, 5, 2, 0, 1, 1, 5, 4, 3, 4, 2, 4, 4, 2, 2, 2, 4, 4, 0, 1, 4, 3, 3, 1, 5, 0, 2, 0, 2, 1, 1, 5, 5, 1, 3, 3, 5, 0, 5, 0, 4, 3, 0, 2, 3, 4, 2, 2, 5, 1, 1, 4, 4, 5, 2, 5, 2, 4, 1, 0, 3, 0, 2, 3, 0, 1, 0, 2, 2, 3, 5, 5, 2, 4, 2, 2, 2, 4, 2, 2, 4, 3, 3, 2, 0, 0, 2, 4, 1, 0, 2, 5, 3, 3, 5, 4, 5, 4, 4, 5, 2, 5, 4, 4, 0, 2, 0, 0, 5, 4, 1, 5, 5, 1, 3, 5, 5, 1, 5, 2, 1, 5, 0, 0, 1, 0, 3, 0, 5, 2, 3, 1, 3, 2, 1, 5, 5, 2, 2, 1, 5, 5, 3, 0, 1, 1, 4, 4, 2, 0, 4, 4, 2, 3, 1, 4, 2, 0, 2, 3, 5, 2, 4, 1, 1, 4, 2, 4, 2, 4, 1, 4, 2, 4, 0, 2, 4, 5, 0, 1, 2, 1, 4, 5, 4, 1, 1, 4, 0, 0, 0, 4, 0, 5, 2, 2, 2, 0, 4, 5, 4, 5, 3, 0, 3, 5, 5, 3, 0, 0, 1, 1, 0, 5, 0, 4, 2, 1, 1, 1, 1, 0, 2, 1, 1, 2, 5, 4, 0, 2, 2, 0, 2, 4, 2, 0, 3, 1, 4, 5, 1, 4, 0, 3, 5, 0, 1, 3, 5, 0, 4, 5, 2, 2, 0, 1, 0, 2, 4, 0, 2, 0, 2, 5, 4, 0, 5, 1, 0, 0, 5, 5, 5, 3, 3, 4, 1, 1, 0, 0, 3, 0, 4, 1, 5, 2, 1, 1, 1, 2, 4, 2, 0, 1, 5, 4, 4, 5, 5, 1, 1, 0, 1, 2, 4, 0, 2, 2, 4, 1, 3, 5, 1, 1, 1, 3, 4, 2, 3, 4, 5, 5, 4, 2, 2, 4, 0, 0, 4, 3, 4, 3, 1, 3, 4, 2, 1, 4, 5, 5, 0, 5, 4, 0, 3, 4, 4, 0, 2, 3, 0, 2, 0, 4, 0, 1, 2, 2, 4, 1, 0, 0, 2, 1, 4, 1, 1, 2, 5, 4, 5, 3, 2, 1, 4, 1, 2, 2, 4, 2, 2, 1, 3, 5, 1, 0, 2, 5, 2, 4, 3, 1, 0, 5, 0, 0, 2, 0, 0, 4, 5, 0, 5, 5, 4, 2, 0, 0, 5, 4, 1, 2, 1, 2, 1, 0, 4, 1, 3, 1, 2, 4, 2, 3, 5, 0, 1, 3, 1, 2, 2, 4, 5, 5, 4, 5, 2, 1, 0, 1, 5, 2, 4, 0, 1, 0, 2, 1, 0, 4, 3, 5, 1, 1, 4, 1, 4, 4, 1, 1, 0, 4, 2, 2, 4, 1, 1, 0, 2, 0, 1, 0, 4, 1, 3, 4, 0, 0, 1, 1, 3, 1, 0, 1, 4, 0, 2, 0, 0, 4, 1, 2, 2, 3, 4, 3, 5, 1, 1, 2, 0, 1, 4, 3, 0, 3, 1, 4, 4, 4, 4, 5, 3, 4, 1, 5, 1, 4, 1, 4, 1, 3, 3, 1, 3, 2, 2, 0, 2, 3, 0, 5, 5, 2, 1, 1, 3, 5, 1, 4, 4, 0, 0, 2, 0, 1, 0, 4, 1, 0, 4, 0, 3, 3, 0, 1, 1, 5, 5, 5, 1, 2, 2, 0, 2, 1, 4, 0, 1, 2, 1, 5, 3, 4, 4, 1, 4, 1, 1, 5, 5, 0, 2, 4, 4, 2, 3, 3, 2, 1, 4, 0, 2, 2, 2, 1, 5, 1, 3, 3, 5, 0, 1, 4, 1, 4, 0, 3, 0, 5, 2, 1, 5, 3, 1, 0, 1, 1, 2, 5, 0, 0, 2, 0, 5, 3, 3, 4, 2, 3, 1, 3, 2, 4, 1, 2, 2, 4, 1, 5, 5, 3, 0, 4, 1, 2, 1, 1, 3, 2, 3, 1, 1, 1, 2, 4, 5, 3, 2, 0, 4, 4, 1, 3, 4, 2, 3, 2, 3, 2, 0, 2, 5, 0, 3, 3, 0, 2, 0, 4, 2, 2, 2, 0, 2, 5, 0, 5, 3, 4, 2, 4, 3, 4, 2, 2, 3, 1, 2, 2, 3, 0, 3, 1, 0, 4, 2, 2, 3, 2, 4, 4, 1, 5, 0, 1, 2, 0, 2, 3, 0, 0, 0, 4, 0, 4, 5, 4, 0, 3, 0, 3, 4, 1, 0, 5, 2, 3, 2, 2, 2, 1, 4, 3, 3, 2, 1, 4, 3, 3, 3, 1, 3, 3, 0, 5, 2, 5, 0, 4, 5, 3, 0, 3, 2, 0, 4, 0, 3, 5, 2, 3, 4, 1, 2, 1, 4, 2, 4, 2, 1, 2, 4, 3, 2, 2, 5, 1, 1, 4, 4, 4, 1, 3, 5, 1, 2, 1, 4, 0, 3, 4, 0, 0, 0, 1, 0, 1, 4, 5, 2, 5, 3, 1, 5, 5, 2, 0, 5, 0, 5, 4, 1, 2, 2, 4, 2, 4, 2, 3, 2, 4, 2, 1, 3, 0, 5, 1, 4, 4, 1, 3, 1, 4, 5, 4, 0, 1, 3, 0, 0, 0, 3, 3, 0, 2, 2, 5, 4, 3, 5, 1, 5, 5, 5, 3, 2, 1, 1, 0, 4, 1, 2, 5, 4, 0, 1, 3, 1, 2, 5, 4, 4, 0, 1, 0, 4, 2, 4, 5, 2, 5, 1, 1, 5, 4, 3, 4, 0, 5, 5, 4, 4, 1, 4, 3, 0, 0, 2, 1, 1, 3, 3, 2, 3, 1, 4, 5, 2, 0, 4, 2, 2, 5, 4, 5, 3, 2, 1, 0, 0, 5, 5, 2, 5, 3, 3, 3, 4, 5, 3, 1, 2, 1, 0, 0, 5, 3, 0, 0, 0, 1, 1, 2, 2, 2, 5, 4, 1, 4, 5, 2, 2, 3, 4, 5, 2, 3, 5, 2, 4, 1, 0, 3, 3, 1, 5, 5, 0, 1, 2, 4, 2, 0, 2, 4, 3, 1, 1, 4, 0, 0, 2, 1, 4, 4, 0, 5, 1, 2, 4, 4, 5, 0, 2, 3, 4, 0, 2, 5, 1, 5, 5, 0, 5, 4, 0, 2, 3, 1, 1, 3, 3, 1, 1, 4, 3, 2, 3, 3, 0, 4, 1, 0, 5, 0, 2, 5, 1, 2, 4, 5, 5, 4, 1, 1, 1, 5, 0, 4, 4, 1, 4, 3, 4, 3, 2, 0, 5, 1, 1, 4, 0, 2, 4, 0, 4, 5, 0, 1, 3, 2, 3, 2, 4, 0, 2, 1, 1, 2, 2, 2, 1, 4, 0, 4, 2, 0, 4, 1, 2, 2, 4, 1, 5, 2, 3, 1, 0, 0, 2, 3, 0, 2, 0, 1, 0, 3, 1, 5, 0, 3, 3, 2, 3, 4, 0, 1, 4, 2, 3, 5, 0, 2, 1, 2, 3, 2, 2, 3, 5, 0, 0, 0, 0, 4, 1, 3, 0, 1, 4, 0, 4, 4, 5, 3, 4, 3, 4, 3, 5, 2, 2, 0, 4, 0, 2, 2, 0, 4, 3, 3, 1, 0, 3, 5, 0, 1, 4, 2, 3, 1, 2, 5, 4, 0, 1, 5, 0, 2, 2, 3, 0, 4, 4, 0, 2, 1, 3, 0, 4, 1, 0, 1, 3, 0, 0, 5, 2, 3, 5, 3, 2, 3, 1, 3, 0, 5, 0, 5, 2, 2, 2, 0, 1, 5, 4, 0, 2, 3, 0, 2, 0, 1, 0, 4, 3, 4, 1, 0, 1, 1, 2, 1, 0, 1, 5, 4, 2, 1, 4, 1, 3, 2, 3, 0, 5, 3, 3, 0, 4, 0, 5, 0, 5, 3, 3, 5, 3, 5, 4, 3, 0, 1, 3, 1, 3, 5, 1, 0, 1, 0, 0, 0, 4, 5, 3, 0, 0, 1, 0, 2, 1, 3, 1, 3, 3, 2, 5, 2, 1, 5, 0, 4, 2, 1, 1, 0, 1, 1, 4, 1, 3, 0, 2, 4, 5, 0, 3, 1, 2, 4, 4, 1, 3, 5, 4, 5, 0, 5, 5, 1, 0, 0, 1, 4, 4, 0, 5, 3, 3, 4, 3, 2, 3, 5, 0, 1, 4, 5, 3, 1, 2, 0, 4, 5, 0, 5, 5, 0, 3, 2, 4, 3, 3, 0, 4, 1, 4, 2, 0, 1, 2, 1, 1, 0, 0, 5, 2, 5, 2, 2, 3, 5, 1, 0, 0, 5, 1, 0, 2, 5, 1, 3, 3, 4, 1, 0, 3, 1, 4, 2, 3, 0, 1, 4, 2, 1, 0, 1, 0, 5, 1, 3, 5, 1, 0, 1, 0, 1, 5, 2, 3, 5, 2, 5, 1, 1, 1, 2, 2, 4, 5, 1, 1, 1, 0, 2, 1, 0, 4, 1, 0, 3, 5, 3, 5, 1, 2, 4, 2, 3, 2, 1, 2, 4, 3, 5, 0, 4, 4, 4, 1, 2, 2, 4, 2, 0, 1, 0, 1, 5, 0, 5, 1, 1, 3, 0, 2, 4, 1, 4, 3, 3, 1, 2, 3, 5, 3, 3, 1, 1, 1, 2, 0, 2, 3, 2, 3, 0, 3, 4, 4, 5, 2, 3, 0, 5, 5, 3, 0, 0, 3, 2, 5, 0, 1, 1, 3, 3, 0, 5, 4, 4, 3, 2, 4, 1, 0, 5, 1, 0, 5, 3, 3, 2, 0, 4, 4, 0, 0, 0, 3, 0, 0, 4, 2, 2, 1, 3, 1, 4, 2, 1, 5, 4, 3, 4, 3, 4, 1, 3, 0, 5, 4, 2, 4, 0, 0, 2, 0, 1, 4, 5, 3, 2, 4, 0, 1, 1, 2, 3, 1, 2, 2, 2, 0, 2, 3, 0, 1, 1, 4, 0, 1, 2, 1, 2, 3, 3, 0, 2, 0, 1, 1, 0, 0, 1, 0, 5, 2, 4, 5, 1, 2, 4, 1, 0, 2, 0, 2, 1, 4, 5, 5, 1, 0, 0, 4, 4, 5, 0, 3, 4, 5, 5, 3, 0, 0, 5, 0, 2, 0, 0, 1, 1, 3, 2, 2, 5, 3, 2, 4, 4, 5, 1, 2, 5, 5, 2, 0, 2, 5, 2, 0, 2, 3, 2, 0, 2, 2, 0, 4, 1, 1, 5, 2, 3, 0, 3, 0, 4, 4, 3, 0, 1, 5, 5, 4, 4, 3, 0, 0, 3, 4, 1, 3, 2, 4, 5, 2, 2, 2, 3, 3, 1, 1, 0, 0, 2, 0, 0, 4, 0, 4, 1, 0, 4, 3, 2, 4, 2, 1, 5, 3, 1, 4, 1, 0, 3, 3, 3, 2, 1, 1, 4, 3, 1, 0, 4, 1, 2, 2, 1, 2, 2, 4, 0, 5, 1, 1, 1, 2, 2, 5, 4, 2, 1, 1, 1, 2, 4, 2, 0, 0, 0, 0, 4, 4, 4, 0, 1, 2, 2, 5, 4, 0, 3, 0, 0, 2, 1, 4, 4, 0, 0, 4, 1, 2, 4, 0, 2, 4, 1, 3, 3, 0, 3, 2, 0, 5, 0, 5, 3, 5, 4, 4, 4, 5, 5, 3, 0, 2, 3, 5, 4, 5, 1, 3, 5, 1, 4, 5, 1, 4, 4, 3, 1, 4, 1, 3, 5, 0, 4, 3, 4, 1, 4, 5, 4, 2, 0, 4, 0, 0, 0, 2, 5, 1, 1, 4, 2, 0, 0, 3, 0, 3, 2, 3, 5, 4, 0, 0, 1, 0, 0, 3, 1, 1, 4, 5, 0, 2, 2, 4, 2, 0, 1, 3, 0, 5, 0, 5, 5, 3, 1, 3, 5, 0, 4, 1, 1, 1, 5, 4, 5, 2, 4, 4, 0, 4, 1, 0, 3, 1, 3, 5, 4, 3, 3, 0, 5, 3, 4, 2, 4, 0, 3, 2, 3, 0, 3, 5, 4, 4, 0, 0, 4, 2, 0, 2, 2, 3, 0, 0, 4, 1, 0, 4, 1, 1, 2, 1, 0, 3, 0, 3, 4, 4, 0, 1, 4, 0, 1, 3, 3, 1, 3, 0, 2, 2, 1, 3, 3, 1, 5, 1, 2, 4, 0, 4, 0, 1, 1, 3, 1, 5, 0, 4, 1, 3, 2, 0, 2, 3, 1, 5, 2, 3, 1, 4, 1, 1, 4, 0, 0, 0, 4, 2, 0, 2, 2, 0, 4, 5, 5, 3, 2, 4, 2, 5, 1, 1, 1, 1, 4, 2, 4, 0, 2, 1, 2, 2, 3, 4, 0, 0, 2, 1, 3, 4, 0, 0, 1, 4, 1, 0, 2, 2, 0, 3, 5, 0, 0, 1, 3, 0, 5, 1, 0, 4, 5, 1, 0, 2, 2, 3, 0, 1, 1, 4, 3, 5, 4, 5, 4, 2, 3, 5, 5, 3, 5, 3, 0, 2, 2, 2, 3, 2, 2, 3, 0, 3, 0, 4, 1, 2, 5, 2, 5, 4, 1, 3, 0, 3, 0, 4, 1, 3, 5, 0, 2, 3, 2, 5, 1, 4, 4, 0, 0, 2, 1, 2, 1, 5, 5, 5, 2, 2, 0, 5, 0, 2, 2, 4, 4, 4, 4, 5, 4, 3, 5, 1, 2, 2, 0, 3, 0, 1, 4, 2, 1, 0, 1, 4, 5, 1, 2, 1, 0, 4, 3, 2, 3, 3, 3, 3, 4, 1, 1, 5, 2, 1, 1, 2, 5, 2, 0, 4, 1, 1, 1, 4, 4, 1, 1, 5, 1, 4, 1, 3, 5, 0, 3, 2, 2, 0, 2, 5, 4, 1, 1, 0, 1, 4, 2, 4, 2, 0, 3, 1, 2, 3, 5, 3, 1, 1, 4, 0, 2, 2, 1, 0, 0, 4, 1, 1, 1, 1, 1, 1, 2, 5, 0, 1, 0, 2, 2, 3, 3, 0, 5, 3, 1, 4, 0, 1, 2, 5, 3, 2, 2, 5, 3, 1, 4, 1, 3, 0, 4, 5, 5, 0, 4, 3, 0, 0, 4, 4, 4, 5, 3, 1, 4, 1, 0, 2, 3, 5, 2, 5, 2, 4, 2, 1, 2, 5, 0, 4, 3, 2, 3, 3, 1, 2, 1, 1, 3, 5, 1, 1, 5, 4, 0, 1, 1, 5, 5, 3, 0, 2, 1, 1, 2, 1, 4, 5, 3, 2, 1, 3, 2, 3, 4, 3, 4, 2, 4, 5, 5, 0, 3, 0, 0, 1, 4, 4, 1, 2, 4, 5, 5, 1, 5, 0, 4, 3, 2, 5, 3, 3, 0, 5, 5, 2, 3, 1, 0, 1, 5, 5, 4, 0, 2, 1, 3, 4, 4, 4, 4, 0, 2, 5, 2, 2, 2, 2, 4, 1, 5, 0, 0, 5, 0, 5, 1, 4, 4, 5, 5, 0, 5, 4, 5, 4, 0, 4, 3, 1, 5, 3, 5, 0, 0, 0, 0, 2, 0, 0, 5, 3, 3, 4, 0, 1, 5, 2, 1, 4, 1, 2, 2, 4, 4, 0, 0, 0, 5, 2, 0, 4, 4, 4, 4, 4, 0, 2, 1, 4, 1, 2, 1, 5, 0, 5, 1, 0, 4, 4, 3, 2, 1, 5, 0, 1, 1, 0, 1, 0, 5, 5, 1, 4, 2, 4, 3, 0, 3, 2, 3, 3, 1, 1, 2, 3, 3, 3, 0, 3, 3, 1, 2, 2, 5, 3, 0, 0, 2, 2, 0, 2, 0, 2, 0, 2, 1, 0, 3, 3, 4, 2, 5, 4, 0, 2, 3, 4, 4, 0, 2, 1, 4, 1, 2, 1, 3, 5, 5, 1, 1, 1, 1, 0, 2, 1, 0, 3, 2, 3, 2, 2, 5, 3, 2, 3, 1, 0, 0, 0, 5, 5, 1, 4, 2, 5, 5, 1, 1, 2, 1, 5, 0, 1, 1, 5, 2, 3, 2, 2, 4, 4, 1, 3, 4, 2, 4, 4, 3, 0, 1, 1, 3, 1, 1, 4, 2, 3, 1, 2, 3, 4, 1, 4, 1, 3, 2, 3, 0, 1, 0, 3, 2, 0, 0, 1, 3, 0, 0, 0, 1, 4, 0, 1, 2, 1, 4, 5, 1, 2, 4, 0, 0, 2, 0, 5, 1, 0, 2, 0, 5, 3, 1, 3, 1, 3, 3, 2, 4, 1, 1, 1, 0, 3, 5, 3, 4, 2, 0, 0, 3, 2, 2, 2, 4, 0, 5, 4, 3, 4, 3, 4, 4, 5, 4, 5, 1, 5, 0, 5, 5, 3, 4, 4, 0, 1, 4, 5, 0, 5, 2, 3, 1, 2, 1, 1, 0, 3, 3, 3, 1, 1, 2, 5, 1, 1, 5, 2, 4, 3, 3, 5, 3, 0, 4, 1, 0, 2, 2, 1, 0, 3, 3, 1, 4, 1, 5, 2, 1, 2, 3, 4, 1, 4, 2, 0, 0, 0, 0, 0, 1, 5, 1, 2, 5, 0, 1, 2, 0, 4, 1, 4, 4, 4, 5, 4, 5, 0, 4, 2, 2, 0, 1, 1, 4, 2, 2, 4, 2, 0, 4, 2, 3, 3, 1, 2, 2, 2, 3, 2, 3, 2, 3, 4, 2, 0, 3, 4, 3, 2, 1, 4, 4, 0, 3, 3, 0, 5, 0, 1, 0, 1, 1, 2, 0, 1, 4, 5, 0, 2, 0, 1, 2, 4, 4, 1, 3, 1, 4, 1, 0, 1, 1, 3, 2, 5, 3, 2, 3, 3, 1, 0, 5, 0, 3, 2, 1, 4, 1, 3, 2, 2, 0, 4, 4, 1, 4, 1, 2, 4, 0, 4, 3, 3, 5, 5, 4, 5, 2, 0, 0, 0, 4, 0, 2, 1, 2, 5, 2, 4, 3, 0, 4, 2, 2, 4, 2, 4, 0, 4, 0, 5, 1, 2, 0, 5, 0, 0, 5, 0, 5, 4, 5, 0, 5, 5, 1, 2, 3, 5, 0, 3, 1, 1, 0, 3, 1, 1, 0, 3, 2, 1, 3, 4, 0, 0, 2, 4, 5, 1, 3, 2, 1, 0, 2, 4, 1, 2, 2, 1, 4, 0, 4, 0, 1, 4, 2, 5, 3, 0, 2, 2, 1, 0, 3, 0, 1, 3, 2, 2, 1, 2, 0, 5, 0, 3, 0, 0, 3, 2, 0, 2, 4, 3, 2, 3, 2, 3, 3, 4, 1, 0, 4, 1, 0, 3, 3, 1, 3, 3, 5, 2, 4, 5, 5, 3, 1, 3, 0, 4, 3, 3, 0, 3, 4, 5, 4, 3, 2, 4, 1, 3, 5, 4, 2, 2, 5, 3, 4, 0, 2, 4, 1, 0, 0, 3, 1, 4, 2, 1, 2, 5, 2, 4, 2, 0, 2, 5, 1, 2, 3, 0, 0, 0, 3, 1, 3, 3, 2, 4, 4, 4, 3, 0, 3, 5, 0, 0, 3, 4, 0, 2, 5, 5, 0, 0, 1, 0, 2, 1, 0, 3, 4, 0, 0, 1, 3, 2, 0, 0, 0, 1, 2, 3, 2, 2, 1, 1, 4, 2, 1, 0, 4, 5, 1, 1, 2, 4, 5, 0, 3, 0, 2, 2, 2, 4, 5, 4, 4, 3, 3, 0, 3, 2, 0, 5, 2, 5, 0, 3, 5, 3, 3, 4, 0, 0, 5, 2, 2, 1, 1, 4, 2, 0, 3, 1, 3, 1, 4, 4, 1, 0, 4, 3, 2, 2, 4, 2, 1, 1, 5, 4, 3, 0, 0, 2, 2, 3, 5, 0, 5, 3, 5, 0, 1, 1, 3, 2, 0, 2, 2, 3, 0, 5, 1, 3, 4, 3, 2, 3, 5, 4, 3, 3, 0, 3, 2, 4, 5, 4, 5, 2, 5, 1, 4, 1, 3, 5, 5, 0, 3, 1, 3, 3, 1, 3, 5, 4, 1, 5, 2, 0, 5, 2, 0, 5, 0, 3, 2, 0, 4, 4, 1, 1, 4, 1, 1, 3, 1, 4, 2, 3, 2, 0, 1, 1, 4, 5, 1, 2, 0, 4, 2, 4, 4, 1, 5, 2, 2, 4, 3, 4, 1, 2, 4, 2, 4, 2, 2, 1, 1, 4, 4, 1, 3, 4, 5, 3, 1, 0, 2, 4, 2, 0, 2, 4, 3, 3, 0, 0, 2, 3, 0, 5, 4, 3, 3, 3, 5, 1, 2, 4, 2, 5, 5, 1, 0, 3, 3, 4, 4, 5, 4, 2, 2, 1, 2, 5, 2, 3, 1, 3, 0, 3, 2, 3, 1, 5, 0, 0, 0, 1, 3, 1, 3, 3, 5, 0, 2, 5, 0, 4, 1, 1, 2, 5, 2, 3, 2, 4, 3, 0, 0, 0, 5, 3, 2, 1, 3, 1, 1, 1, 5, 3, 2, 0, 3, 2, 4, 1, 0, 3, 1, 1, 0, 3, 3, 5, 0, 2, 2, 0, 2, 5, 4, 5, 4, 4, 5, 1, 0, 2, 2, 3, 0, 1, 0, 4, 2, 3, 2, 0, 2, 3, 4, 2, 5, 5, 5, 3, 4, 1, 5, 5, 0, 1, 2, 2, 5, 5, 3, 4, 0, 5, 5, 4, 4, 4, 3, 5, 0, 5, 0, 0, 3, 4, 2, 0, 1, 1, 5, 2, 5, 1, 5, 0, 5, 2, 1, 2, 4, 5, 2, 3, 2, 4, 2, 1, 0, 3, 0, 1, 1, 1, 0, 2, 3, 0, 1, 3, 0, 1, 0, 1, 0, 1, 3, 3, 1, 1, 2, 1, 2, 5, 2, 4, 5, 1, 0, 4, 4, 2, 0, 3, 0, 1, 3, 0, 1, 5, 4, 2, 3, 2, 5, 3, 2, 5, 2, 2, 1, 1, 0, 0, 0, 4, 2, 2, 1, 2, 1, 4, 2, 0, 1, 3, 4, 5, 2, 1, 4, 2, 5, 0, 2, 3, 5, 4, 2, 3, 4, 0, 4, 2, 2, 3, 0, 3, 0, 1, 0, 1, 1, 3, 4, 0, 0, 0, 1, 1, 1, 5, 4, 5, 3, 4, 5, 1, 4, 3, 2, 0, 5, 1, 0, 0, 5, 0, 1, 0, 1, 4, 4, 5, 2, 1, 0, 0, 3, 5, 4, 5, 0, 1, 0, 5, 0, 1, 2, 1, 2, 3, 2, 2, 3, 3, 1, 5, 1, 4, 1, 2, 5, 4, 1, 0, 0, 3, 0, 3, 5, 1, 4, 2, 4, 3, 2, 4, 0, 1, 2, 1, 5, 5, 1, 1, 5, 5, 1, 0, 0, 2, 0, 0, 1, 2, 2, 5, 0, 0, 0, 1, 2, 5, 4, 4, 1, 0, 0, 1, 3, 2, 0, 2, 3, 5, 3, 1, 5, 4, 3, 0, 4, 3, 5, 0, 0, 3, 1, 5, 4, 1, 4, 0, 4, 3, 5, 4, 0, 2, 1, 3, 3, 1, 3, 5, 2, 3, 2, 3, 0, 2, 5, 0, 3, 1, 2, 3, 3, 4, 4, 3, 4, 3, 5, 4, 3, 5, 3, 4, 0, 5, 3, 3, 1, 4, 4, 2, 4, 3, 1, 5, 2, 5, 0, 4, 0, 3, 3, 3, 3, 0, 0, 5, 5, 0, 2, 2, 2, 4, 3, 4, 3, 5, 1, 2, 3, 3, 5, 5, 0, 0, 2, 3, 0, 3, 0, 0, 4, 5, 4, 0, 3, 2, 4, 4, 4, 5, 3, 1, 3, 2, 1, 4, 1, 2, 4, 0, 4, 3, 5, 1, 5, 3, 5, 2, 5, 1, 3, 0, 5, 0, 4, 3, 5, 3, 2, 4, 5, 3, 3, 4, 2, 0, 3, 1, 3, 5, 1, 1, 3, 0, 1, 3, 4, 0, 1, 5, 1, 0, 3, 1, 0, 2, 0, 4, 3, 1, 4, 2, 4, 1, 4, 4, 2, 1, 2, 1, 3, 4, 0, 0, 3, 2, 3, 5, 4, 4, 2, 0, 0, 2, 0, 4, 1, 5, 5, 2, 3, 5, 5, 4, 2, 1, 3, 0, 2, 3, 0, 1, 5, 2, 0, 0, 4, 4, 5, 3, 1, 0, 1, 4, 5, 3, 0, 2, 1, 4, 0, 4, 0, 0, 0, 3, 5, 5, 3, 4, 3, 5, 3, 2, 3, 4, 1, 0, 3, 4, 0, 3, 1, 0, 0, 5, 0, 1, 2, 3, 3, 1, 1, 2, 1, 3, 4, 5, 0, 3, 0, 1, 4, 2, 0, 3, 2, 2, 2, 5, 2, 5, 3, 0, 0, 2, 1, 4, 2, 5, 3, 3, 4, 1, 0, 5, 5, 5, 0, 3, 1, 4, 2, 3, 3, 5, 0, 0, 2, 4, 2, 5, 5, 4, 1, 3, 1, 3, 4, 4, 1, 5, 0, 5, 4, 2, 2, 1, 0, 2, 0, 3, 5, 2, 1, 3, 1, 5, 2, 1, 3, 2, 0, 0, 1, 0, 5, 5, 4, 5, 0, 0, 1, 3, 4, 3, 5, 4, 1, 2, 1, 2, 2, 3, 2, 2, 1, 0, 5, 5, 1, 0, 2, 1, 0, 4, 3, 2, 0, 5, 0, 3, 4, 1, 0, 2, 0, 1, 0, 2, 2, 2, 5, 1, 1, 2, 3, 4, 0, 3, 1, 0, 4, 4, 3, 4, 3, 3, 3, 5, 0, 2, 1, 1, 0, 4, 1, 1, 0, 4, 2, 1, 5, 1, 0, 0, 0, 2, 5, 0, 2, 0, 2, 2, 3, 1, 4, 2, 1, 2, 4, 1, 0, 4, 0, 4, 3, 0, 0, 3, 0, 3, 3, 4, 3, 0, 5, 3, 5, 2, 0, 3, 0, 2, 5, 0, 3, 2, 3, 2, 3, 3, 4, 3, 1, 1, 3, 2, 2, 2, 4, 0, 4, 3, 3, 0, 3, 1, 0, 2, 0, 0, 0, 0, 2, 3, 1, 2, 5, 1, 1, 1, 0, 1, 4, 4, 2, 3, 3, 5, 1, 4, 0, 1, 0, 3, 0, 3, 0, 5, 1, 5, 0, 2, 0, 5, 4, 1, 2, 2, 0, 5, 0, 3, 3, 0, 1, 1, 4, 0, 3, 2, 1, 0, 2, 2, 1, 2, 1, 4, 5, 5, 1, 1, 3, 0, 1, 1, 2, 2, 3, 4, 0, 5, 0, 1, 4, 2, 4, 5, 2, 2, 3, 2, 5, 1, 4, 0, 1, 5, 1, 4, 3, 5, 2, 1, 0, 5, 3, 1, 5, 3, 3, 2, 4, 2, 1, 0, 1, 4, 0, 4, 3, 5, 2, 5, 2, 1, 2, 0, 0, 2, 2, 0, 2, 2, 1, 4, 0, 1, 5, 0, 5, 5, 1, 0, 2, 2, 5, 1, 0, 3, 3, 0, 3, 2, 3, 4, 5, 5, 2, 3, 5, 1, 5, 4, 4, 2, 4, 0, 2, 0, 5, 0, 3, 3, 0, 5, 1, 0, 1, 2, 4, 4, 0, 5, 2, 1, 0, 3, 0, 2, 2, 0, 3, 4, 2, 0, 5, 2, 0, 1, 1, 4, 3, 1, 1, 4, 2, 3, 1, 5, 1, 2, 2, 5, 3, 4, 1, 1, 0, 3, 1, 1, 5, 5, 0, 1, 5, 5, 3, 0, 5, 3, 3, 2, 1, 3, 3, 3, 0, 4, 4, 5, 4, 1, 2, 3, 4, 3, 0, 4, 4, 3, 0, 5, 1, 4, 5, 4, 5, 1, 0, 3, 5, 0, 4, 1, 0, 0, 5, 5, 5, 0, 2, 0, 3, 1, 1, 0, 3, 2, 3, 1, 4, 0, 4, 3, 4, 0, 0, 1, 1, 0, 0, 5, 0, 0, 4, 4, 5, 0, 2, 3, 0, 1, 4, 4, 2, 3, 1, 4, 2, 5, 3, 4, 0, 3, 5, 1, 4, 3, 4, 0, 4, 1, 3, 0, 3, 0, 4, 2, 1, 4, 1, 5, 1, 1, 1, 3, 4, 3, 1, 3, 1, 4, 4, 0, 4, 1, 1, 3, 1, 0, 3, 2, 5, 1, 0, 4, 1, 2, 3, 3, 4, 2, 1, 3, 1, 0, 0, 3, 0, 2, 3, 5, 0, 3, 5, 1, 2, 5, 4, 4, 4, 4, 2, 1, 2, 3, 4, 2, 0, 0, 4, 5, 0, 3, 2, 5, 0, 4, 0, 0, 2, 3, 0, 0, 2, 0, 2, 4, 4, 2, 4, 3, 1, 2, 4, 1, 2, 2, 0, 2, 4, 3, 1, 3, 1, 2, 3, 4, 0, 2, 0, 2, 2, 3, 5, 0, 5, 5, 1, 3, 3, 1, 0, 1, 1, 3, 0, 4, 0, 1, 5, 0, 0, 0, 2, 0, 3, 1, 3, 4, 2, 2, 1, 5, 3, 1, 1, 3, 2, 1, 0, 2, 1, 1, 3, 2, 1, 4, 3, 0, 3, 1, 2, 1, 2, 5, 0, 1, 3, 3, 3, 2, 1, 1, 3, 4, 0, 1, 5, 2, 5, 0, 3, 5, 0, 1, 4, 0, 5, 1, 0, 0, 1, 0, 3, 3, 0, 4, 3, 4, 0, 0, 4, 3, 0, 1, 5, 3, 0, 2, 1, 2, 0, 4, 4, 2, 5, 3, 5, 0, 4, 5, 2, 2, 2, 2, 5, 0, 1, 4, 3, 5, 3, 4, 5, 0, 5, 0, 0, 0, 5, 3, 1, 5, 2, 2, 3, 1, 2, 2, 4, 2, 0, 1, 5, 5, 5, 1, 4, 5, 3, 2, 0, 0, 5, 1, 0, 0, 0, 0, 0, 1, 1, 4, 0, 3, 4, 1, 3, 0, 5, 4, 0, 3, 2, 5, 0, 2, 0, 3, 3, 0, 4, 3, 1, 4, 2, 0, 4, 5, 4, 0, 0, 0, 5, 3, 0, 5, 4, 1, 1, 3, 2, 5, 2, 5, 5, 0, 2, 2, 2, 2, 4, 1, 1, 2, 5, 2, 4, 2, 3, 5, 4, 5, 3, 1, 1, 0, 0, 3, 5, 3, 0, 5, 4, 2, 4, 4, 1, 3, 1, 1, 5, 1, 0, 5, 5, 0, 5, 0, 1, 3, 5, 4, 1, 4, 1, 4, 1, 0, 0, 4, 0, 0, 4, 3, 3, 2, 3, 0, 2, 0, 4, 5, 0, 0, 3, 5, 0, 1, 2, 1, 0, 0, 0, 2, 5, 2, 0, 0, 2, 2, 0, 5, 0, 1, 4, 4, 2, 4, 4, 1, 0, 5, 2, 3, 0, 4, 2, 0, 3, 4, 4, 5, 2, 5, 5, 2, 3, 2, 3, 1, 2, 1, 1, 0, 3, 0, 0, 5, 3, 1, 2, 2, 1, 1, 2, 0, 1, 5, 3, 5, 0, 1, 4, 5, 0, 1, 0, 2, 0, 2, 3, 0, 2, 3, 1, 5, 2, 4, 2, 3, 0, 4, 2, 2, 4, 3, 0, 4, 4, 0, 4, 0, 1, 1, 1, 5, 2, 0, 4, 1, 5, 0, 1, 4, 3, 4, 3, 2, 2, 0, 2, 5, 1, 5, 0, 4, 1, 1, 0, 3, 2, 4, 5, 3, 0, 0, 0, 0, 5, 0, 4, 1, 1, 0, 0, 5, 3, 5, 2, 3, 1, 3, 4, 2, 0, 1, 3, 0, 2, 1, 1, 5, 0, 4, 5, 1, 4, 4, 2, 5, 5, 0, 2, 5, 5, 4, 3, 0, 2, 0, 0, 4, 4, 0, 5, 2, 0, 0, 3, 2, 0, 2, 2, 3, 5, 3, 2, 3, 5, 3, 2, 5, 5, 0, 2, 3, 2, 5, 3, 2, 4, 0, 2, 0, 3, 2, 3, 1, 3, 2, 2, 4, 2, 4, 0, 0, 0, 0, 5, 0, 0, 4, 4, 1, 1, 1, 0, 1, 0, 2, 2, 2, 4, 5, 3, 2, 5, 2, 2, 5, 2, 4, 5, 3, 5, 4, 3, 2, 2, 0, 2, 1, 0, 5, 0, 1, 4, 3, 1, 5, 5, 0, 2, 5, 1, 2, 4, 0, 3, 2, 4, 0, 2, 2, 2, 4, 1, 1, 1, 4, 2, 3, 0, 2, 2, 0, 3, 0, 1, 3, 0, 4, 2, 4, 3, 0, 4, 1, 5, 0, 4, 4, 0, 5, 0, 3, 2, 3, 5, 2, 1, 4, 3, 1, 3, 0, 1, 3, 1, 4, 3, 3, 2, 0, 0, 1, 5, 1, 4, 0, 4, 1, 0, 2, 2, 2, 4, 4, 0, 0, 4, 0, 2, 0, 3, 1, 3, 1, 2, 2, 5, 4, 5, 5, 1, 2, 1, 4, 0, 0, 5, 0, 1, 4, 4, 0, 1, 2, 5, 4, 4, 0, 1, 0, 0, 2, 4, 4, 2, 4, 1, 3, 2, 3, 2, 1, 0, 3, 0, 4, 3, 0, 3, 3, 0, 2, 0, 3, 4, 5, 2, 3, 1, 0, 5, 0, 4, 4, 5, 1, 5, 2, 0, 0, 1, 2, 0, 1, 3, 1, 0, 0, 5, 0, 3, 2, 5, 4, 2, 3, 5, 2, 1, 1, 3, 1, 3, 1, 1, 3, 0, 3, 2, 5, 5, 3, 0, 1, 3, 0, 5, 1, 5, 1, 4, 0, 4, 2, 0, 1, 1, 3, 1, 3, 4, 5, 3, 5, 0, 4, 4, 0, 1, 3, 4, 2, 4, 1, 4, 2, 1, 2, 1, 3, 3, 1, 1, 1, 0, 1, 0, 2, 0, 2, 0, 4, 0, 1, 0, 1, 1, 0, 1, 2, 0, 1, 2, 2, 5, 3, 4, 1, 5, 2, 2, 0, 1, 0, 3, 3, 3, 2, 3, 3, 1, 2, 1, 2, 0, 4, 5, 3, 4, 5, 1, 0, 0, 3, 4, 4, 0, 1, 2, 0, 4, 1, 5, 5, 4, 4, 3, 5, 2, 3, 5, 4, 3, 3, 2, 5, 3, 1, 5, 4, 2, 3, 0, 0, 1, 0, 5, 4, 0, 2, 3, 4, 5, 2, 0, 0, 0, 4, 3, 1, 1, 0, 3, 4, 5, 1, 4, 4, 1, 1, 1, 1, 3, 2, 2, 4, 3, 5, 3, 2, 1, 2, 1, 1, 1, 5, 1, 4, 0, 5, 1, 4, 0, 4, 2, 2, 5, 4, 3, 3, 1, 0, 2, 3, 0, 5, 3, 0, 0, 4, 3, 3, 0, 5, 0, 1, 5, 2, 0, 1, 1, 0, 2, 2, 2, 3, 1, 1, 0, 2, 0, 4, 3, 3, 3, 2, 4, 0, 2, 2, 0, 0, 4, 2, 2, 3, 4, 3, 2, 2, 3, 0, 2, 3, 2, 1, 3, 5, 5, 5, 4, 0, 0, 5, 3, 5, 3, 4, 3, 4, 0, 3, 1, 1, 3, 5, 2, 1, 5, 2, 0, 2, 0, 5, 5, 5, 3, 0, 4, 2, 5, 0, 4, 4, 5, 4, 2, 3, 0, 2, 4, 3, 2, 5, 3, 2, 2, 0, 2, 2, 2, 1, 3, 1, 0, 4, 2, 4, 3, 2, 3, 4, 5, 2, 3, 1, 1, 4, 1, 4, 1, 1, 1, 4, 4, 3, 2, 3, 1, 3, 2, 2, 4, 4, 0, 5, 2, 5, 2, 1, 5, 1, 5, 1, 1, 4, 0, 5, 3, 3, 1, 3, 3, 1, 2, 2, 3, 2, 5, 1, 2, 5, 5, 2, 1, 0, 0, 3, 4, 5, 3, 3, 0, 0, 0, 3, 4, 3, 2, 0, 0, 3, 3, 2, 2, 1, 2, 5, 3, 3, 4, 4, 4, 2, 0, 4, 2, 0, 2, 3, 5, 4, 4, 0, 1, 5, 4, 1, 4, 5, 3, 0, 0, 2, 2, 1, 3, 5, 1, 2, 0, 3, 4, 4, 5, 1, 4, 5, 0, 0, 1, 3, 0, 4, 5, 1, 1, 0, 3, 3, 2, 0, 4, 2, 1, 3, 2, 2, 3, 2, 1, 1, 2, 1, 2, 2, 4, 4, 0, 4, 2, 4, 4, 0, 1, 0, 2, 2, 4, 0, 1, 2, 1, 3, 0, 0, 1, 3, 2, 4, 3, 5, 1, 3, 1, 3, 2, 1, 2, 0, 5, 0, 2, 2, 4, 4, 2, 3, 1, 3, 1, 4, 5, 5, 0, 2, 5, 4, 3, 2, 3, 1, 2, 5, 5, 5, 3, 3, 5, 0, 1, 3, 3, 2, 5, 2, 3, 5, 3, 4, 1, 1, 1, 2, 1, 4, 0, 5, 1, 1, 0, 1, 2, 0, 2, 0, 5, 4, 2, 5, 1, 3, 0, 4, 5, 3, 1, 1, 5, 0, 2, 3, 4, 5, 0, 0, 1, 2, 1, 0, 5, 5, 2, 4, 2, 3, 3, 0, 1, 1, 1, 4, 0, 5, 0, 0, 1, 1, 4, 3, 2, 3, 0, 3, 2, 3, 0, 2, 4, 2, 4, 1, 4, 3, 2, 2, 5, 0, 0, 1, 4, 3, 0, 5, 0, 1, 5, 3, 2, 0, 1, 5, 2, 0, 0, 2, 1, 4, 1, 4, 4, 2, 0, 3, 2, 1, 5, 5, 2, 4, 5, 2, 1, 5, 0, 3, 3, 1, 3, 3, 4, 1, 4, 5, 3, 5, 3, 0, 0, 2, 3, 2, 0, 3, 3, 1, 4, 2, 0, 2, 4, 5, 1, 3, 5, 3, 0, 5, 0, 5, 2, 2, 1, 2, 2, 3, 1, 0, 2, 1, 5, 4, 0, 4, 3, 1, 2, 1, 3, 3, 3, 2, 0, 1, 2, 3, 4, 1, 2, 1, 5, 1, 4, 1, 0, 2, 4, 5, 0, 3, 5, 2, 1, 2, 0, 3, 3, 0, 3, 2, 4, 3, 2, 2, 0, 1, 4, 5, 4, 3, 3, 2, 1, 3, 0, 4, 0, 4, 0, 3, 4, 4, 5, 3, 2, 1, 2, 4, 2, 0, 2, 1, 5, 0, 5, 5, 0, 0, 5, 3, 0, 5, 0, 1, 4, 2, 4, 4, 3, 3, 2, 4, 4, 5, 4, 5, 2, 3, 1, 3, 5, 5, 3, 4, 2, 1, 2, 0, 5, 0, 1, 0, 5, 2, 1, 3, 4, 1, 4, 0, 2, 2, 3, 4, 5, 2, 4, 4, 1, 0, 0, 2, 4, 0, 2, 3, 1, 1, 5, 1, 5, 0, 3, 2, 1, 3, 4, 0, 3, 0, 2, 3, 2, 5, 5, 0, 3, 5, 4, 2, 2, 4, 4, 2, 1, 2, 0, 0, 4, 1, 2, 2, 3, 1, 2, 5, 1, 4, 1, 2, 4, 2, 0, 0, 3, 0, 4, 1, 0, 3, 1, 2, 0, 1, 1, 5, 0, 3, 5, 5, 2, 4, 3, 1, 4, 0, 1, 3, 2, 4, 5, 3, 5, 3, 5, 1, 3, 1, 1, 0, 5, 2, 3, 1, 3, 1, 0, 4, 1, 2, 1, 3, 5, 3, 1, 5, 4, 2, 5, 3, 0, 3, 2, 2, 3, 5, 4, 3, 3, 0, 5, 0, 0, 5, 2, 5, 3, 2, 1, 5, 0, 4, 5, 0, 0, 2, 0, 4, 5, 0, 0, 4, 4, 2, 5, 5, 1, 1, 0, 0, 3, 3, 4, 2, 2, 2, 1, 0, 3, 2, 5, 0, 1, 0, 3, 5, 4, 5, 4, 2, 1, 2, 0, 5, 0, 5, 3, 0, 3, 1, 2, 1, 0, 3, 2, 2, 4, 0, 2, 1, 2, 4, 0, 0, 2, 2, 4, 4, 4, 5, 2, 5, 3, 1, 1, 4, 3, 4, 2, 4, 5, 5, 5, 0, 2, 3, 4, 2, 2, 4, 5, 5, 4, 2, 3, 5, 5, 1, 1, 4, 2, 4, 5, 0, 0, 4, 4, 0, 4, 0, 2, 0, 1, 4, 2, 3, 4, 1, 0, 1, 5, 3, 3, 1, 2, 1, 4, 5, 5, 5, 0, 2, 1, 5, 1, 0, 0, 3, 0, 0, 2, 4, 5, 0, 1, 2, 5, 1, 3, 4, 4, 5, 2, 3, 1, 2, 2, 2, 4, 0, 1, 3, 4, 1, 4, 0, 4, 5, 4, 0, 4, 1, 2, 2, 1, 1, 0, 5, 3, 3, 0, 1, 4, 4, 0, 1, 5, 0, 2, 5, 2, 5, 1, 0, 0, 2, 4, 5, 3, 0, 4, 3, 5, 2, 5, 5, 0, 1, 4, 0, 3, 1, 4, 2, 3, 2, 0, 1, 1, 4, 5, 0, 0, 1, 5, 0, 2, 0, 3, 4, 1, 1, 0, 4, 2, 2, 0, 1, 0, 1, 0, 1, 1, 5, 3, 4, 2, 3, 3, 1, 0, 4, 0, 5, 2, 3, 5, 5, 2, 4, 3, 2, 0, 0, 1, 4, 4, 1, 1, 1, 0, 2, 4, 2, 3, 1, 4, 2, 2, 0, 3, 3, 5, 3, 0, 4, 0, 0, 4, 1, 0, 5, 1, 0, 0, 3, 2, 5, 4, 4, 4, 3, 0, 5, 2, 1, 4, 5, 1, 4, 4, 4, 2, 4, 4, 0, 4, 5, 5, 4, 4, 2, 0, 3, 1, 2, 4, 4, 0, 5, 2, 4, 1, 5, 4, 5, 1, 3, 0, 2, 4, 3, 0, 1, 0, 0, 2, 2, 0, 1, 1, 5, 2, 1, 0, 2, 2, 0, 0, 1, 0, 4, 5, 1, 0, 1, 0, 0, 2, 0, 1, 1, 0, 2, 1, 2, 3, 0, 5, 2, 4, 1, 1, 2, 1, 5, 0, 0, 4, 2, 0, 2, 0, 1, 3, 4, 2, 3, 0, 2, 5, 3, 0, 2, 2, 4, 1, 0, 3, 3, 0, 4, 4, 5, 2, 0, 0, 0, 1, 2, 0, 4, 1, 4, 2, 2, 5, 5, 4, 1, 2, 4, 1, 5, 3, 4, 5, 3, 0, 0, 0, 5, 3, 2, 4, 1, 0, 5, 3, 4, 3, 0, 3, 1, 5, 3, 3, 1, 4, 4, 5, 3, 3, 4, 4, 1, 2, 1, 5, 3, 3, 5, 0, 0, 1, 4, 4, 4, 4, 3, 4, 3, 5, 1, 0, 2, 1, 2, 2, 3, 2, 2, 3, 4, 3, 1, 2, 4, 4, 0, 4, 1, 3, 3, 5, 2, 5, 3, 1, 1, 0, 3, 0, 1, 2, 3, 1, 1, 4, 0, 5, 3, 0, 3, 1, 3, 2, 4, 4, 0, 5, 5, 0, 4, 0, 4, 4, 3, 4, 3, 2, 2, 1, 4, 0, 2, 3, 4, 2, 0, 2, 4, 3, 1, 1, 5, 2, 0, 0, 2, 0, 4, 2, 4, 4, 0, 0, 2, 3, 5, 0, 5, 2, 2, 0, 4, 2, 0, 5, 2, 3, 1, 2, 3, 1, 2, 4, 1, 1, 1, 4, 4, 0, 0, 3, 1, 2, 0, 3, 4, 0, 4, 3, 1, 1, 2, 3, 2, 1, 3, 3, 3, 2, 2, 1, 1, 1, 1, 3, 1, 4, 4, 1, 3, 4, 5, 4, 0, 0, 2, 0, 3, 0, 4, 5, 0, 0, 2, 3, 3, 0, 0, 0, 1, 2, 3, 2, 1, 0, 2, 2, 5, 5, 0, 5, 1, 2, 0, 1, 4, 3, 0, 0, 2, 1, 2, 4, 0, 5, 0, 2, 0, 4, 0, 5, 5, 0, 1, 2, 5, 5, 1, 0, 1, 2, 1, 0, 0, 5, 5, 3, 4, 1, 1, 5, 5, 2, 3, 1, 2, 0, 0, 2, 4, 5, 4, 3, 0, 5, 3, 1, 2, 2, 2, 3, 1, 0, 2, 0, 1, 4, 2, 1, 5, 1, 2, 0, 1, 5, 4, 2, 5, 0, 3, 2, 0, 3, 2, 1, 2, 2, 1, 5, 3, 4, 3, 5, 0, 3, 0, 1, 2, 5, 1, 0, 5, 1, 2, 0, 1, 1, 2, 0, 0, 2, 3, 0, 3, 0, 2, 3, 4, 1, 4, 4, 1, 4, 0, 3, 1, 0, 2, 2, 2, 3, 0, 5, 3, 0, 1, 0, 3, 3, 0, 2, 5, 1, 0, 1, 2, 5, 1, 3, 1, 1, 0, 3, 0, 0, 0, 0, 4, 5, 1, 1, 5, 0, 0, 1, 5, 1, 5, 4, 0, 3, 0, 5, 1, 0, 3, 1, 3, 2, 0, 3, 1, 2, 0, 2, 4, 0, 0, 5, 1, 0, 0, 4, 2, 3, 3, 5, 4, 1, 3, 5, 3, 5, 3, 4, 3, 2, 0, 2, 0, 0, 3, 2, 3, 4, 3, 0, 1, 4, 0, 1, 2, 0, 0, 3, 4, 0, 4, 1, 1, 0, 2, 0, 3, 1, 4, 1, 0, 2, 3, 2, 1, 0, 0, 2, 1, 5, 1, 5, 3, 0, 0, 2, 5, 1, 3, 0, 5, 0, 5, 0, 3, 0, 3, 4, 3, 4, 0, 2, 4, 1, 1, 5, 4, 1, 1, 1, 0, 2, 4, 1, 5, 2, 3, 4, 2, 2, 4, 3, 5, 5, 4, 0, 5, 4, 2, 5, 1, 4, 1, 1, 2, 5, 3, 3, 4, 4, 0, 5, 4, 0, 0, 0, 4, 3, 5, 0, 1, 1, 1, 2, 0, 5, 5, 2, 1, 1, 0, 0, 1, 1, 0, 3, 2, 4, 0, 3, 1, 3, 1, 3, 1, 2, 5, 1, 3, 3, 1, 2, 3, 0, 0, 5, 5, 5, 0, 2, 3, 5, 4, 2, 4, 5, 0, 5, 0, 4, 0, 4, 4, 4, 3, 3, 4, 5, 5, 2, 3, 4, 0, 0, 3, 1, 2, 2, 4, 4, 0, 4, 2, 3, 1, 5, 2, 2, 3, 3, 0, 0, 4, 5, 0, 2, 5, 0, 2, 2, 2, 0, 2, 3, 0, 0, 4, 1, 0, 3, 0, 3, 3, 1, 4, 1, 5, 2, 1, 2, 1, 3, 4, 0, 0, 1, 3, 1, 4, 4, 0, 2, 1, 3, 1, 0, 3, 4, 1, 4, 0, 2, 4, 0, 1, 2, 1, 4, 0, 4, 4, 0, 0, 0, 3, 2, 3, 5, 2, 4, 4, 1, 0, 3, 0, 2, 4, 3, 3, 1, 3, 2, 4, 1, 1, 2, 2, 3, 4, 2, 5, 5, 5, 3, 0, 3, 3, 1, 1, 0, 0, 5, 5, 2, 5, 0, 5, 1, 2, 3, 2, 5, 1, 4, 1, 2, 1, 4, 3, 2, 4, 5, 1, 0, 1, 0, 3, 1, 2, 4, 0, 5, 2, 0, 4, 5, 3, 0, 1, 0, 0, 5, 1, 2, 2, 3, 1, 0, 0, 1, 0, 1, 5, 1, 1, 0, 0, 3, 0, 4, 2, 0, 0, 5, 3, 0, 2, 5, 3, 2, 4, 2, 3, 2, 1, 3, 0, 0, 4, 2, 1, 2, 4, 0, 3, 3, 2, 5, 1, 4, 4, 3, 1, 2, 0, 5, 4, 3, 0, 5, 0, 1, 2, 1, 3, 1, 0, 3, 5, 1, 2, 3, 3, 4, 2, 0, 3, 5, 4, 5, 2, 0, 4, 2, 3, 4, 1, 2, 1, 0, 5, 2, 1, 4, 0, 4, 5, 0, 0, 2, 0, 5, 0, 0, 2, 0, 3, 3, 3, 2, 0, 0, 5, 3, 0, 4, 5, 2, 0, 5, 2, 2, 5, 3, 3, 0, 5, 4, 2, 3, 5, 3, 0, 2, 4, 3, 3, 4, 4, 2, 0, 5, 5, 0, 3, 0, 4, 0, 4, 4, 5, 0, 2, 0, 4, 5, 3, 4, 0, 0, 0, 0, 2, 2, 5, 3, 3, 2, 4, 1, 1, 3, 4, 5, 2, 4, 0, 0, 5, 4, 1, 1, 3, 3, 0, 0, 0, 2, 0, 0, 4, 3, 0, 0, 2, 0, 5, 4, 4, 2, 0, 3, 0, 3, 0, 1, 5, 2, 0, 5, 1, 0, 3, 3, 4, 0, 1, 5, 0, 4, 0, 1, 1, 2, 5, 1, 0, 4, 2, 2, 2, 0, 0, 5, 2, 2, 0, 4, 3, 0, 2, 2, 2, 5, 5, 1, 5, 4, 3, 1, 1, 3, 5, 3, 0, 5, 2, 3, 3, 5, 1, 2, 1, 2, 0, 2, 2, 0, 1, 1, 4, 5, 4, 2, 3, 5, 3, 0, 3, 2, 0, 0, 4, 4, 0, 1, 5, 1, 1, 0, 4, 1, 5, 4, 3, 0, 0, 0, 2, 2, 2, 4, 1, 1, 0, 5, 1, 5, 1, 4, 2, 1, 5, 2, 1, 0, 2, 2, 5, 5, 1, 0, 3, 2, 0, 4, 4, 3, 0, 0, 2, 5, 1, 2, 2, 4, 1, 3, 2, 1, 2, 2, 1, 3, 0, 4, 0, 2, 4, 0, 2, 3, 2, 3, 1, 4, 3, 4, 4, 2, 3, 2, 4, 4, 0, 0, 1, 4, 2, 3, 4, 1, 3, 5, 5, 0, 4, 1, 4, 0, 3, 4, 0, 3, 1, 3, 0, 3, 1, 1, 4, 1, 2, 0, 2, 0, 4, 4, 3, 5, 2, 5, 2, 3, 0, 0, 0, 4, 0, 3, 5, 0, 3, 2, 1, 1, 4, 0, 4, 2, 2, 4, 5, 0, 5, 2, 0, 1, 0, 1, 1, 1, 4, 4, 2, 4, 0, 4, 0, 3, 1, 0, 2, 3, 1, 1, 1, 1, 0, 3, 2, 2, 1, 4, 1, 0, 3, 0, 2, 0, 1, 0, 1, 2, 0, 4, 1, 1, 4, 0, 5, 4, 1, 0, 0, 5, 5, 3, 1, 1, 3, 0, 5, 1, 2, 0, 3, 3, 3, 5, 3, 2, 1, 1, 4, 3, 2, 3, 0, 1, 2, 0, 1, 2, 2, 1, 3, 1, 2, 5, 2, 1, 3, 1, 0, 3, 1, 3, 4, 1, 1, 3, 1, 3, 4, 2, 1, 3, 4, 1, 1, 5, 0, 2, 3, 3, 0, 2, 4, 5, 0, 4, 4, 0, 1, 4, 5, 2, 1, 3, 5, 3, 2, 2, 4, 4, 3, 0, 3, 0, 2, 0, 5, 1, 2, 1, 0, 3, 4, 1, 0, 3, 5, 4, 4, 3, 5, 1, 4, 4, 3, 2, 0, 5, 1, 1, 3, 0, 3, 1, 2, 1, 4, 4, 3, 1, 4, 1, 0, 2, 3, 0, 5, 4, 4, 0, 1, 4, 2, 3, 0, 0, 0, 0, 0, 4, 0, 2, 5, 4, 1, 2, 5, 1, 2, 5, 5, 3, 2, 4, 0, 2, 4, 1, 1, 0, 2, 2, 0, 4, 0, 0, 2, 1, 2, 5, 5, 2, 0, 0, 0, 4, 2, 2, 0, 5, 1, 1, 3, 4, 2, 2, 3, 4, 2, 2, 2, 5, 5, 1, 5, 0, 3, 5, 1, 3, 5, 5, 3, 3, 5, 1, 2, 4, 3, 0, 1, 4, 2, 2, 1, 0, 5, 4, 4, 1, 0, 1, 0, 5, 0, 3, 4, 0, 2, 0, 4, 1, 4, 5, 0, 0, 1, 3, 4, 2, 2, 3, 2, 5, 1, 1, 1, 1, 2, 0, 0, 4, 0, 2, 0, 3, 0, 4, 4, 1, 1, 4, 4, 3, 1, 4, 5, 1, 1, 4, 1, 4, 5, 0, 0, 0, 5, 4, 2, 1, 5, 0, 4, 0, 1, 3, 0, 2, 0, 1, 0, 1, 5, 0, 3, 1, 4, 5, 1, 2, 4, 3, 4, 0, 0, 1, 4, 3, 0, 3, 0, 3, 5, 0, 5, 5, 0, 1, 1, 1, 4, 0, 1, 2, 0, 5, 1, 2, 0, 1, 4, 0, 4, 3, 2, 3, 2, 2, 4, 4, 3, 3, 5, 5, 1, 4, 1, 3, 3, 4, 3, 4, 5, 0, 0, 5, 4, 0, 2, 3, 5, 2, 4, 2, 1, 4, 0, 5, 4, 3, 0, 2, 0, 5, 2, 2, 3, 5, 1, 5, 5, 0, 1, 0, 4, 5, 1, 3, 0, 3, 5, 5, 1, 5, 3, 5, 0, 2, 2, 2, 1, 1, 3, 2, 1, 4, 1, 5, 5, 1, 2, 1, 5, 0, 3, 2, 3, 2, 3, 3, 1, 4, 2, 5, 5, 1, 0, 2, 0, 2, 0, 4, 1, 1, 4, 5, 4, 2, 2, 5, 0, 4, 1, 4, 1, 1, 0, 4, 0, 0, 1, 0, 0, 1, 4, 2, 0, 3, 3, 4, 3, 5, 3, 5, 1, 3, 1, 1, 5, 0, 0, 2, 0, 1, 2, 1, 4, 4, 0, 0, 4, 3, 4, 5, 5, 4, 4, 1, 2, 1, 2, 1, 4, 0, 2, 5, 1, 2, 2, 0, 3, 4, 0, 1, 3, 4, 1, 1, 2, 3, 1, 1, 0, 1, 4, 3, 0, 2, 2, 3, 5, 5, 2, 3, 5, 5, 1, 5, 4, 3, 5, 0, 1, 2, 2, 3, 1, 1, 2, 0, 4, 3, 0, 5, 1, 4, 4, 0, 2, 2, 0, 2, 2, 0, 5, 1, 4, 0, 0, 2, 5, 3, 3, 4, 0, 5, 0, 1, 1, 3, 0, 0, 0, 4, 4, 0, 5, 4, 2, 4, 2, 4, 3, 1, 0, 1, 0, 4, 0, 3, 0, 3, 0, 0, 1, 2, 1, 2, 0, 5, 2, 3, 2, 4, 4, 5, 0, 1, 5, 1, 3, 3, 5, 3, 0, 5, 4, 0, 0, 1, 3, 0, 0, 4, 4, 2, 4, 1, 4, 0, 2, 3, 3, 0, 0, 1, 5, 1, 2, 1, 2, 2, 5, 1, 2, 0, 1, 0, 4, 3, 1, 1, 0, 4, 1, 3, 4, 0, 3, 3, 2, 3, 1, 3, 0, 1, 1, 1, 4, 2, 2, 1, 1, 3, 2, 5, 3, 4, 0, 1, 3, 5, 3, 0, 2, 0, 4, 0, 1, 5, 1, 5, 2, 5, 0, 5, 0, 0, 0, 1, 2, 3, 1, 3, 4, 3, 4, 1, 0, 3, 4, 1, 3, 5, 3, 1, 1, 2, 4, 0, 0, 0, 2, 2, 2, 4, 3, 2, 4, 3, 3, 1, 1, 3, 4, 0, 3, 3, 3, 5, 4, 0, 1, 0, 4, 5, 4, 0, 2, 3, 1, 3, 0, 4, 1, 1, 2, 2, 2, 1, 4, 0, 2, 4, 5, 0, 2, 4, 0, 5, 3, 2, 1, 1, 4, 4, 1, 1, 0, 0, 2, 0, 0, 1, 2, 0, 3, 5, 4, 2, 5, 5, 3, 0, 5, 0, 4, 0, 2, 5, 1, 5, 5, 0, 4, 4, 5, 2, 3, 4, 0, 2, 1, 0, 2, 5, 2, 5, 4, 3, 2, 0, 4, 3, 3, 5, 0, 1, 4, 3, 2, 3, 5, 4, 3, 2, 5, 1, 2, 0, 0, 5, 3, 5, 1, 3, 0, 2, 1, 4, 3, 0, 3, 3, 4, 1, 4, 4, 0, 0, 0, 1, 3, 4, 3, 0, 1, 4, 5, 2, 1, 4, 5, 4, 1, 4, 1, 0, 3, 4, 5, 4, 1, 1, 3, 1, 0, 3, 3, 4, 1, 0, 2, 3, 4, 1, 5, 1, 2, 3, 3, 5, 4, 0, 0, 3, 2, 4, 4, 5, 3, 3, 3, 2, 4, 2, 2, 4, 2, 1, 5, 1, 2, 2, 0, 0, 2, 0, 3, 3, 2, 4, 3, 4, 5, 2, 0, 4, 0, 4, 5, 1, 1, 1, 0, 5, 5, 2, 2, 2, 0, 4, 4, 3, 4, 1, 5, 3, 3, 5, 1, 5, 0, 3, 2, 2, 0, 3, 1, 2, 1, 0, 3, 5, 0, 0, 0, 0, 5, 5, 2, 2, 5, 4, 3, 1, 4, 1, 3, 5, 5, 1, 2, 0, 5, 5, 5, 1, 0, 4, 0, 0, 4, 4, 5, 4, 5, 3, 1, 1, 2, 3, 5, 4, 2, 4, 5, 3, 0, 5, 1, 0, 0, 1, 0, 1, 4, 4, 1, 2, 4, 4, 4, 2, 0, 0, 5, 0, 1, 3, 0, 1, 3, 5, 5, 3, 4, 4, 3, 0, 1, 4, 1, 0, 2, 5, 2, 3, 1, 0, 1, 2, 5, 5, 3, 3, 3, 1, 4, 3, 2, 1, 3, 4, 3, 0, 2, 2, 4, 3, 2, 5, 1, 4, 0, 5, 0, 2, 0, 1, 2, 1, 0, 0, 1, 1, 0, 5, 2, 4, 0, 1, 4, 4, 2, 3, 1, 5, 5, 0, 1, 1, 0, 0, 5, 2, 5, 4, 0, 2, 2, 1, 5, 0, 1, 4, 0, 0, 4, 2, 0, 2, 5, 3, 2, 5, 0, 1, 1, 3, 5, 2, 0, 3, 5, 1, 4, 0, 3, 3, 1, 5, 0, 1, 3, 0, 2, 0, 2, 3, 2, 1, 3, 0, 0, 2, 4, 2, 2, 1, 0, 1, 5, 2, 2, 0, 4, 1, 0, 0, 0, 1, 0, 0, 4, 0, 5, 3, 0, 2, 1, 4, 5, 5, 5, 0, 4, 1, 1, 0, 1, 5, 3, 0, 2, 0, 1, 3, 4, 1, 3, 4, 3, 4, 0, 2, 5, 4, 0, 2, 3, 5, 3, 1, 1, 0, 0, 3, 1, 2, 0, 2, 2, 0, 3, 5, 4, 4, 0, 0, 5, 2, 3, 2, 0, 2, 0, 2, 0, 0, 4, 1, 2, 2, 5, 4, 0, 2, 4, 0, 2, 0, 1, 0, 3, 1, 3, 2, 5, 0, 3, 0, 1, 1, 1, 1, 5, 1, 5, 0, 2, 0, 1, 5, 5, 3, 5, 3, 0, 0, 1, 4, 1, 0, 0, 2, 0, 2, 3, 2, 1, 5, 5, 1, 0, 0, 3, 0, 4, 1, 4, 1, 0, 3, 2, 0, 0, 0, 4, 4, 5, 1, 0, 2, 4, 0, 2, 3, 3, 0, 4, 2, 2, 0, 0, 0, 3, 2, 4, 0, 4, 5, 5, 4, 1, 2, 1, 1, 2, 2, 4, 0, 4, 2, 1, 1, 0, 1, 1, 4, 0, 3, 4, 2, 4, 2, 1, 3, 1, 4, 0, 3, 5, 3, 3, 1, 5, 2, 4, 2, 3, 0, 1, 2, 5, 5, 1, 4, 4, 0, 5, 5, 1, 0, 0, 1, 3, 3, 4, 0, 5, 2, 3, 3, 3, 1, 0, 2, 5, 1, 0, 0, 3, 5, 5, 0, 1, 4, 1, 5, 4, 5, 1, 4, 4, 4, 0, 1, 4, 4, 5, 2, 3, 0, 4, 4, 0, 1, 4, 3, 3, 5, 3, 5, 3, 3, 1, 3, 0, 2, 4, 4, 3, 0, 1, 4, 1, 0, 1, 0, 1, 4, 0, 1, 0, 1, 3, 4, 2, 2, 3, 4, 1, 2, 4, 2, 5, 3, 2, 5, 0, 3, 4, 4, 5, 4, 0, 1, 1, 1, 5, 1, 5, 2, 5, 0, 5, 2, 1, 3, 3, 0, 2, 1, 0, 5, 1, 0, 0, 1, 0, 2, 2, 2, 5, 2, 3, 5, 4, 0, 4, 0, 3, 2, 1, 0, 4, 0, 5, 3, 5, 1, 0, 5, 1, 2, 3, 4, 2, 2, 2, 2, 2, 0, 3, 5, 1, 1, 1, 1, 0, 1, 2, 0, 0, 5, 3, 3, 0, 2, 5, 3, 1, 4, 3, 1, 2, 0, 5, 2, 3, 5, 1, 4, 0, 4, 4, 3, 1, 2, 2, 2, 2, 3, 4, 4, 4, 4, 2, 0, 1, 0, 2, 1, 5, 4, 3, 2, 4, 0, 3, 1, 1, 1, 1, 3, 3, 2, 2, 3, 0, 2, 0, 3, 2, 1, 4, 5, 4, 4, 0, 0, 4, 0, 1, 2, 4, 0, 0, 2, 4, 5, 2, 4, 0, 0, 2, 0, 2, 0, 0, 3, 2, 3, 0, 1, 1, 1, 0, 4, 1, 5, 1, 3, 5, 3, 0, 0, 2, 0, 2, 0, 3, 2, 2, 4, 0, 4, 4, 5, 2, 0, 5, 2, 5, 4, 3, 0, 5, 1, 1, 3, 3, 2, 0, 1, 1, 5, 1, 3, 2, 5, 3, 5, 4, 3, 0, 3, 1, 0, 4, 2, 3, 4, 5, 2, 0, 1, 0, 2, 1, 1, 0, 4, 0, 5, 3, 5, 4, 5, 3, 0, 1, 0, 1, 5, 1, 3, 4, 5, 5, 5, 1, 3, 3, 1, 1, 3, 3, 5, 5, 1, 1, 2, 1, 2, 3, 5, 2, 5, 0, 1, 2, 0, 0, 1, 3, 2, 0, 3, 2, 3, 2, 3, 2, 4, 4, 2, 5, 3, 1, 0, 4, 3, 4, 0, 3, 0, 2, 5, 4, 2, 2, 3, 0, 5, 5, 3, 0, 1, 0, 5, 3, 2, 0, 4, 3, 0, 0, 1, 4, 5, 0, 2, 0, 5, 4, 5, 4, 5, 0, 0, 1, 3, 0, 0, 1, 3, 5, 4, 1, 4, 3, 1, 5, 3, 5, 1, 4, 4, 3, 0, 4, 0, 2, 5, 1, 3, 0, 3, 2, 3, 1, 1, 2, 0, 3, 3, 1, 1, 0, 5, 2, 0, 1, 3, 4, 0, 5, 4, 1, 3, 5, 0, 1, 2, 0, 1, 3, 5, 0, 4, 4, 0, 2, 4, 4, 4, 0, 3, 5, 0, 1, 2, 1, 1, 2, 1, 0, 0, 5, 5, 4, 3, 3, 2, 0, 2, 0, 1, 3, 1, 5, 0, 2, 3, 1, 2, 5, 4, 0, 1, 1, 1, 1, 2, 4, 3, 5, 5, 2, 4, 0, 0, 4, 1, 2, 2, 0, 3, 0, 2, 1, 0, 2, 1, 0, 1, 2, 5, 4, 4, 2, 4, 5, 3, 2, 2, 0, 2, 2, 4, 2, 2, 2, 1, 3, 3, 5, 2, 3, 0, 5, 2, 3, 2, 4, 0, 5, 1, 1, 2, 1, 4, 4, 2, 0, 4, 4, 1, 1, 3, 2, 0, 2, 5, 0, 3, 2, 2, 4, 5, 4, 0, 4, 1, 1, 2, 2, 4, 2, 4, 3, 5, 0, 0, 5, 0, 0, 5, 2, 3, 5, 3, 5, 2, 5, 2, 3, 2, 4, 1, 5, 2, 3, 0, 0, 5, 0, 1, 1, 3, 0, 0, 0, 0, 4, 4, 1, 1, 2, 3, 3, 1, 1, 1, 2, 3, 2, 5, 0, 3, 0, 1, 4, 0, 0, 2, 2, 5, 4, 3, 2, 2, 3, 1, 0, 3, 3, 0, 1, 2, 0, 0, 0, 1, 5, 1, 0, 2, 4, 1, 0, 0, 2, 2, 5, 3, 5, 0, 5, 1, 0, 0, 1, 5, 0, 5, 1, 1, 1, 2, 0, 2, 5, 0, 4, 1, 5, 5, 5, 0, 1, 2, 0, 0, 0, 0, 2, 4, 0, 5, 3, 2, 0, 5, 0, 2, 0, 2, 2, 3, 0, 5, 1, 2, 5, 3, 0, 3, 3, 0, 2, 3, 3, 4, 1, 4, 2, 2, 3, 1, 5, 5, 0, 0, 1, 5, 2, 2, 3, 3, 2, 3, 5, 2, 2, 3, 4, 1, 1, 0, 1, 0, 2, 4, 4, 2, 5, 0, 3, 5, 0, 3, 0, 3, 3, 3, 1, 1, 1, 2, 2, 1, 0, 4, 2, 2, 1, 3, 2, 3, 4, 2, 0, 1, 1, 5, 0, 4, 0, 0, 4, 0, 0, 2, 3, 2, 0, 3, 4, 4, 3, 1, 0, 3, 3, 5, 0, 4, 1, 5, 2, 2, 2, 1, 1, 4, 1, 2, 0, 1, 3, 0, 3, 1, 0, 5, 2, 3, 0, 1, 4, 4, 0, 1, 3, 2, 2, 4, 5, 0, 3, 2, 2, 4, 0, 3, 0, 3, 0, 0, 2, 1, 2, 2, 0, 0, 0, 3, 3, 2, 3, 3, 3, 4, 0, 2, 3, 0, 4, 5, 2, 2, 4, 3, 1, 4, 2, 1, 1, 5, 2, 0, 3, 3, 5, 3, 3, 0, 5, 3, 1, 1, 0, 4, 1, 1, 5, 0, 2, 0, 2, 1, 4, 3, 3, 5, 1, 5, 5, 2, 1, 2, 3, 3, 1, 3, 1, 0, 0, 0, 0, 0, 3, 5, 0, 1, 4, 5, 3, 5, 4, 4, 1, 0, 4, 5, 1, 0, 0, 4, 5, 5, 0, 0, 1, 2, 0, 1, 0, 3, 3, 3, 5, 2, 1, 0, 2, 5, 2, 0, 2, 2, 0, 3, 1, 2, 0, 2, 4, 5, 4, 1, 0, 0, 1, 1, 4, 4, 5, 2, 5, 3, 3, 0, 3, 5, 4, 1, 4, 1, 2, 2, 4, 3, 4, 1, 1, 0, 2, 1, 0, 1, 1, 5, 5, 3, 5, 0, 1, 0, 0, 2, 0, 5, 4, 3, 0, 5, 2, 3, 3, 5, 0, 2, 5, 4, 4, 3, 0, 4, 1, 1, 5, 1, 2, 0, 5, 3, 1, 1, 0, 3, 4, 0, 4, 0, 1, 0, 3, 4, 5, 0, 3, 4, 4, 1, 2, 0, 0, 3, 0, 5, 2, 2, 0, 5, 3, 3, 1, 0, 1, 3, 5, 1, 1, 3, 2, 2, 4, 1, 3, 1, 3, 4, 0, 0, 3, 4, 3, 0, 0, 2, 1, 2, 0, 0, 3, 2, 2, 3, 0, 3, 2, 2, 1, 0, 4, 2, 2, 1, 3, 3, 2, 4, 4, 3, 0, 4, 3, 0, 3, 5, 4, 4, 2, 2, 5, 0, 3, 4, 5, 5, 5, 0, 2, 3, 5, 2, 5, 5, 1, 4, 0, 4, 4, 3, 1, 1, 5, 3, 2, 5, 4, 1, 3, 2, 1, 2, 0, 1, 1, 2, 1, 1, 2, 5, 4, 2, 0, 5, 0, 4, 4, 1, 0, 1, 3, 0, 3, 0, 3, 0, 1, 1, 2, 2, 1, 4, 1, 5, 2, 2, 4, 1, 5, 2, 4, 4, 2, 1, 1, 5, 3, 0, 4, 2, 1, 5, 0, 3, 3, 2, 4, 2, 1, 0, 2, 1, 2, 4, 0, 2, 3, 3, 4, 5, 4, 3, 2, 3, 3, 0, 3, 5, 5, 5, 3, 2, 3, 0, 1, 2, 5, 2, 0, 3, 5, 1, 5, 2, 3, 5, 0, 0, 5, 3, 4, 5, 0, 4, 3, 4, 0, 4, 1, 0, 0, 0, 4, 0, 5, 0, 1, 4, 5, 5, 3, 0, 4, 1, 0, 1, 1, 3, 5, 2, 3, 5, 5, 4, 4, 4, 0, 3, 2, 2, 4, 2, 3, 2, 1, 2, 3, 2, 2, 2, 4, 1, 4, 1, 0, 5, 3, 1, 5, 4, 2, 2, 2, 4, 2, 1, 1, 1, 5, 5, 2, 3, 0, 3, 0, 0, 1, 1, 0, 5, 1, 1, 2, 0, 5, 2, 0, 0, 3, 5, 2, 4, 1, 2, 2, 3, 4, 0, 1, 5, 1, 0, 1, 4, 5, 1, 0, 4, 1, 2, 0, 1, 0, 0, 3, 0, 5, 1, 3, 3, 0, 5, 1, 1, 0, 0, 3, 5, 5, 3, 4, 5, 4, 4, 3, 4, 4, 0, 4, 2, 1, 0, 1, 3, 0, 5, 4, 2, 4, 1, 2, 0, 0, 3, 3, 5, 5, 3, 0, 5, 0, 2, 1, 3, 1, 0, 5, 5, 3, 5, 0, 1, 0, 2, 0, 1, 1, 1, 3, 0, 0, 1, 0, 5, 0, 0, 1, 4, 2, 4, 0, 2, 2, 0, 1, 0, 4, 1, 1, 2, 5, 3, 1, 1, 2, 2, 4, 2, 1, 0, 2, 3, 5, 2, 0, 0, 3, 3, 5, 4, 4, 2, 4, 1, 4, 0, 4, 4, 1, 0, 1, 2, 4, 1, 4, 2, 0, 0, 0, 5, 4, 2, 5, 0, 4, 4, 2, 1, 0, 4, 1, 4, 0, 5, 3, 5, 5, 2, 2, 3, 5, 1, 5, 2, 5, 2, 2, 4, 0, 5, 5, 0, 5, 2, 0, 3, 2, 4, 0, 3, 1, 5, 2, 4, 0, 0, 1, 2, 1, 1, 1, 2, 0, 4, 5, 1, 1, 3, 4, 1, 4, 4, 5, 5, 2, 0, 0, 0, 4, 0, 0, 5, 0, 3, 1, 1, 1, 5, 0, 5, 0, 5, 4, 2, 3, 4, 1, 1, 2, 4, 3, 1, 3, 5, 5, 0, 2, 1, 0, 0, 2, 0, 0, 3, 2, 0, 5, 1, 2, 4, 2, 5, 3, 3, 5, 5, 1, 1, 4, 3, 2, 5, 5, 5, 0, 2, 0, 1, 1, 3, 3, 0, 0, 0, 2, 5, 3, 0, 1, 2, 1, 5, 2, 5, 5, 4, 0, 2, 2, 3, 0, 2, 0, 3, 3, 1, 2, 4, 1, 0, 3, 4, 5, 1, 2, 4, 0, 1, 5, 1, 5, 5, 3, 0, 1, 3, 0, 1, 1, 2, 0, 4, 1, 1, 3, 4, 4, 0, 1, 3, 3, 5, 3, 5, 4, 1, 1, 3, 1, 3, 2, 1, 0, 3, 1, 1, 4, 4, 3, 5, 1, 1, 2, 3, 5, 2, 0, 0, 4, 5, 0, 1, 2, 0, 4, 3, 2, 1, 4, 2, 0, 4, 5, 4, 5, 3, 2, 3, 4, 4, 4, 4, 1, 0, 5, 3, 2, 5, 2, 0, 1, 0, 0, 0, 1, 3, 5, 3, 3, 3, 0, 5, 5, 0, 1, 3, 5, 0, 4, 0, 1, 1, 0, 1, 0, 2, 5, 1, 3, 1, 5, 1, 4, 1, 3, 0, 5, 3, 1, 0, 0, 3, 5, 2, 1, 1, 0, 4, 4, 2, 1, 4, 2, 0, 2, 3, 0, 0, 4, 2, 1, 0, 3, 4, 2, 3, 4, 4, 1, 0, 1, 0, 0, 0, 1, 2, 0, 2, 0, 4, 1, 0, 1, 4, 2, 3, 5, 1, 1, 0, 3, 5, 1, 3, 3, 0, 0, 4, 5, 2, 5, 4, 1, 2, 5, 3, 5, 1, 0, 3, 5, 4, 1, 5, 1, 4, 3, 3, 3, 3, 5, 4, 3, 5, 0, 0, 1, 2, 3, 0, 0, 0, 5, 0, 5, 3, 4, 3, 1, 0, 3, 4, 3, 5, 2, 4, 2, 0, 2, 3, 3, 3, 2, 3, 2, 1, 2, 3, 2, 4, 2, 0, 0, 0, 4, 0, 0, 0, 2, 5, 5, 2, 4, 1, 2, 1, 1, 2, 2, 2, 3, 0, 5, 3, 5, 1, 4, 1, 4, 4, 1, 2, 1, 2, 5, 0, 1, 5, 2, 3, 2, 5, 4, 2, 5, 1, 4, 1, 3, 4, 0, 4, 3, 0, 1, 2, 4, 0, 3, 1, 3, 3, 2, 2, 4, 5, 1, 0, 5, 1, 4, 5, 0, 1, 1, 4, 3, 3, 5, 0, 0, 3, 5, 1, 5, 1, 2, 3, 1, 1, 2, 1, 4, 1, 2, 3, 5, 1, 4, 1, 5, 1, 2, 4, 4, 2, 0, 2, 0, 4, 4, 4, 4, 3, 4, 0, 0, 0, 3, 4, 2, 3, 1, 2, 1, 1, 0, 0, 0, 1, 3, 0, 0, 3, 2, 1, 2, 5, 5, 4, 3, 3, 1, 3, 1, 1, 0, 4, 0, 3, 3, 2, 4, 2, 4, 5, 0, 2, 3, 1, 3, 0, 0, 2, 4, 0, 1, 1, 0, 0, 1, 0, 2, 0, 0, 2, 0, 0, 0, 4, 4, 1, 4, 4, 3, 2, 3, 5, 0, 2, 4, 3, 3, 0, 0, 0, 4, 3, 0, 3, 3, 3, 2, 0, 4, 1, 1, 4, 2, 1, 2, 5, 2, 4, 2, 1, 3, 2, 3, 5, 4, 5, 0, 3, 1, 4, 3, 5, 0, 0, 3, 1, 0, 3, 3, 1, 2, 2, 4, 1, 0, 1, 5, 2, 0, 1, 2, 1, 0, 3, 5, 3, 1, 4, 2, 1, 0, 3, 4, 3, 4, 4, 2, 1, 4, 0, 5, 4, 0, 3, 4, 4, 2, 0, 5, 2, 2, 0, 4, 4, 5, 4, 2, 0, 4, 1, 5, 0, 4, 3, 1, 2, 2, 2, 0, 2, 1, 1, 1, 4, 3, 4, 0, 3, 0, 0, 3, 4, 2, 0, 4, 2, 2, 4, 1, 2, 4, 1, 2, 0, 4, 1, 4, 0, 2, 3, 1, 3, 0, 1, 3, 0, 2, 1, 4, 4, 4, 2, 3, 4, 0, 1, 1, 0, 3, 0, 2, 1, 0, 4, 4, 4, 1, 0, 0, 3, 4, 0, 5, 0, 0, 5, 4, 0, 2, 0, 5, 2, 1, 1, 0, 5, 1, 3, 5, 4, 1, 3, 5, 4, 0, 2, 0, 0, 2, 2, 4, 4, 2, 1, 2, 3, 3, 3, 4, 2, 2, 3, 0, 4, 1, 4, 0, 5, 3, 5, 1, 5, 0, 0, 2, 3, 2, 0, 3, 0, 2, 4, 4, 3, 1, 3, 0, 3, 0, 5, 4, 5, 4, 0, 5, 0, 0, 5, 5, 2, 3, 1, 0, 2, 1, 1, 5, 5, 5, 1, 0, 3, 0, 1, 2, 3, 1, 4, 3, 4, 3, 0, 3, 2, 2, 1, 3, 3, 0, 2, 2, 4, 4, 4, 4, 2, 3, 2, 0, 3, 0, 5, 0, 1, 2, 0, 5, 5, 3, 2, 2, 4, 1, 4, 1, 3, 0, 0, 2, 5, 2, 0, 1, 1, 5, 3, 0, 5, 0, 2, 1, 1, 2, 0, 5, 2, 2, 0, 0, 5, 4, 4, 0, 0, 5, 0, 2, 1, 0, 0, 5, 0, 4, 4, 0, 3, 2, 0, 1, 1, 0, 5, 3, 2, 0, 0, 1, 2, 0, 1, 3, 5, 3, 0, 4, 2, 5, 3, 0, 1, 3, 2, 2, 4, 1, 5, 0, 1, 2, 0, 5, 0, 1, 4, 2, 4, 0, 4, 5, 1, 0, 1, 4, 0, 5, 4, 5, 3, 2, 3, 3, 3, 2, 4, 2, 0, 5, 1, 0, 2, 3, 2, 5, 2, 2, 4, 5, 5, 1, 0, 4, 0, 5, 1, 0, 4, 1, 4, 4, 1, 2, 0, 5, 3, 2, 5, 5, 2, 3, 1, 1, 2, 0, 3, 1, 0, 5, 5, 4, 4, 3, 0, 0, 0, 2, 4, 2, 2, 4, 5, 2, 3, 2, 2, 4, 4, 5, 5, 5, 3, 1, 2, 5, 4, 2, 3, 2, 2, 3, 1, 1, 1, 4, 1, 1, 4, 1, 2, 2, 4, 5, 0, 5, 2, 3, 0, 3, 4, 5, 1, 2, 2, 2, 1, 0, 4, 0, 5, 4, 2, 2, 0, 3, 0, 1, 3, 1, 1, 1, 5, 5, 2, 2, 0, 5, 3, 4, 2, 2, 3, 0, 4, 0, 5, 4, 0, 3, 1, 0, 4, 3, 1, 5, 5, 0, 0, 2, 4, 0, 1, 0, 3, 4, 0, 3, 4, 5, 3, 2, 4, 1, 0, 1, 3, 3, 4, 5, 0, 2, 3, 1, 2, 0, 3, 4, 2, 2, 5, 0, 5, 1, 1, 0, 0, 2, 4, 4, 3, 0, 1, 3, 4, 4, 4, 0, 3, 4, 3, 2, 4, 4, 0, 1, 3, 0, 2, 3, 2, 3, 0, 1, 0, 4, 2, 0, 0, 4, 0, 2, 3, 3, 1, 5, 5, 4, 5, 3, 1, 2, 3, 5, 2, 4, 5, 3, 1, 2, 1, 0, 0, 2, 1, 0, 4, 1, 2, 1, 0, 2, 2, 4, 5, 4, 2, 5, 4, 3, 0, 5, 2, 1, 4, 1, 4, 1, 1, 3, 5, 0, 4, 1, 5, 1, 1, 3, 3, 3, 1, 1, 0, 0, 2, 0, 2, 2, 3, 0, 2, 1, 1, 0, 2, 5, 1, 3, 2, 1, 3, 0, 0, 1, 2, 1, 1, 1, 0, 0, 1, 4, 0, 2, 2, 5, 1, 4, 0, 1, 1, 4, 2, 0, 5, 1, 5, 0, 5, 3, 0, 4, 2, 3, 3, 0, 4, 1, 5, 0, 3, 4, 1, 2, 1, 4, 5, 0, 3, 0, 4, 2, 0, 2, 2, 2, 2, 3, 3, 5, 0, 2, 4, 2, 0, 0, 0, 4, 5, 3, 0, 0, 2, 3, 4, 5, 2, 5, 5, 1, 3, 1, 1, 2, 3, 1, 1, 0, 0, 4, 1, 1, 1, 0, 1, 5, 5, 5, 1, 4, 1, 2, 3, 1, 2, 4, 1, 2, 1, 3, 3, 0, 4, 4, 0, 5, 0, 2, 5, 2, 1, 3, 2, 5, 4, 4, 1, 3, 1, 0, 5, 0, 1, 3, 4, 0, 5, 0, 1, 2, 4, 1, 3, 0, 0, 2, 3, 5, 2, 3, 1, 3, 2, 0, 2, 3, 0, 2, 2, 0, 3, 4, 1, 5, 1, 2, 1, 4, 3, 1, 5, 0, 0, 0, 4, 2, 0, 1, 4, 1, 4, 0, 4, 3, 3, 4, 2, 1, 4, 4, 3, 1, 4, 0, 4, 4, 2, 1, 1, 1, 2, 4, 2, 2, 5, 0, 0, 1, 3, 5, 5, 1, 4, 1, 1, 4, 1, 0, 0, 1, 3, 3, 0, 0, 2, 4, 5, 2, 1, 1, 4, 4, 0, 4, 5, 4, 5, 1, 1, 5, 3, 0, 0, 4, 1, 3, 3, 4, 4, 5, 3, 3, 3, 3, 0, 4, 4, 4, 4, 3, 3, 2, 1, 2, 1, 4, 5, 4, 1, 2, 0, 5, 3, 1, 1, 1, 2, 3, 2, 0, 1, 4, 0, 4, 1, 1, 1, 0, 5, 3, 0, 0, 2, 2, 0, 0, 2, 1, 3, 4, 2, 1, 1, 0, 4, 2, 4, 1, 0, 0, 5, 3, 3, 2, 2, 2, 2, 4, 2, 5, 3, 3, 5, 0, 2, 3, 4, 2, 0, 5, 3, 4, 0, 5, 3, 4, 0, 2, 5, 5, 3, 5, 2, 1, 0, 5, 1, 3, 0, 2, 1, 2, 5, 0, 3, 1, 2, 4, 4, 2, 4, 1, 0, 1, 3, 0, 4, 5, 0, 0, 1, 1, 1, 2, 2, 2, 1, 3, 4, 0, 4, 1, 3, 4, 3, 0, 0, 2, 2, 3, 5, 4, 5, 4, 0, 4, 2, 2, 0, 0, 1, 4, 3, 5, 3, 0, 1, 0, 1, 3, 3, 5, 3, 4, 4, 2, 3, 5, 1, 0, 1, 5, 2, 1, 0, 2, 1, 5, 2, 2, 0, 1, 2, 1, 0, 5, 1, 1, 1, 2, 3, 3, 2, 5, 0, 2, 4, 0, 1, 2, 2, 4, 5, 0, 5, 3, 1, 2, 3, 1, 3, 4, 3, 0, 0, 5, 3, 4, 4, 3, 5, 1, 5, 4, 4, 2, 2, 0, 5, 3, 1, 5, 2, 4, 2, 1, 3, 4, 5, 4, 1, 0, 1, 0, 2, 1, 3, 3, 4, 0, 0, 3, 0, 3, 0, 1, 2, 5, 0, 2, 5, 3, 1, 5, 5, 3, 0, 4, 3, 0, 2, 2, 4, 1, 0, 3, 0, 1, 0, 4, 3, 4, 4, 4, 1, 2, 0, 1, 0, 1, 3, 1, 4, 5, 5, 1, 4, 3, 0, 1, 4, 4, 1, 3, 1, 3, 5, 4, 4, 4, 5, 4, 3, 1, 4, 4, 1, 2, 2, 4, 5, 0, 1, 4, 3, 2, 3, 3, 4, 1, 0, 3, 3, 4, 1, 5, 5, 5, 5, 2, 0, 5, 2, 3, 0, 0, 1, 5, 3, 5, 0, 3, 5, 0, 2, 5, 1, 0, 2, 5, 0, 5, 1, 3, 2, 4, 1, 5, 4, 2, 3, 2, 3, 2, 4, 3, 2, 3, 2, 0, 0, 2, 2, 0, 3, 0, 2, 2, 4, 0, 1, 0, 2, 3, 3, 5, 5, 4, 3, 5, 2, 2, 2, 5, 5, 0, 1, 1, 1, 0, 2, 5, 1, 5, 4, 5, 4, 4, 4, 3, 1, 3, 4, 0, 2, 0, 1, 3, 0, 5, 0, 1, 5, 2, 3, 1, 2, 0, 5, 1, 2, 0, 2, 2, 1, 4, 5, 1, 1, 4, 4, 1, 0, 1, 4, 0, 4, 4, 3, 1, 0, 3, 0, 5, 1, 2, 0, 1, 3, 0, 0, 5, 5, 0, 0, 4, 2, 3, 4, 0, 0, 4, 2, 4, 5, 2, 2, 4, 3, 3, 1, 4, 1, 1, 3, 1, 0, 1, 3, 5, 1, 1, 4, 1, 5, 1, 0, 1, 4, 4, 4, 1, 3, 5, 1, 4, 3, 1, 1, 5, 4, 0, 2, 0, 4, 0, 2, 5, 2, 2, 3, 3, 4, 1, 4, 0, 2, 4, 3, 1, 2, 4, 0, 5, 3, 0, 5, 4, 0, 5, 1, 3, 4, 0, 2, 4, 2, 4, 4, 5, 3, 4, 0, 4, 1, 2, 5, 1, 3, 1, 2, 5, 3, 0, 1, 0, 5, 2, 3, 3, 1, 5, 2, 2, 3, 2, 3, 0, 2, 0, 3, 2, 1, 2, 1, 5, 2, 5, 2, 3, 4, 4, 4, 2, 1, 0, 2, 1, 1, 1, 0, 5, 5, 0, 2, 5, 2, 1, 2, 3, 0, 4, 3, 2, 5, 2, 2, 3, 4, 1, 2, 3, 3, 3, 3, 1, 0, 5, 1, 3, 0, 2, 5, 2, 1, 0, 0, 4, 3, 2, 0, 5, 4, 3, 3, 3, 3, 1, 2, 4, 0, 3, 5, 0, 1, 4, 4, 4, 5, 0, 5, 5, 0, 3, 5, 2, 5, 0, 4, 0, 2, 3, 0, 5, 2, 5, 1, 0, 5, 3, 5, 4, 3, 5, 4, 1, 5, 3, 1, 4, 3, 0, 3, 5, 4, 3, 2, 4, 2, 3, 1, 1, 5, 1, 5, 1, 1, 1, 5, 1, 2, 0, 4, 4, 0, 3, 4, 4, 2, 4, 5, 2, 0, 5, 0, 5, 3, 5, 2, 0, 0, 2, 4, 2, 2, 2, 5, 2, 0, 4, 0, 1, 4, 0, 0, 0, 4, 5, 4, 4, 4, 2, 0, 0, 5, 4, 4, 2, 1, 3, 3, 4, 1, 0, 4, 0, 4, 2, 2, 5, 5, 3, 3, 4, 3, 1, 3, 1, 0, 5, 0, 3, 2, 4, 5, 1, 4, 0, 0, 3, 1, 1, 3, 1, 3, 1, 0, 5, 3, 0, 5, 2, 5, 2, 3, 4, 1, 0, 0, 2, 0, 1, 2, 5, 1, 0, 0, 2, 4, 2, 1, 3, 3, 0, 3, 1, 3, 4, 4, 5, 1, 1, 2, 5, 3, 2, 3, 3, 3, 1, 3, 2, 5, 4, 5, 2, 5, 0, 1, 3, 5, 5, 4, 0, 2, 0, 4, 1, 4, 2, 5, 2, 4, 5, 0, 5, 2, 0, 2, 5, 0, 3, 0, 2, 3, 2, 3, 5, 1, 3, 0, 3, 4, 0, 1, 2, 0, 1, 4, 3, 2, 5, 3, 2, 0, 1, 2, 2, 1, 5, 2, 1, 3, 5, 0, 1, 0, 2, 0, 0, 4, 4, 3, 0, 4, 2, 0, 0, 4, 5, 2, 2, 1, 4, 0, 3, 5, 4, 3, 4, 0, 1, 4, 4, 4, 2, 5, 4, 5, 4, 0, 0, 1, 4, 4, 5, 1, 5, 3, 0, 2, 5, 5, 4, 1, 5, 1, 5, 2, 5, 1, 1, 4, 2, 1, 5, 3, 4, 0, 5, 4, 0, 5, 3, 2, 0, 1, 4, 5, 0, 1, 3, 4, 4, 2, 4, 1, 2, 5, 3, 1, 5, 2, 4, 4, 5, 4, 2, 4, 2, 2, 1, 2, 1, 0, 2, 2, 0, 4, 4, 5, 3, 2, 2, 0, 0, 2, 2, 2, 5, 5, 2, 4, 0, 4, 3, 0, 0, 2, 0, 3, 5, 0, 2, 1, 1, 2, 5, 4, 2, 4, 1, 3, 4, 0, 5, 3, 0, 2, 0, 0, 4, 4, 2, 3, 1, 3, 3, 5, 0, 1, 3, 3, 3, 5, 2, 1, 4, 4, 2, 1, 4, 3, 0, 4, 3, 1, 3, 0, 4, 5, 3, 2, 0, 2, 4, 0, 4, 1, 4, 4, 0, 5, 5, 2, 5, 3, 2, 3, 2, 1, 1, 2, 1, 1, 3, 1, 4, 5, 5, 5, 2, 0, 1, 3, 4, 4, 0, 2, 5, 2, 4, 4, 2, 5, 1, 4, 0, 4, 4, 5, 2, 0, 2, 3, 2, 3, 5, 0, 0, 0, 0, 4, 1, 2, 0, 2, 0, 1, 0, 2, 3, 3, 0, 3, 2, 0, 4, 3, 4, 4, 5, 1, 3, 4, 3, 3, 0, 1, 4, 0, 1, 5, 0, 0, 1, 5, 4, 0, 5, 1, 4, 2, 4, 0, 4, 2, 5, 4, 4, 5, 3, 4, 4, 4, 3, 2, 2, 5, 3, 0, 4, 5, 5, 1, 0, 1, 4, 1, 3, 5, 2, 4, 0, 1, 5, 1, 5, 3, 4, 0, 1, 0, 0, 2, 3, 1, 0, 4, 3, 1, 4, 5, 3, 1, 4, 0, 1, 3, 2, 3, 0, 1, 4, 4, 1, 2, 2, 2, 2, 4, 0, 0, 4, 4, 0, 2, 0, 2, 3, 4, 4, 0, 1, 1, 3, 2, 4, 4, 0, 5, 0, 1, 4, 5, 4, 5, 2, 2, 2, 5, 2, 1, 1, 3, 1, 4, 2, 5, 4, 0, 1, 3, 0, 1, 0, 5, 0, 5, 5, 1, 5, 4, 2, 3, 0, 4, 5, 0, 3, 2, 0, 3, 3, 4, 4, 4, 3, 0, 4, 5, 4, 0, 0, 4, 4, 1, 4, 2, 4, 5, 0, 3, 4, 3, 0, 5, 2, 4, 0, 2, 1, 1, 2, 5, 3, 2, 4, 0, 2, 2, 0, 5, 1, 1, 2, 5, 0, 5, 2, 2, 3, 5, 4, 2, 3, 3, 5, 3, 4, 4, 5, 0, 5, 4, 2, 3, 1, 5, 3, 5, 2, 2, 0, 4, 0, 2, 2, 3, 0, 4, 1, 1, 1, 4, 3, 4, 3, 5, 5, 3, 1, 1, 0, 5, 5, 0, 4, 5, 1, 0, 4, 0, 0, 1, 1, 3, 1, 2, 5, 5, 4, 4, 4, 1, 4, 4, 5, 5, 1, 4, 3, 5, 3, 2, 2, 4, 0, 0, 0, 0, 1, 0, 0, 2, 2, 5, 0, 1, 2, 2, 4, 5, 3, 1, 3, 0, 4, 4, 2, 0, 0, 2, 0, 3, 5, 2, 2, 1, 0, 5, 1, 0, 0, 2, 0, 0, 1, 3, 3, 5, 1, 0, 3, 3, 5, 4, 4, 2, 1, 0, 3, 5, 0, 0, 2, 0, 2, 3, 3, 2, 2, 1, 2, 5, 4, 1, 4, 2, 1, 2, 2, 2, 4, 0, 5, 1, 2, 0, 2, 0, 1, 2, 1, 5, 4, 1, 4, 2, 4, 0, 4, 4, 2, 4, 0, 4, 3, 0, 4, 1, 2, 4, 5, 4, 1, 0, 3, 1, 2, 3, 1, 1, 4, 0, 0, 4, 2, 5, 1, 1, 0, 3, 0, 2, 3, 0, 4, 4, 0, 0, 4, 2, 4, 2, 3, 2, 0, 2, 5, 1, 3, 2, 5, 0, 2, 2, 3, 1, 1, 2, 2, 5, 2, 5, 1, 3, 3, 1, 1, 5, 1, 3, 4, 1, 3, 0, 2, 5, 0, 4, 2, 2, 0, 1, 1, 3, 2, 4, 2, 2, 4, 0, 3, 3, 5, 4, 0, 2, 4, 4, 4, 3, 3, 5, 5, 0, 0, 3, 5, 4, 5, 4, 1, 3, 1, 4, 1, 3, 0, 2, 5, 1, 3, 2, 2, 5, 2, 2, 1, 4, 0, 1, 3, 0, 3, 5, 0, 1, 2, 0, 5, 3, 0, 5, 2, 4, 5, 0, 4, 0, 1, 0, 3, 1, 0, 5, 4, 3, 3, 3, 2, 0, 1, 2, 5, 5, 3, 2, 0, 4, 3, 5, 2, 5, 0, 0, 1, 2, 1, 0, 2, 1, 0, 1, 0, 2, 4, 0, 0, 0, 5, 4, 2, 1, 5, 5, 4, 0, 5, 3, 2, 4, 4, 5, 4, 1, 1, 4, 0, 5, 3, 1, 5, 3, 2, 0, 3, 0, 5, 1, 0, 3, 4, 0, 0, 0, 1, 3, 1, 5, 5, 1, 2, 0, 0, 3, 4, 2, 1, 1, 2, 2, 1, 5, 0, 3, 1, 4, 4, 2, 2, 2, 3, 3, 2, 0, 4, 4, 3, 2, 1, 0, 3, 2, 2, 1, 1, 1, 1, 3, 3, 0, 0, 2, 3, 0, 3, 0, 2, 0, 0, 2, 0, 5, 5, 1, 4, 1, 1, 1, 2, 2, 2, 5, 0, 5, 2, 0, 4, 0, 1, 1, 0, 0, 4, 1, 3, 2, 2, 0, 0, 3, 4, 2, 2, 4, 0, 2, 0, 2, 4, 3, 3, 0, 0, 5, 5, 1, 2, 2, 1, 2, 4, 0, 0, 4, 5, 5, 0, 4, 0, 4, 0, 5, 5, 0, 2, 3, 0, 5, 2, 2, 2, 5, 0, 0, 2, 5, 3, 3, 2, 1, 4, 2, 2, 0, 1, 2, 4, 3, 1, 5, 2, 2, 1, 0, 3, 3, 4, 4, 3, 0, 5, 0, 2, 3, 3, 2, 2, 1, 0, 1, 5, 0, 5, 5, 2, 4, 2, 2, 3, 4, 2, 2, 1, 1, 1, 0, 1, 5, 0, 4, 5, 1, 3, 4, 5, 4, 0, 0, 5, 0, 2, 0, 3, 4, 0, 4, 5, 0, 1, 5, 1, 4, 5, 3, 4, 4, 2, 4, 4, 1, 2, 1, 2, 2, 2, 0, 0, 3, 3, 3, 4, 3, 2, 5, 4, 0, 5, 3, 2, 5, 0, 0, 4, 4, 0, 4, 1, 5, 1, 5, 3, 0, 4, 1, 4, 5, 3, 0, 2, 5, 0, 3, 0, 5, 3, 4, 0, 2, 5, 1, 3, 3, 2, 1, 4, 0, 1, 0, 1, 0, 1, 2, 2, 3, 0, 5, 5, 4, 0, 4, 2, 0, 5, 0, 0, 2, 1, 1, 5, 4, 2, 3, 1, 5, 0, 4, 3, 4, 1, 3, 4, 0, 0, 0, 2, 5, 4, 0, 0, 3, 1, 3, 2, 0, 4, 2, 4, 0, 0, 5, 2, 4, 2, 5, 4, 1, 1, 1, 4, 3, 1, 1, 1, 2, 2, 2, 0, 0, 1, 3, 4, 4, 2, 1, 2, 3, 0, 4, 3, 1, 5, 4, 0, 3, 4, 5, 2, 1, 4, 3, 4, 3, 0, 1, 4, 5, 1, 1, 5, 2, 0, 0, 2, 1, 1, 2, 0, 4, 1, 2, 4, 3, 2, 2, 3, 5, 3, 2, 5, 2, 2, 1, 3, 5, 3, 4, 0, 0, 0, 5, 5, 1, 3, 3, 2, 0, 2, 5, 5, 4, 5, 3, 1, 1, 2, 0, 0, 5, 5, 1, 4, 4, 1, 1, 0, 4, 1, 4, 1, 5, 1, 1, 3, 0, 2, 2, 3, 5, 2, 5, 4, 2, 4, 4, 5, 4, 1, 3, 1, 2, 1, 1, 4, 1, 0, 2, 0, 0, 0, 5, 3, 0, 5, 2, 3, 5, 0, 0, 2, 4, 3, 0, 3, 3, 3, 5, 0, 2, 5, 5, 5, 0, 0, 0, 5, 1, 2, 2, 2, 2, 0, 0, 0, 1, 2, 5, 0, 3, 5, 1, 4, 5, 5, 5, 2, 3, 2, 3, 1, 0, 3, 4, 3, 1, 5, 1, 0, 1, 4, 0, 4, 3, 3, 1, 0, 4, 1, 0, 0, 3, 2, 5, 1, 0, 0, 1, 1, 1, 3, 0, 1, 2, 5, 1, 3, 5, 0, 0, 1, 2, 1, 1, 3, 2, 1, 3, 4, 2, 4, 5, 3, 4, 4, 1, 2, 5, 4, 5, 4, 5, 5, 0, 2, 3, 3, 1, 2, 0, 3, 1, 1, 1, 2, 1, 3, 0, 3, 0, 3, 3, 4, 2, 3, 5, 3, 1, 5, 1, 1, 2, 1, 1, 0, 0, 0, 2, 4, 2, 1, 1, 4, 4, 5, 4, 0, 0, 1, 2, 0, 0, 0, 0, 2, 3, 5, 1, 2, 0, 3, 3, 0, 3, 2, 0, 4, 3, 5, 3, 3, 4, 2, 1, 1, 4, 0, 5, 0, 3, 2, 1, 1, 2, 2, 3, 5, 0, 3, 3, 2, 0, 3, 1, 4, 0, 4, 5, 0, 4, 0, 3, 4, 5, 3, 0, 0, 0, 5, 4, 3, 0, 3, 1, 0, 3, 2, 3, 1, 3, 0, 1, 1, 0, 3, 0, 5, 4, 3, 1, 3, 3, 0, 5, 1, 1, 4, 4, 2, 1, 3, 4, 1, 2, 2, 3, 3, 0, 1, 1, 1, 1, 5, 3, 0, 5, 1, 4, 5, 4, 0, 1, 1, 5, 1, 4, 3, 0, 0, 4, 4, 2, 0, 5, 1, 4, 5, 2, 1, 4, 2, 4, 2, 4, 4, 2, 3, 5, 0, 3, 3, 2, 5, 5, 5, 4, 1, 2, 1, 0, 2, 4, 4, 3, 4, 3, 3, 1, 3, 2, 4, 3, 4, 1, 4, 5, 5, 0, 1, 0, 5, 0, 0, 5, 5, 4, 2, 3, 2, 3, 2, 0, 3, 0, 2, 0, 3, 2, 3, 4, 0, 5, 4, 3, 5, 3, 0, 2, 2, 2, 4, 1, 1, 3, 4, 5, 5, 0, 5, 3, 1, 2, 1, 0, 3, 3, 3, 4, 1, 2, 2, 3, 1, 3, 1, 3, 5, 4, 4, 0, 0, 0, 0, 2, 5, 3, 3, 5, 5, 3, 5, 4, 5, 1, 2, 0, 5, 1, 5, 2, 4, 2, 2, 4, 4, 1, 0, 5, 4, 4, 0, 0, 1, 3, 2, 1, 5, 3, 2, 1, 5, 1, 3, 4, 1, 1, 2, 3, 5, 4, 2, 2, 4, 0, 4, 3, 2, 1, 5, 2, 3, 1, 0, 5, 1, 5, 4, 0, 0, 0, 1, 3, 5, 5, 3, 4, 2, 4, 4, 0, 0, 1, 3, 4, 3, 2, 0, 1, 2, 5, 0, 5, 0, 4, 1, 0, 1, 1, 4, 0, 3, 1, 0, 1, 1, 2, 4, 3, 4, 1, 4, 1, 4, 5, 0, 3, 0, 0, 0, 1, 1, 1, 3, 1, 0, 3, 4, 1, 4, 1, 2, 5, 0, 2, 1, 2, 1, 2, 2, 2, 5, 5, 4, 4, 2, 0, 0, 0, 2, 0, 4, 2, 4, 5, 2, 0, 5, 3, 5, 5, 1, 2, 2, 5, 4, 5, 2, 2, 0, 2, 5, 1, 4, 3, 5, 0, 3, 1, 4, 1, 4, 0, 3, 0, 3, 0, 0, 1, 2, 4, 0, 0, 4, 2, 0, 4, 3, 1, 4, 1, 4, 3, 0, 4, 1, 5, 3, 5, 3, 0, 5, 4, 1, 4, 1, 4, 3, 0, 0, 3, 3, 1, 0, 4, 4, 5, 5, 4, 1, 2, 2, 2, 3, 4, 5, 2, 2, 4, 0, 1, 1, 2, 3, 3, 0, 4, 3, 3, 1, 5, 1, 1, 2, 3, 5, 4, 0, 1, 4, 1, 3, 1, 1, 0, 0, 3, 0, 5, 2, 2, 3, 0, 2, 4, 1, 1, 1, 3, 4, 3, 2, 0, 0, 4, 4, 5, 0, 2, 1, 2, 2, 0, 5, 5, 4, 0, 0, 4, 3, 3, 1, 5, 5, 5, 4, 3, 4, 0, 3, 0, 2, 4, 5, 1, 0, 4, 2, 3, 0, 0, 2, 0, 5, 4, 1, 1, 0, 2, 1, 3, 2, 4, 4, 2, 3, 4, 1, 5, 1, 0, 3, 4, 1, 0, 5, 0, 4, 1, 1, 0, 1, 4, 5, 2, 1, 0, 1, 0, 4, 5, 0, 3, 4, 5, 4, 3, 3, 3, 2, 0, 4, 4, 2, 3, 2, 0, 4, 0, 3, 4, 1, 2, 1, 5, 3, 2, 3, 5, 5, 1, 4, 4, 0, 0, 2, 0, 0, 4, 0, 1, 0, 4, 3, 1, 4, 4, 2, 1, 0, 2, 2, 2, 5, 0, 2, 4, 0, 2, 3, 1, 0, 0, 2, 1, 3, 0, 4, 1, 1, 1, 3, 0, 5, 0, 1, 4, 2, 5, 1, 2, 0, 2, 3, 4, 4, 3, 1, 2, 3, 0, 0, 0, 4, 2, 0, 5, 5, 5, 0, 4, 0, 5, 3, 0, 2, 4, 0, 2, 5, 1, 0, 4, 1, 4, 0, 4, 2, 0, 4, 2, 2, 5, 2, 0, 3, 4, 0, 2, 2, 3, 1, 3, 3, 3, 2, 5, 2, 1, 4, 2, 1, 0, 3, 4, 2, 1, 5, 3, 4, 3, 1, 5, 1, 3, 4, 0, 0, 2, 0, 3, 5, 0, 4, 5, 4, 4, 0, 2, 4, 3, 1, 2, 0, 0, 2, 4, 0, 0, 1, 5, 3, 1, 0, 2, 1, 2, 4, 0, 0, 3, 1, 0, 3, 2, 2, 5, 0, 5, 5, 3, 5, 1, 3, 2, 2, 1, 1, 1, 4, 5, 0, 0, 5, 4, 1, 3, 2, 3, 3, 5, 5, 0, 2, 3, 2, 1, 2, 4, 2, 3, 5, 0, 1, 1, 0, 0, 1, 3, 2, 1, 1, 0, 1, 4, 2, 3, 3, 2, 3, 5, 3, 0, 4, 2, 0, 3, 4, 4, 5, 2, 1, 1, 3, 3, 0, 2, 4, 1, 1, 5, 4, 2, 2, 1, 5, 5, 2, 3, 1, 3, 2, 3, 3, 5, 3, 2, 3, 5, 1, 2, 5, 5, 3, 1, 1, 1, 0, 1, 3, 1, 3, 1, 1, 3, 1, 1, 1, 2, 0, 3, 4, 3, 2, 1, 4, 5, 3, 5, 4, 1, 1, 4, 0, 0, 1, 0, 5, 0, 0, 3, 0, 2, 0, 5, 5, 0, 3, 5, 3, 4, 0, 2, 5, 0, 4, 1, 1, 2, 5, 2, 3, 5, 0, 2, 2, 3, 5, 0, 3, 4, 3, 0, 4, 4, 5, 1, 0, 0, 1, 2, 3, 5, 1, 2, 3, 1, 5, 2, 2, 0, 3, 4, 1, 2, 2, 1, 2, 1, 5, 4, 0, 3, 2, 5, 2, 0, 5, 5, 1, 1, 2, 3, 3, 0, 0, 3, 2, 2, 4, 0, 2, 0, 0, 1, 2, 2, 0, 0, 3, 3, 1, 0, 3, 2, 5, 0, 0, 0, 5, 4, 5, 1, 1, 1, 0, 1, 2, 5, 1, 3, 2, 0, 4, 3, 3, 1, 4, 1, 5, 0, 3, 1, 0, 0, 5, 2, 1, 3, 0, 4, 2, 1, 3, 0, 4, 2, 3, 0, 1, 5, 0, 4, 5, 2, 2, 3, 5, 4, 1, 0, 5, 4, 1, 1, 1, 5, 2, 1, 0, 1, 5, 1, 4, 2, 5, 0, 5, 4, 1, 4, 1, 0, 4, 0, 1, 3, 3, 0, 2, 1, 2, 0, 1, 1, 0, 2, 1, 0, 1, 0, 5, 4, 2, 1, 3, 3, 4, 1, 0, 2, 3, 0, 1, 4, 2, 5, 1, 0, 3, 0, 2, 3, 0, 1, 0, 4, 1, 0, 1, 5, 2, 4, 5, 5, 2, 3, 0, 1, 1, 3, 5, 1, 0, 5, 1, 2, 0, 1, 4, 0, 2, 5, 4, 0, 3, 0, 0, 3, 4, 5, 0, 2, 2, 5, 5, 3, 2, 1, 2, 1, 2, 1, 2, 1, 0, 0, 4, 5, 4, 1, 1, 2, 0, 4, 0, 2, 2, 4, 3, 4, 3, 1, 0, 2, 3, 5, 0, 2, 0, 3, 5, 2, 1, 5, 4, 5, 3, 1, 2, 2, 2, 4, 1, 4, 5, 2, 3, 3, 4, 2, 3, 5, 4, 0, 1, 0, 1, 2, 2, 0, 4, 3, 0, 1, 0, 1, 4, 1, 3, 2, 4, 3, 2, 4, 1, 4, 3, 2, 1, 0, 1, 2, 4, 1, 4, 5, 4, 2, 4, 4, 5, 4, 1, 0, 2, 2, 1, 3, 0, 4, 1, 5, 1, 0, 1, 4, 5, 0, 0, 2, 1, 1, 1, 3, 4, 0, 1, 5, 5, 0, 4, 5, 2, 0, 4, 5, 0, 0, 1, 2, 0, 4, 2, 0, 3, 0, 5, 0, 1, 4, 3, 4, 0, 5, 3, 4, 2, 1, 3, 2, 0, 0, 1, 3, 1, 3, 0, 5, 4, 0, 1, 3, 2, 3, 4, 3, 5, 3, 0, 2, 0, 4, 4, 0, 3, 0, 0, 5, 0, 1, 1, 0, 2, 3, 0, 0, 1, 1, 4, 5, 3, 0, 3, 1, 0, 2, 1, 0, 1, 0, 4, 3, 3, 3, 1, 2, 5, 0, 2, 3, 2, 4, 4, 5, 0, 4, 0, 5, 4, 0, 3, 1, 5, 4, 5, 4, 1, 5, 0, 4, 5, 1, 2, 0, 0, 0, 3, 1, 5, 4, 2, 2, 2, 5, 3, 2, 1, 0, 0, 3, 0, 0, 0, 0, 0, 1, 2, 1, 5, 3, 2, 2, 3, 4, 1, 1, 0, 3, 3, 2, 0, 2, 3, 0, 1, 2, 4, 3, 2, 3, 2, 2, 2, 0, 4, 2, 5, 3, 0, 3, 3, 3, 0, 0, 0, 1, 1, 3, 4, 3, 2, 0, 5, 3, 1, 1, 0, 3, 1, 5, 3, 1, 5, 4, 5, 1, 0, 3, 2, 4, 3, 4, 1, 1, 1, 4, 3, 4, 0, 2, 2, 0, 1, 2, 2, 2, 1, 4, 0, 3, 3, 0, 4, 3, 3, 3, 4, 4, 4, 4, 5, 0, 3, 0, 4, 4, 0, 5, 0, 0, 2, 4, 4, 3, 5, 5, 5, 0, 1, 1, 0, 5, 5, 2, 2, 3, 4, 4, 2, 2, 0, 5, 2, 0, 0, 2, 3, 2, 4, 2, 2, 1, 4, 0, 5, 5, 0, 2, 0, 3, 5, 5, 0, 0, 4, 2, 2, 0, 1, 1, 0, 0, 1, 0, 3, 0, 2, 5, 4, 1, 2, 2, 3, 5, 3, 0, 0, 2, 3, 5, 3, 2, 2, 2, 0, 2, 2, 5, 3, 0, 5, 0, 2, 1, 0, 1, 3, 0, 2, 0, 5, 5, 3, 4, 3, 2, 3, 5, 1, 5, 3, 4, 3, 5, 1, 5, 3, 0, 3, 5, 4, 3, 3, 2, 1, 5, 1, 1, 0, 2, 0, 4, 3, 1, 0, 3, 3, 0, 2, 4, 5, 1, 1, 5, 3, 0, 5, 0, 4, 0, 0, 4, 0, 2, 0, 1, 5, 3, 3, 5, 1, 1, 2, 4, 4, 2, 3, 2, 2, 5, 0, 3, 3, 3, 1, 3, 4, 3, 3, 0, 1, 0, 1, 1, 0, 2, 1, 4, 1, 0, 4, 0, 4, 2, 1, 2, 3, 4, 3, 0, 1, 0, 4, 1, 0, 1, 0, 5, 5, 0, 4, 5, 2, 3, 1, 0, 0, 5, 0, 4, 2, 3, 4, 1, 2, 4, 0, 3, 4, 2, 0, 2, 2, 2, 3, 0, 5, 4, 4, 2, 1, 2, 0, 4, 3, 1, 0, 2, 1, 5, 1, 5, 1, 2, 0, 5, 5, 0, 2, 1, 2, 0, 3, 3, 4, 2, 3, 2, 4, 0, 2, 2, 2, 2, 1, 2, 0, 0, 0, 1, 2, 5, 1, 4, 4, 3, 2, 2, 0, 1, 1, 4, 1, 2, 5, 3, 4, 5, 4, 2, 5, 4, 3, 0, 2, 1, 2, 0, 1, 4, 2, 2, 0, 1, 5, 5, 0, 4, 0, 2, 5, 4, 3, 3, 4, 5, 0, 4, 5, 3, 3, 1, 0, 5, 1, 2, 4, 0, 2, 0, 4, 5, 5, 4, 2, 5, 5, 3, 1, 2, 3, 2, 5, 3, 3, 0, 4, 4, 3, 1, 0, 5, 3, 0, 4, 5, 2, 1, 3, 4, 0, 1, 0, 3, 2, 0, 4, 4, 4, 1, 1, 4, 1, 4, 1, 1, 0, 1, 3, 2, 3, 0, 0, 0, 3, 2, 4, 1, 0, 3, 3, 0, 2, 3, 0, 1, 1, 4, 3, 3, 3, 5, 1, 4, 4, 1, 1, 5, 4, 0, 5, 1, 5, 5, 1, 4, 0, 2, 4, 1, 3, 1, 3, 2, 3, 4, 1, 2, 0, 3, 5, 3, 4, 2, 0, 0, 5, 5, 4, 5, 3, 4, 5, 0, 3, 5, 1, 3, 4, 5, 1, 1, 5, 3, 2, 4, 4, 2, 5, 3, 5, 1, 4, 5, 2, 2, 1, 1, 3, 0, 0, 4, 3, 4, 5, 0, 2, 2, 2, 0, 1, 2, 2, 0, 2, 2, 2, 0, 0, 1, 1, 1, 4, 2, 5, 4, 0, 5, 4, 2, 4, 2, 0, 0, 2, 5, 1, 0, 4, 3, 0, 0, 2, 0, 2, 0, 1, 2, 5, 3, 0, 0, 2, 4, 5, 4, 5, 1, 4, 0, 4, 1, 0, 4, 5, 1, 5, 4, 2, 5, 1, 3, 0, 0, 1, 2, 3, 0, 2, 5, 3, 4, 2, 3, 5, 4, 0, 0, 3, 2, 0, 5, 2, 3, 4, 5, 3, 5, 0, 0, 3, 0, 5, 2, 1, 2, 0, 4, 3, 2, 1, 5, 2, 0, 0, 5, 0, 1, 5, 3, 1, 1, 5, 4, 2, 5, 0, 1, 2, 0, 0, 0, 1, 2, 0, 1, 4, 0, 2, 0, 4, 3, 0, 3, 5, 5, 2, 1, 4, 0, 4, 1, 0, 4, 2, 3, 1, 2, 5, 4, 5, 0, 4, 2, 5, 5, 2, 2, 4, 1, 4, 0, 1, 5, 3, 0, 4, 1, 2, 4, 4, 2, 2, 2, 2, 4, 2, 2, 0, 4, 2, 0, 3, 0, 2, 1, 0, 1, 3, 0, 0, 1, 2, 2, 0, 2, 4, 5, 5, 2, 5, 2, 4, 4, 1, 1, 3, 3, 2, 5, 5, 3, 1, 4, 1, 3, 2, 5, 4, 5, 0, 4, 4, 3, 4, 2, 0, 5, 2, 2, 5, 5, 4, 1, 3, 3, 1, 5, 5, 2, 2, 5, 1, 2, 2, 4, 1, 2, 1, 0, 4, 1, 2, 1, 4, 0, 1, 1, 0, 3, 2, 3, 2, 2, 5, 1, 0, 0, 2, 2, 5, 1, 5, 4, 1, 5, 5, 3, 1, 4, 0, 2, 2, 1, 4, 0, 2, 3, 0, 5, 5, 0, 1, 4, 1, 5, 3, 0, 5, 0, 5, 4, 5, 2, 2, 0, 3, 1, 0, 2, 4, 2, 2, 2, 2, 1, 3, 4, 3, 2, 1, 1, 0, 0, 2, 2, 1, 4, 3, 0, 1, 0, 0, 3, 4, 1, 2, 0, 1, 5, 1, 4, 0, 3, 1, 2, 4, 1, 0, 1, 2, 3, 0, 1, 4, 0, 0, 4, 4, 4, 5, 0, 0, 1, 3, 5, 2, 2, 2, 2, 4, 1, 2, 4, 5, 0, 0, 2, 5, 0, 5, 3, 1, 2, 2, 4, 5, 0, 4, 2, 0, 1, 5, 2, 5, 1, 4, 4, 4, 3, 0, 3, 0, 3, 1, 2, 3, 5, 4, 0, 4, 0, 5, 2, 1, 4, 0, 0, 4, 1, 2, 5, 2, 0, 2, 1, 2, 4, 5, 1, 3, 5, 4, 5, 5, 3, 3, 1, 5, 1, 5, 3, 5, 2, 0, 4, 5, 5, 1, 0, 0, 4, 1, 0, 0, 0, 4, 3, 4, 5, 2, 4, 3, 3, 3, 4, 0, 3, 2, 0, 0, 1, 1, 0, 4, 0, 4, 4, 5, 5, 0, 0, 1, 3, 4, 2, 0, 1, 1, 0, 4, 3, 5, 5, 3, 4, 4, 5, 0, 1, 4, 4, 2, 4, 1, 4, 4, 5, 4, 2, 4, 3, 0, 0, 0, 2, 2, 4, 3, 0, 0, 3, 0, 3, 0, 0, 4, 2, 1, 3, 3, 1, 1, 1, 3, 3, 4, 1, 2, 1, 4, 5, 3, 3, 4, 1, 0, 2, 0, 1, 4, 0, 2, 1, 1, 1, 4, 4, 2, 2, 5, 2, 0, 1, 3, 1, 0, 3, 2, 3, 0, 2, 2, 1, 4, 1, 3, 3, 0, 1, 2, 1, 3, 1, 5, 4, 3, 3, 4, 1, 3, 5, 1, 2, 4, 4, 2, 0, 5, 3, 0, 1, 3, 0, 5, 3, 5, 5, 1, 0, 5, 3, 2, 2, 2, 2, 4, 2, 1, 5, 3, 1, 2, 0, 5, 5, 4, 4, 2, 3, 2, 5, 3, 0, 1, 0, 5, 2, 2, 0, 1, 1, 4, 2, 0, 2, 0, 1, 5, 2, 4]\n"
          ]
        }
      ]
    },
    {
      "cell_type": "markdown",
      "source": [
        "Building the predictive system"
      ],
      "metadata": {
        "id": "aUNqvM-U9Kp8"
      }
    },
    {
      "cell_type": "code",
      "source": [
        "# input data  -->  this is where we access the EEG data\n",
        "input_data = (2, 3, 1, 2, 5, 4, 0, 1, 5, 0, 2, 2, 3, 0, 4)\n",
        "\n",
        "# change the input_data to a numpy array\n",
        "input_data_as_numpy_array = np.asarray(input_data)\n",
        "\n",
        "# reshape the numpy array as we are predicting for one data point\n",
        "input_data_reshaped = input_data_as_numpy_array.reshape(1,-1)\n",
        "\n",
        "# standardizing the input data\n",
        "input_data_std = scaler.transform(input_data_reshaped)\n",
        "\n",
        "prediction = model.predict(input_data_std)\n",
        "print(prediction)\n",
        "\n",
        "prediction_label = [np.argmax(prediction)]\n",
        "print(prediction_label)\n",
        "\n",
        "if(prediction_label[0] == 0):\n",
        "  print('The classify is Seizure')\n",
        "\n",
        "elif(prediction_label[0] == 1):\n",
        "  print('The classify is GRDA')\n",
        "\n",
        "elif(prediction_label[0] == 2):\n",
        "  print('The classify is Other')\n",
        "\n",
        "elif(prediction_label[0] == 3):\n",
        "  print('The classify is GPD')\n",
        "\n",
        "elif(prediction_label[0] == 4):\n",
        "  print('The classify is LRDA')\n",
        "\n",
        "else:\n",
        "  print('The classify is LPD')"
      ],
      "metadata": {
        "colab": {
          "base_uri": "https://localhost:8080/"
        },
        "id": "OelUFFPs9LNv",
        "outputId": "1c796967-ae7b-4332-ad69-952210b863cf"
      },
      "execution_count": null,
      "outputs": [
        {
          "output_type": "stream",
          "name": "stdout",
          "text": [
            "1/1 [==============================] - 0s 38ms/step\n",
            "[[5.3403012e-14 1.2939124e-13 1.9569338e-08 8.9986749e-02 9.9938697e-01\n",
            "  9.9999338e-01]]\n",
            "[5]\n",
            "The classify is LPD\n"
          ]
        },
        {
          "output_type": "stream",
          "name": "stderr",
          "text": [
            "/usr/local/lib/python3.10/dist-packages/sklearn/base.py:439: UserWarning: X does not have valid feature names, but StandardScaler was fitted with feature names\n",
            "  warnings.warn(\n"
          ]
        }
      ]
    }
  ],
  "metadata": {
    "colab": {
      "provenance": [],
      "authorship_tag": "ABX9TyM+3plv7WUAK7WjVtAKdKMY",
      "include_colab_link": true
    },
    "kernelspec": {
      "display_name": "Python 3",
      "name": "python3"
    },
    "language_info": {
      "name": "python"
    }
  },
  "nbformat": 4,
  "nbformat_minor": 0
}